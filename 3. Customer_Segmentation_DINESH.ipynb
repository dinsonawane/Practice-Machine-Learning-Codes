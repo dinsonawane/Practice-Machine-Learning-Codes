{
 "cells": [
  {
   "cell_type": "markdown",
   "id": "3290c51c",
   "metadata": {},
   "source": [
    "## Shopping mall project - clustering of customers and trend indentification of sales\n",
    "### By Dinesh Sonawane"
   ]
  },
  {
   "cell_type": "markdown",
   "id": "f539c809",
   "metadata": {},
   "source": [
    "### Problem Statement:\n",
    "- PART 1: Segment (group/cluster) customers on the basis of buying better RFM (Recency Frequency Monetary)\n",
    "- PART 2: Sales trends for day month season time by invoice number/customer ID\n",
    "- PART 3: Higher sales trend item wise"
   ]
  },
  {
   "cell_type": "code",
   "execution_count": 3,
   "id": "cdf82a70",
   "metadata": {},
   "outputs": [
    {
     "data": {
      "text/plain": [
       "'C:\\\\Users\\\\HP\\\\OneDrive\\\\Desktop\\\\LearnBay\\\\4. Machine Learning\\\\Practice_Customer_Segmentation'"
      ]
     },
     "execution_count": 3,
     "metadata": {},
     "output_type": "execute_result"
    }
   ],
   "source": [
    "# Importing necessary libraries\n",
    "import pandas as pd\n",
    "import numpy as np\n",
    "import matplotlib.pyplot as plt\n",
    "%matplotlib inline\n",
    "import warnings\n",
    "warnings.filterwarnings('ignore')\n",
    "import os\n",
    "os.getcwd()"
   ]
  },
  {
   "cell_type": "code",
   "execution_count": 630,
   "id": "2c20ef50",
   "metadata": {},
   "outputs": [
    {
     "data": {
      "text/html": [
       "<div>\n",
       "<style scoped>\n",
       "    .dataframe tbody tr th:only-of-type {\n",
       "        vertical-align: middle;\n",
       "    }\n",
       "\n",
       "    .dataframe tbody tr th {\n",
       "        vertical-align: top;\n",
       "    }\n",
       "\n",
       "    .dataframe thead th {\n",
       "        text-align: right;\n",
       "    }\n",
       "</style>\n",
       "<table border=\"1\" class=\"dataframe\">\n",
       "  <thead>\n",
       "    <tr style=\"text-align: right;\">\n",
       "      <th></th>\n",
       "      <th>InvoiceNo</th>\n",
       "      <th>StockCode</th>\n",
       "      <th>lower</th>\n",
       "      <th>Description</th>\n",
       "      <th>Quantity</th>\n",
       "      <th>InvoiceDate</th>\n",
       "      <th>UnitPrice</th>\n",
       "      <th>CustomerID</th>\n",
       "      <th>Country</th>\n",
       "    </tr>\n",
       "  </thead>\n",
       "  <tbody>\n",
       "    <tr>\n",
       "      <th>0</th>\n",
       "      <td>536365</td>\n",
       "      <td>85123A</td>\n",
       "      <td>white hanging heart t-light holder</td>\n",
       "      <td>WHITE HANGING HEART T-LIGHT HOLDER</td>\n",
       "      <td>6</td>\n",
       "      <td>2010-12-01 08:26:00</td>\n",
       "      <td>2.55</td>\n",
       "      <td>17850.0</td>\n",
       "      <td>United Kingdom</td>\n",
       "    </tr>\n",
       "    <tr>\n",
       "      <th>1</th>\n",
       "      <td>536365</td>\n",
       "      <td>71053</td>\n",
       "      <td>white metal lantern</td>\n",
       "      <td>WHITE METAL LANTERN</td>\n",
       "      <td>6</td>\n",
       "      <td>2010-12-01 08:26:00</td>\n",
       "      <td>3.39</td>\n",
       "      <td>17850.0</td>\n",
       "      <td>United Kingdom</td>\n",
       "    </tr>\n",
       "    <tr>\n",
       "      <th>2</th>\n",
       "      <td>536365</td>\n",
       "      <td>84406B</td>\n",
       "      <td>cream cupid hearts coat hanger</td>\n",
       "      <td>CREAM CUPID HEARTS COAT HANGER</td>\n",
       "      <td>8</td>\n",
       "      <td>2010-12-01 08:26:00</td>\n",
       "      <td>2.75</td>\n",
       "      <td>17850.0</td>\n",
       "      <td>United Kingdom</td>\n",
       "    </tr>\n",
       "    <tr>\n",
       "      <th>3</th>\n",
       "      <td>536365</td>\n",
       "      <td>84029G</td>\n",
       "      <td>knitted union flag hot water bottle</td>\n",
       "      <td>KNITTED UNION FLAG HOT WATER BOTTLE</td>\n",
       "      <td>6</td>\n",
       "      <td>2010-12-01 08:26:00</td>\n",
       "      <td>3.39</td>\n",
       "      <td>17850.0</td>\n",
       "      <td>United Kingdom</td>\n",
       "    </tr>\n",
       "    <tr>\n",
       "      <th>4</th>\n",
       "      <td>536365</td>\n",
       "      <td>84029E</td>\n",
       "      <td>red woolly hottie white heart.</td>\n",
       "      <td>RED WOOLLY HOTTIE WHITE HEART.</td>\n",
       "      <td>6</td>\n",
       "      <td>2010-12-01 08:26:00</td>\n",
       "      <td>3.39</td>\n",
       "      <td>17850.0</td>\n",
       "      <td>United Kingdom</td>\n",
       "    </tr>\n",
       "    <tr>\n",
       "      <th>5</th>\n",
       "      <td>536365</td>\n",
       "      <td>22752</td>\n",
       "      <td>set 7 babushka nesting boxes</td>\n",
       "      <td>SET 7 BABUSHKA NESTING BOXES</td>\n",
       "      <td>2</td>\n",
       "      <td>2010-12-01 08:26:00</td>\n",
       "      <td>7.65</td>\n",
       "      <td>17850.0</td>\n",
       "      <td>United Kingdom</td>\n",
       "    </tr>\n",
       "    <tr>\n",
       "      <th>6</th>\n",
       "      <td>536365</td>\n",
       "      <td>21730</td>\n",
       "      <td>glass star frosted t-light holder</td>\n",
       "      <td>GLASS STAR FROSTED T-LIGHT HOLDER</td>\n",
       "      <td>6</td>\n",
       "      <td>2010-12-01 08:26:00</td>\n",
       "      <td>4.25</td>\n",
       "      <td>17850.0</td>\n",
       "      <td>United Kingdom</td>\n",
       "    </tr>\n",
       "    <tr>\n",
       "      <th>7</th>\n",
       "      <td>536366</td>\n",
       "      <td>22633</td>\n",
       "      <td>hand warmer union jack</td>\n",
       "      <td>HAND WARMER UNION JACK</td>\n",
       "      <td>6</td>\n",
       "      <td>2010-12-01 08:28:00</td>\n",
       "      <td>1.85</td>\n",
       "      <td>17850.0</td>\n",
       "      <td>United Kingdom</td>\n",
       "    </tr>\n",
       "    <tr>\n",
       "      <th>8</th>\n",
       "      <td>536366</td>\n",
       "      <td>22632</td>\n",
       "      <td>hand warmer red polka dot</td>\n",
       "      <td>HAND WARMER RED POLKA DOT</td>\n",
       "      <td>6</td>\n",
       "      <td>2010-12-01 08:28:00</td>\n",
       "      <td>1.85</td>\n",
       "      <td>17850.0</td>\n",
       "      <td>United Kingdom</td>\n",
       "    </tr>\n",
       "    <tr>\n",
       "      <th>9</th>\n",
       "      <td>536367</td>\n",
       "      <td>84879</td>\n",
       "      <td>assorted colour bird ornament</td>\n",
       "      <td>ASSORTED COLOUR BIRD ORNAMENT</td>\n",
       "      <td>32</td>\n",
       "      <td>2010-12-01 08:34:00</td>\n",
       "      <td>1.69</td>\n",
       "      <td>13047.0</td>\n",
       "      <td>United Kingdom</td>\n",
       "    </tr>\n",
       "  </tbody>\n",
       "</table>\n",
       "</div>"
      ],
      "text/plain": [
       "  InvoiceNo StockCode                                lower  \\\n",
       "0    536365    85123A   white hanging heart t-light holder   \n",
       "1    536365     71053                  white metal lantern   \n",
       "2    536365    84406B       cream cupid hearts coat hanger   \n",
       "3    536365    84029G  knitted union flag hot water bottle   \n",
       "4    536365    84029E       red woolly hottie white heart.   \n",
       "5    536365     22752         set 7 babushka nesting boxes   \n",
       "6    536365     21730    glass star frosted t-light holder   \n",
       "7    536366     22633               hand warmer union jack   \n",
       "8    536366     22632            hand warmer red polka dot   \n",
       "9    536367     84879        assorted colour bird ornament   \n",
       "\n",
       "                           Description  Quantity         InvoiceDate  \\\n",
       "0   WHITE HANGING HEART T-LIGHT HOLDER         6 2010-12-01 08:26:00   \n",
       "1                  WHITE METAL LANTERN         6 2010-12-01 08:26:00   \n",
       "2       CREAM CUPID HEARTS COAT HANGER         8 2010-12-01 08:26:00   \n",
       "3  KNITTED UNION FLAG HOT WATER BOTTLE         6 2010-12-01 08:26:00   \n",
       "4       RED WOOLLY HOTTIE WHITE HEART.         6 2010-12-01 08:26:00   \n",
       "5         SET 7 BABUSHKA NESTING BOXES         2 2010-12-01 08:26:00   \n",
       "6    GLASS STAR FROSTED T-LIGHT HOLDER         6 2010-12-01 08:26:00   \n",
       "7               HAND WARMER UNION JACK         6 2010-12-01 08:28:00   \n",
       "8            HAND WARMER RED POLKA DOT         6 2010-12-01 08:28:00   \n",
       "9        ASSORTED COLOUR BIRD ORNAMENT        32 2010-12-01 08:34:00   \n",
       "\n",
       "   UnitPrice  CustomerID         Country  \n",
       "0       2.55     17850.0  United Kingdom  \n",
       "1       3.39     17850.0  United Kingdom  \n",
       "2       2.75     17850.0  United Kingdom  \n",
       "3       3.39     17850.0  United Kingdom  \n",
       "4       3.39     17850.0  United Kingdom  \n",
       "5       7.65     17850.0  United Kingdom  \n",
       "6       4.25     17850.0  United Kingdom  \n",
       "7       1.85     17850.0  United Kingdom  \n",
       "8       1.85     17850.0  United Kingdom  \n",
       "9       1.69     13047.0  United Kingdom  "
      ]
     },
     "execution_count": 630,
     "metadata": {},
     "output_type": "execute_result"
    }
   ],
   "source": [
    "df = pd.read_excel('Customer_Segment.xlsx')\n",
    "df.head(10)"
   ]
  },
  {
   "cell_type": "code",
   "execution_count": 631,
   "id": "1e4c0e60",
   "metadata": {},
   "outputs": [
    {
     "name": "stdout",
     "output_type": "stream",
     "text": [
      "<class 'pandas.core.frame.DataFrame'>\n",
      "RangeIndex: 541909 entries, 0 to 541908\n",
      "Data columns (total 9 columns):\n",
      " #   Column       Non-Null Count   Dtype         \n",
      "---  ------       --------------   -----         \n",
      " 0   InvoiceNo    541909 non-null  object        \n",
      " 1   StockCode    541909 non-null  object        \n",
      " 2   lower        1816 non-null    object        \n",
      " 3   Description  540455 non-null  object        \n",
      " 4   Quantity     541909 non-null  int64         \n",
      " 5   InvoiceDate  541909 non-null  datetime64[ns]\n",
      " 6   UnitPrice    541909 non-null  float64       \n",
      " 7   CustomerID   406829 non-null  float64       \n",
      " 8   Country      541909 non-null  object        \n",
      "dtypes: datetime64[ns](1), float64(2), int64(1), object(5)\n",
      "memory usage: 37.2+ MB\n"
     ]
    }
   ],
   "source": [
    "# Obeserving the key features the dataframe\n",
    "df.info()"
   ]
  },
  {
   "cell_type": "code",
   "execution_count": 632,
   "id": "6347ae30",
   "metadata": {},
   "outputs": [
    {
     "data": {
      "text/plain": [
       "InvoiceNo      25900\n",
       "StockCode       4070\n",
       "lower            953\n",
       "Description     4223\n",
       "Quantity         722\n",
       "InvoiceDate    23260\n",
       "UnitPrice       1630\n",
       "CustomerID      4372\n",
       "Country           38\n",
       "dtype: int64"
      ]
     },
     "execution_count": 632,
     "metadata": {},
     "output_type": "execute_result"
    }
   ],
   "source": [
    "# Check number of unique values in each coloumn\n",
    "df.nunique()"
   ]
  },
  {
   "cell_type": "markdown",
   "id": "c8124a7f",
   "metadata": {},
   "source": [
    "### PART 1: Segment (group/cluster) customers on the basis of buying better RFM (Recency Frequency Monetary)"
   ]
  },
  {
   "cell_type": "code",
   "execution_count": 633,
   "id": "30e96045",
   "metadata": {},
   "outputs": [
    {
     "data": {
      "text/html": [
       "<div>\n",
       "<style scoped>\n",
       "    .dataframe tbody tr th:only-of-type {\n",
       "        vertical-align: middle;\n",
       "    }\n",
       "\n",
       "    .dataframe tbody tr th {\n",
       "        vertical-align: top;\n",
       "    }\n",
       "\n",
       "    .dataframe thead th {\n",
       "        text-align: right;\n",
       "    }\n",
       "</style>\n",
       "<table border=\"1\" class=\"dataframe\">\n",
       "  <thead>\n",
       "    <tr style=\"text-align: right;\">\n",
       "      <th></th>\n",
       "      <th>InvoiceNo</th>\n",
       "      <th>Quantity</th>\n",
       "      <th>InvoiceDate</th>\n",
       "      <th>UnitPrice</th>\n",
       "      <th>CustomerID</th>\n",
       "    </tr>\n",
       "  </thead>\n",
       "  <tbody>\n",
       "    <tr>\n",
       "      <th>0</th>\n",
       "      <td>536365</td>\n",
       "      <td>6</td>\n",
       "      <td>2010-12-01 08:26:00</td>\n",
       "      <td>2.55</td>\n",
       "      <td>17850.0</td>\n",
       "    </tr>\n",
       "    <tr>\n",
       "      <th>1</th>\n",
       "      <td>536365</td>\n",
       "      <td>6</td>\n",
       "      <td>2010-12-01 08:26:00</td>\n",
       "      <td>3.39</td>\n",
       "      <td>17850.0</td>\n",
       "    </tr>\n",
       "    <tr>\n",
       "      <th>2</th>\n",
       "      <td>536365</td>\n",
       "      <td>8</td>\n",
       "      <td>2010-12-01 08:26:00</td>\n",
       "      <td>2.75</td>\n",
       "      <td>17850.0</td>\n",
       "    </tr>\n",
       "    <tr>\n",
       "      <th>3</th>\n",
       "      <td>536365</td>\n",
       "      <td>6</td>\n",
       "      <td>2010-12-01 08:26:00</td>\n",
       "      <td>3.39</td>\n",
       "      <td>17850.0</td>\n",
       "    </tr>\n",
       "    <tr>\n",
       "      <th>4</th>\n",
       "      <td>536365</td>\n",
       "      <td>6</td>\n",
       "      <td>2010-12-01 08:26:00</td>\n",
       "      <td>3.39</td>\n",
       "      <td>17850.0</td>\n",
       "    </tr>\n",
       "  </tbody>\n",
       "</table>\n",
       "</div>"
      ],
      "text/plain": [
       "  InvoiceNo  Quantity         InvoiceDate  UnitPrice  CustomerID\n",
       "0    536365         6 2010-12-01 08:26:00       2.55     17850.0\n",
       "1    536365         6 2010-12-01 08:26:00       3.39     17850.0\n",
       "2    536365         8 2010-12-01 08:26:00       2.75     17850.0\n",
       "3    536365         6 2010-12-01 08:26:00       3.39     17850.0\n",
       "4    536365         6 2010-12-01 08:26:00       3.39     17850.0"
      ]
     },
     "execution_count": 633,
     "metadata": {},
     "output_type": "execute_result"
    }
   ],
   "source": [
    "# To calculate RFM keep significant coloumns only\n",
    "df1 = df.drop(['StockCode','Description','Country','lower'], axis = 1)\n",
    "df1.head()"
   ]
  },
  {
   "cell_type": "code",
   "execution_count": 634,
   "id": "7e4d9a94",
   "metadata": {},
   "outputs": [
    {
     "data": {
      "text/plain": [
       "InvoiceNo           0\n",
       "Quantity            0\n",
       "InvoiceDate         0\n",
       "UnitPrice           0\n",
       "CustomerID     135080\n",
       "dtype: int64"
      ]
     },
     "execution_count": 634,
     "metadata": {},
     "output_type": "execute_result"
    }
   ],
   "source": [
    "# missing values\n",
    "df1.isnull().sum()"
   ]
  },
  {
   "cell_type": "code",
   "execution_count": 635,
   "id": "011c1243",
   "metadata": {},
   "outputs": [],
   "source": [
    "# The missing value in customer ID is due to cash sales.\n",
    "# As we cannot track the true customer, we can remove the rows associated with null values of customer ID.\n",
    "df1.dropna(axis = 0, how = 'any', subset = ['CustomerID'], inplace=True)\n"
   ]
  },
  {
   "cell_type": "code",
   "execution_count": 636,
   "id": "4a25fb05",
   "metadata": {},
   "outputs": [
    {
     "data": {
      "text/plain": [
       "InvoiceNo      0\n",
       "Quantity       0\n",
       "InvoiceDate    0\n",
       "UnitPrice      0\n",
       "CustomerID     0\n",
       "dtype: int64"
      ]
     },
     "execution_count": 636,
     "metadata": {},
     "output_type": "execute_result"
    }
   ],
   "source": [
    "df1.isnull().sum()"
   ]
  },
  {
   "cell_type": "code",
   "execution_count": 637,
   "id": "efadba0a",
   "metadata": {},
   "outputs": [
    {
     "name": "stdout",
     "output_type": "stream",
     "text": [
      "<class 'pandas.core.frame.DataFrame'>\n",
      "Int64Index: 406829 entries, 0 to 541908\n",
      "Data columns (total 5 columns):\n",
      " #   Column       Non-Null Count   Dtype         \n",
      "---  ------       --------------   -----         \n",
      " 0   InvoiceNo    406829 non-null  object        \n",
      " 1   Quantity     406829 non-null  int64         \n",
      " 2   InvoiceDate  406829 non-null  datetime64[ns]\n",
      " 3   UnitPrice    406829 non-null  float64       \n",
      " 4   CustomerID   406829 non-null  float64       \n",
      "dtypes: datetime64[ns](1), float64(2), int64(1), object(1)\n",
      "memory usage: 18.6+ MB\n"
     ]
    }
   ],
   "source": [
    "df1.info()"
   ]
  },
  {
   "cell_type": "code",
   "execution_count": 638,
   "id": "a90494ee",
   "metadata": {},
   "outputs": [
    {
     "data": {
      "text/html": [
       "<div>\n",
       "<style scoped>\n",
       "    .dataframe tbody tr th:only-of-type {\n",
       "        vertical-align: middle;\n",
       "    }\n",
       "\n",
       "    .dataframe tbody tr th {\n",
       "        vertical-align: top;\n",
       "    }\n",
       "\n",
       "    .dataframe thead th {\n",
       "        text-align: right;\n",
       "    }\n",
       "</style>\n",
       "<table border=\"1\" class=\"dataframe\">\n",
       "  <thead>\n",
       "    <tr style=\"text-align: right;\">\n",
       "      <th></th>\n",
       "      <th>Quantity</th>\n",
       "      <th>UnitPrice</th>\n",
       "      <th>CustomerID</th>\n",
       "    </tr>\n",
       "  </thead>\n",
       "  <tbody>\n",
       "    <tr>\n",
       "      <th>count</th>\n",
       "      <td>406829.000000</td>\n",
       "      <td>406829.000000</td>\n",
       "      <td>406829.000000</td>\n",
       "    </tr>\n",
       "    <tr>\n",
       "      <th>mean</th>\n",
       "      <td>12.061303</td>\n",
       "      <td>3.460471</td>\n",
       "      <td>15287.690570</td>\n",
       "    </tr>\n",
       "    <tr>\n",
       "      <th>std</th>\n",
       "      <td>248.693370</td>\n",
       "      <td>69.315162</td>\n",
       "      <td>1713.600303</td>\n",
       "    </tr>\n",
       "    <tr>\n",
       "      <th>min</th>\n",
       "      <td>-80995.000000</td>\n",
       "      <td>0.000000</td>\n",
       "      <td>12346.000000</td>\n",
       "    </tr>\n",
       "    <tr>\n",
       "      <th>25%</th>\n",
       "      <td>2.000000</td>\n",
       "      <td>1.250000</td>\n",
       "      <td>13953.000000</td>\n",
       "    </tr>\n",
       "    <tr>\n",
       "      <th>50%</th>\n",
       "      <td>5.000000</td>\n",
       "      <td>1.950000</td>\n",
       "      <td>15152.000000</td>\n",
       "    </tr>\n",
       "    <tr>\n",
       "      <th>75%</th>\n",
       "      <td>12.000000</td>\n",
       "      <td>3.750000</td>\n",
       "      <td>16791.000000</td>\n",
       "    </tr>\n",
       "    <tr>\n",
       "      <th>max</th>\n",
       "      <td>80995.000000</td>\n",
       "      <td>38970.000000</td>\n",
       "      <td>18287.000000</td>\n",
       "    </tr>\n",
       "  </tbody>\n",
       "</table>\n",
       "</div>"
      ],
      "text/plain": [
       "            Quantity      UnitPrice     CustomerID\n",
       "count  406829.000000  406829.000000  406829.000000\n",
       "mean       12.061303       3.460471   15287.690570\n",
       "std       248.693370      69.315162    1713.600303\n",
       "min    -80995.000000       0.000000   12346.000000\n",
       "25%         2.000000       1.250000   13953.000000\n",
       "50%         5.000000       1.950000   15152.000000\n",
       "75%        12.000000       3.750000   16791.000000\n",
       "max     80995.000000   38970.000000   18287.000000"
      ]
     },
     "execution_count": 638,
     "metadata": {},
     "output_type": "execute_result"
    }
   ],
   "source": [
    "df1.describe()"
   ]
  },
  {
   "cell_type": "code",
   "execution_count": 639,
   "id": "798eb90c",
   "metadata": {},
   "outputs": [
    {
     "data": {
      "text/plain": [
       "40"
      ]
     },
     "execution_count": 639,
     "metadata": {},
     "output_type": "execute_result"
    }
   ],
   "source": [
    "# Just to see how many items has unit price as 0\n",
    "df1[df1['UnitPrice']==0]['UnitPrice'].count()"
   ]
  },
  {
   "cell_type": "code",
   "execution_count": 640,
   "id": "d20ae766",
   "metadata": {},
   "outputs": [
    {
     "data": {
      "text/html": [
       "<div>\n",
       "<style scoped>\n",
       "    .dataframe tbody tr th:only-of-type {\n",
       "        vertical-align: middle;\n",
       "    }\n",
       "\n",
       "    .dataframe tbody tr th {\n",
       "        vertical-align: top;\n",
       "    }\n",
       "\n",
       "    .dataframe thead th {\n",
       "        text-align: right;\n",
       "    }\n",
       "</style>\n",
       "<table border=\"1\" class=\"dataframe\">\n",
       "  <thead>\n",
       "    <tr style=\"text-align: right;\">\n",
       "      <th></th>\n",
       "      <th>InvoiceNo</th>\n",
       "      <th>Quantity</th>\n",
       "      <th>InvoiceDate</th>\n",
       "      <th>UnitPrice</th>\n",
       "      <th>CustomerID</th>\n",
       "    </tr>\n",
       "  </thead>\n",
       "  <tbody>\n",
       "    <tr>\n",
       "      <th>9302</th>\n",
       "      <td>537197</td>\n",
       "      <td>1</td>\n",
       "      <td>2010-12-05 14:02:00</td>\n",
       "      <td>0.0</td>\n",
       "      <td>12647.0</td>\n",
       "    </tr>\n",
       "    <tr>\n",
       "      <th>33576</th>\n",
       "      <td>539263</td>\n",
       "      <td>4</td>\n",
       "      <td>2010-12-16 14:36:00</td>\n",
       "      <td>0.0</td>\n",
       "      <td>16560.0</td>\n",
       "    </tr>\n",
       "    <tr>\n",
       "      <th>40089</th>\n",
       "      <td>539722</td>\n",
       "      <td>10</td>\n",
       "      <td>2010-12-21 13:45:00</td>\n",
       "      <td>0.0</td>\n",
       "      <td>14911.0</td>\n",
       "    </tr>\n",
       "    <tr>\n",
       "      <th>47068</th>\n",
       "      <td>540372</td>\n",
       "      <td>24</td>\n",
       "      <td>2011-01-06 16:41:00</td>\n",
       "      <td>0.0</td>\n",
       "      <td>13081.0</td>\n",
       "    </tr>\n",
       "    <tr>\n",
       "      <th>47070</th>\n",
       "      <td>540372</td>\n",
       "      <td>24</td>\n",
       "      <td>2011-01-06 16:41:00</td>\n",
       "      <td>0.0</td>\n",
       "      <td>13081.0</td>\n",
       "    </tr>\n",
       "  </tbody>\n",
       "</table>\n",
       "</div>"
      ],
      "text/plain": [
       "      InvoiceNo  Quantity         InvoiceDate  UnitPrice  CustomerID\n",
       "9302     537197         1 2010-12-05 14:02:00        0.0     12647.0\n",
       "33576    539263         4 2010-12-16 14:36:00        0.0     16560.0\n",
       "40089    539722        10 2010-12-21 13:45:00        0.0     14911.0\n",
       "47068    540372        24 2011-01-06 16:41:00        0.0     13081.0\n",
       "47070    540372        24 2011-01-06 16:41:00        0.0     13081.0"
      ]
     },
     "execution_count": 640,
     "metadata": {},
     "output_type": "execute_result"
    }
   ],
   "source": [
    "df1[df1['UnitPrice']==0].head()"
   ]
  },
  {
   "cell_type": "code",
   "execution_count": 641,
   "id": "af8eddcc",
   "metadata": {},
   "outputs": [
    {
     "data": {
      "text/plain": [
       "8905"
      ]
     },
     "execution_count": 641,
     "metadata": {},
     "output_type": "execute_result"
    }
   ],
   "source": [
    "# Count number of items having negative quantity (or returned)\n",
    "df1[df1['Quantity']<0]['Quantity'].count()"
   ]
  },
  {
   "cell_type": "code",
   "execution_count": 642,
   "id": "d0c70da7",
   "metadata": {},
   "outputs": [
    {
     "data": {
      "text/plain": [
       "InvoiceNo  Quantity  InvoiceDate          UnitPrice  CustomerID\n",
       "C536757    -9360     2010-12-02 14:23:00  0.03       15838.0       1\n",
       "C541433    -74215    2011-01-18 10:17:00  1.04       12346.0       1\n",
       "C581484    -80995    2011-12-09 09:27:00  2.08       16446.0       1\n",
       "dtype: int64"
      ]
     },
     "execution_count": 642,
     "metadata": {},
     "output_type": "execute_result"
    }
   ],
   "source": [
    "df1[df1['Quantity']<-5000].value_counts()"
   ]
  },
  {
   "cell_type": "code",
   "execution_count": 643,
   "id": "57092157",
   "metadata": {},
   "outputs": [
    {
     "data": {
      "text/html": [
       "<div>\n",
       "<style scoped>\n",
       "    .dataframe tbody tr th:only-of-type {\n",
       "        vertical-align: middle;\n",
       "    }\n",
       "\n",
       "    .dataframe tbody tr th {\n",
       "        vertical-align: top;\n",
       "    }\n",
       "\n",
       "    .dataframe thead th {\n",
       "        text-align: right;\n",
       "    }\n",
       "</style>\n",
       "<table border=\"1\" class=\"dataframe\">\n",
       "  <thead>\n",
       "    <tr style=\"text-align: right;\">\n",
       "      <th></th>\n",
       "      <th>InvoiceNo</th>\n",
       "      <th>Quantity</th>\n",
       "      <th>InvoiceDate</th>\n",
       "      <th>UnitPrice</th>\n",
       "      <th>CustomerID</th>\n",
       "      <th>Total</th>\n",
       "    </tr>\n",
       "  </thead>\n",
       "  <tbody>\n",
       "    <tr>\n",
       "      <th>0</th>\n",
       "      <td>536365</td>\n",
       "      <td>6</td>\n",
       "      <td>2010-12-01 08:26:00</td>\n",
       "      <td>2.55</td>\n",
       "      <td>17850.0</td>\n",
       "      <td>15.30</td>\n",
       "    </tr>\n",
       "    <tr>\n",
       "      <th>1</th>\n",
       "      <td>536365</td>\n",
       "      <td>6</td>\n",
       "      <td>2010-12-01 08:26:00</td>\n",
       "      <td>3.39</td>\n",
       "      <td>17850.0</td>\n",
       "      <td>20.34</td>\n",
       "    </tr>\n",
       "    <tr>\n",
       "      <th>2</th>\n",
       "      <td>536365</td>\n",
       "      <td>8</td>\n",
       "      <td>2010-12-01 08:26:00</td>\n",
       "      <td>2.75</td>\n",
       "      <td>17850.0</td>\n",
       "      <td>22.00</td>\n",
       "    </tr>\n",
       "    <tr>\n",
       "      <th>3</th>\n",
       "      <td>536365</td>\n",
       "      <td>6</td>\n",
       "      <td>2010-12-01 08:26:00</td>\n",
       "      <td>3.39</td>\n",
       "      <td>17850.0</td>\n",
       "      <td>20.34</td>\n",
       "    </tr>\n",
       "    <tr>\n",
       "      <th>4</th>\n",
       "      <td>536365</td>\n",
       "      <td>6</td>\n",
       "      <td>2010-12-01 08:26:00</td>\n",
       "      <td>3.39</td>\n",
       "      <td>17850.0</td>\n",
       "      <td>20.34</td>\n",
       "    </tr>\n",
       "  </tbody>\n",
       "</table>\n",
       "</div>"
      ],
      "text/plain": [
       "  InvoiceNo  Quantity         InvoiceDate  UnitPrice  CustomerID  Total\n",
       "0    536365         6 2010-12-01 08:26:00       2.55     17850.0  15.30\n",
       "1    536365         6 2010-12-01 08:26:00       3.39     17850.0  20.34\n",
       "2    536365         8 2010-12-01 08:26:00       2.75     17850.0  22.00\n",
       "3    536365         6 2010-12-01 08:26:00       3.39     17850.0  20.34\n",
       "4    536365         6 2010-12-01 08:26:00       3.39     17850.0  20.34"
      ]
     },
     "execution_count": 643,
     "metadata": {},
     "output_type": "execute_result"
    }
   ],
   "source": [
    "# Creating coloumn for total spend\n",
    "df1['Total'] = df1['Quantity']*df1['UnitPrice']\n",
    "df1.head()"
   ]
  },
  {
   "cell_type": "code",
   "execution_count": 644,
   "id": "fe15f8c3",
   "metadata": {},
   "outputs": [
    {
     "data": {
      "text/html": [
       "<div>\n",
       "<style scoped>\n",
       "    .dataframe tbody tr th:only-of-type {\n",
       "        vertical-align: middle;\n",
       "    }\n",
       "\n",
       "    .dataframe tbody tr th {\n",
       "        vertical-align: top;\n",
       "    }\n",
       "\n",
       "    .dataframe thead th {\n",
       "        text-align: right;\n",
       "    }\n",
       "</style>\n",
       "<table border=\"1\" class=\"dataframe\">\n",
       "  <thead>\n",
       "    <tr style=\"text-align: right;\">\n",
       "      <th></th>\n",
       "      <th>InvoiceNo</th>\n",
       "      <th>InvoiceDate</th>\n",
       "      <th>CustomerID</th>\n",
       "      <th>Total</th>\n",
       "    </tr>\n",
       "  </thead>\n",
       "  <tbody>\n",
       "    <tr>\n",
       "      <th>0</th>\n",
       "      <td>536365</td>\n",
       "      <td>2010-12-01 08:26:00</td>\n",
       "      <td>17850.0</td>\n",
       "      <td>15.30</td>\n",
       "    </tr>\n",
       "    <tr>\n",
       "      <th>1</th>\n",
       "      <td>536365</td>\n",
       "      <td>2010-12-01 08:26:00</td>\n",
       "      <td>17850.0</td>\n",
       "      <td>20.34</td>\n",
       "    </tr>\n",
       "    <tr>\n",
       "      <th>2</th>\n",
       "      <td>536365</td>\n",
       "      <td>2010-12-01 08:26:00</td>\n",
       "      <td>17850.0</td>\n",
       "      <td>22.00</td>\n",
       "    </tr>\n",
       "    <tr>\n",
       "      <th>3</th>\n",
       "      <td>536365</td>\n",
       "      <td>2010-12-01 08:26:00</td>\n",
       "      <td>17850.0</td>\n",
       "      <td>20.34</td>\n",
       "    </tr>\n",
       "    <tr>\n",
       "      <th>4</th>\n",
       "      <td>536365</td>\n",
       "      <td>2010-12-01 08:26:00</td>\n",
       "      <td>17850.0</td>\n",
       "      <td>20.34</td>\n",
       "    </tr>\n",
       "  </tbody>\n",
       "</table>\n",
       "</div>"
      ],
      "text/plain": [
       "  InvoiceNo         InvoiceDate  CustomerID  Total\n",
       "0    536365 2010-12-01 08:26:00     17850.0  15.30\n",
       "1    536365 2010-12-01 08:26:00     17850.0  20.34\n",
       "2    536365 2010-12-01 08:26:00     17850.0  22.00\n",
       "3    536365 2010-12-01 08:26:00     17850.0  20.34\n",
       "4    536365 2010-12-01 08:26:00     17850.0  20.34"
      ]
     },
     "execution_count": 644,
     "metadata": {},
     "output_type": "execute_result"
    }
   ],
   "source": [
    "# We can drop quantity and unit price coloumns\n",
    "df1 = df1.drop(columns=['Quantity','UnitPrice'])\n",
    "df1.head()"
   ]
  },
  {
   "cell_type": "code",
   "execution_count": 645,
   "id": "d765f1b0",
   "metadata": {},
   "outputs": [
    {
     "name": "stdout",
     "output_type": "stream",
     "text": [
      "<class 'pandas.core.frame.DataFrame'>\n",
      "Int64Index: 406829 entries, 0 to 541908\n",
      "Data columns (total 4 columns):\n",
      " #   Column       Non-Null Count   Dtype         \n",
      "---  ------       --------------   -----         \n",
      " 0   InvoiceNo    406829 non-null  object        \n",
      " 1   InvoiceDate  406829 non-null  datetime64[ns]\n",
      " 2   CustomerID   406829 non-null  float64       \n",
      " 3   Total        406829 non-null  float64       \n",
      "dtypes: datetime64[ns](1), float64(2), object(1)\n",
      "memory usage: 15.5+ MB\n"
     ]
    }
   ],
   "source": [
    "df1.info()"
   ]
  },
  {
   "cell_type": "code",
   "execution_count": 646,
   "id": "145b0906",
   "metadata": {},
   "outputs": [
    {
     "data": {
      "text/html": [
       "<div>\n",
       "<style scoped>\n",
       "    .dataframe tbody tr th:only-of-type {\n",
       "        vertical-align: middle;\n",
       "    }\n",
       "\n",
       "    .dataframe tbody tr th {\n",
       "        vertical-align: top;\n",
       "    }\n",
       "\n",
       "    .dataframe thead th {\n",
       "        text-align: right;\n",
       "    }\n",
       "</style>\n",
       "<table border=\"1\" class=\"dataframe\">\n",
       "  <thead>\n",
       "    <tr style=\"text-align: right;\">\n",
       "      <th></th>\n",
       "      <th>InvoiceNo</th>\n",
       "      <th>Total</th>\n",
       "    </tr>\n",
       "  </thead>\n",
       "  <tbody>\n",
       "    <tr>\n",
       "      <th>0</th>\n",
       "      <td>536365</td>\n",
       "      <td>15.30</td>\n",
       "    </tr>\n",
       "    <tr>\n",
       "      <th>1</th>\n",
       "      <td>536365</td>\n",
       "      <td>20.34</td>\n",
       "    </tr>\n",
       "    <tr>\n",
       "      <th>2</th>\n",
       "      <td>536365</td>\n",
       "      <td>22.00</td>\n",
       "    </tr>\n",
       "    <tr>\n",
       "      <th>3</th>\n",
       "      <td>536365</td>\n",
       "      <td>20.34</td>\n",
       "    </tr>\n",
       "    <tr>\n",
       "      <th>4</th>\n",
       "      <td>536365</td>\n",
       "      <td>20.34</td>\n",
       "    </tr>\n",
       "  </tbody>\n",
       "</table>\n",
       "</div>"
      ],
      "text/plain": [
       "  InvoiceNo  Total\n",
       "0    536365  15.30\n",
       "1    536365  20.34\n",
       "2    536365  22.00\n",
       "3    536365  20.34\n",
       "4    536365  20.34"
      ]
     },
     "execution_count": 646,
     "metadata": {},
     "output_type": "execute_result"
    }
   ],
   "source": [
    "# Applying groupby function to calculate total amount with respect to single invoice\n",
    "# Creating df2 dataframe with two coloumns Invoice No. and total\n",
    "df2 = df1.drop(columns = ['InvoiceDate','CustomerID'])\n",
    "df2.head()\n",
    "               "
   ]
  },
  {
   "cell_type": "code",
   "execution_count": 647,
   "id": "6e9fec15",
   "metadata": {},
   "outputs": [
    {
     "data": {
      "text/html": [
       "<div>\n",
       "<style scoped>\n",
       "    .dataframe tbody tr th:only-of-type {\n",
       "        vertical-align: middle;\n",
       "    }\n",
       "\n",
       "    .dataframe tbody tr th {\n",
       "        vertical-align: top;\n",
       "    }\n",
       "\n",
       "    .dataframe thead th {\n",
       "        text-align: right;\n",
       "    }\n",
       "</style>\n",
       "<table border=\"1\" class=\"dataframe\">\n",
       "  <thead>\n",
       "    <tr style=\"text-align: right;\">\n",
       "      <th></th>\n",
       "      <th>Total</th>\n",
       "    </tr>\n",
       "    <tr>\n",
       "      <th>InvoiceNo</th>\n",
       "      <th></th>\n",
       "    </tr>\n",
       "  </thead>\n",
       "  <tbody>\n",
       "    <tr>\n",
       "      <th>536365</th>\n",
       "      <td>139.12</td>\n",
       "    </tr>\n",
       "    <tr>\n",
       "      <th>536366</th>\n",
       "      <td>22.20</td>\n",
       "    </tr>\n",
       "    <tr>\n",
       "      <th>536367</th>\n",
       "      <td>278.73</td>\n",
       "    </tr>\n",
       "    <tr>\n",
       "      <th>536368</th>\n",
       "      <td>70.05</td>\n",
       "    </tr>\n",
       "    <tr>\n",
       "      <th>536369</th>\n",
       "      <td>17.85</td>\n",
       "    </tr>\n",
       "  </tbody>\n",
       "</table>\n",
       "</div>"
      ],
      "text/plain": [
       "            Total\n",
       "InvoiceNo        \n",
       "536365     139.12\n",
       "536366      22.20\n",
       "536367     278.73\n",
       "536368      70.05\n",
       "536369      17.85"
      ]
     },
     "execution_count": 647,
     "metadata": {},
     "output_type": "execute_result"
    }
   ],
   "source": [
    "df2 = df2.groupby(['InvoiceNo']).sum()\n",
    "df2.head()"
   ]
  },
  {
   "cell_type": "code",
   "execution_count": 648,
   "id": "a3fd9acf",
   "metadata": {},
   "outputs": [
    {
     "name": "stdout",
     "output_type": "stream",
     "text": [
      "<class 'pandas.core.frame.DataFrame'>\n",
      "Index: 22190 entries, 536365 to C581569\n",
      "Data columns (total 1 columns):\n",
      " #   Column  Non-Null Count  Dtype  \n",
      "---  ------  --------------  -----  \n",
      " 0   Total   22190 non-null  float64\n",
      "dtypes: float64(1)\n",
      "memory usage: 346.7+ KB\n"
     ]
    }
   ],
   "source": [
    "df2.info()"
   ]
  },
  {
   "cell_type": "code",
   "execution_count": 649,
   "id": "e2aaf133",
   "metadata": {},
   "outputs": [
    {
     "data": {
      "text/html": [
       "<div>\n",
       "<style scoped>\n",
       "    .dataframe tbody tr th:only-of-type {\n",
       "        vertical-align: middle;\n",
       "    }\n",
       "\n",
       "    .dataframe tbody tr th {\n",
       "        vertical-align: top;\n",
       "    }\n",
       "\n",
       "    .dataframe thead th {\n",
       "        text-align: right;\n",
       "    }\n",
       "</style>\n",
       "<table border=\"1\" class=\"dataframe\">\n",
       "  <thead>\n",
       "    <tr style=\"text-align: right;\">\n",
       "      <th></th>\n",
       "      <th>InvoiceNo</th>\n",
       "      <th>Total</th>\n",
       "    </tr>\n",
       "  </thead>\n",
       "  <tbody>\n",
       "    <tr>\n",
       "      <th>0</th>\n",
       "      <td>536365</td>\n",
       "      <td>139.12</td>\n",
       "    </tr>\n",
       "    <tr>\n",
       "      <th>1</th>\n",
       "      <td>536366</td>\n",
       "      <td>22.20</td>\n",
       "    </tr>\n",
       "    <tr>\n",
       "      <th>2</th>\n",
       "      <td>536367</td>\n",
       "      <td>278.73</td>\n",
       "    </tr>\n",
       "    <tr>\n",
       "      <th>3</th>\n",
       "      <td>536368</td>\n",
       "      <td>70.05</td>\n",
       "    </tr>\n",
       "    <tr>\n",
       "      <th>4</th>\n",
       "      <td>536369</td>\n",
       "      <td>17.85</td>\n",
       "    </tr>\n",
       "  </tbody>\n",
       "</table>\n",
       "</div>"
      ],
      "text/plain": [
       "  InvoiceNo   Total\n",
       "0    536365  139.12\n",
       "1    536366   22.20\n",
       "2    536367  278.73\n",
       "3    536368   70.05\n",
       "4    536369   17.85"
      ]
     },
     "execution_count": 649,
     "metadata": {},
     "output_type": "execute_result"
    }
   ],
   "source": [
    "df2_final = df2.reset_index()\n",
    "df2_final.head()"
   ]
  },
  {
   "cell_type": "code",
   "execution_count": 650,
   "id": "0430ea22",
   "metadata": {},
   "outputs": [
    {
     "data": {
      "text/html": [
       "<div>\n",
       "<style scoped>\n",
       "    .dataframe tbody tr th:only-of-type {\n",
       "        vertical-align: middle;\n",
       "    }\n",
       "\n",
       "    .dataframe tbody tr th {\n",
       "        vertical-align: top;\n",
       "    }\n",
       "\n",
       "    .dataframe thead th {\n",
       "        text-align: right;\n",
       "    }\n",
       "</style>\n",
       "<table border=\"1\" class=\"dataframe\">\n",
       "  <thead>\n",
       "    <tr style=\"text-align: right;\">\n",
       "      <th></th>\n",
       "      <th>InvoiceNo</th>\n",
       "      <th>InvoiceDate</th>\n",
       "      <th>CustomerID</th>\n",
       "      <th>Total</th>\n",
       "    </tr>\n",
       "  </thead>\n",
       "  <tbody>\n",
       "    <tr>\n",
       "      <th>0</th>\n",
       "      <td>536365</td>\n",
       "      <td>2010-12-01 08:26:00</td>\n",
       "      <td>17850.0</td>\n",
       "      <td>15.30</td>\n",
       "    </tr>\n",
       "    <tr>\n",
       "      <th>1</th>\n",
       "      <td>536365</td>\n",
       "      <td>2010-12-01 08:26:00</td>\n",
       "      <td>17850.0</td>\n",
       "      <td>20.34</td>\n",
       "    </tr>\n",
       "    <tr>\n",
       "      <th>2</th>\n",
       "      <td>536365</td>\n",
       "      <td>2010-12-01 08:26:00</td>\n",
       "      <td>17850.0</td>\n",
       "      <td>22.00</td>\n",
       "    </tr>\n",
       "    <tr>\n",
       "      <th>3</th>\n",
       "      <td>536365</td>\n",
       "      <td>2010-12-01 08:26:00</td>\n",
       "      <td>17850.0</td>\n",
       "      <td>20.34</td>\n",
       "    </tr>\n",
       "    <tr>\n",
       "      <th>4</th>\n",
       "      <td>536365</td>\n",
       "      <td>2010-12-01 08:26:00</td>\n",
       "      <td>17850.0</td>\n",
       "      <td>20.34</td>\n",
       "    </tr>\n",
       "  </tbody>\n",
       "</table>\n",
       "</div>"
      ],
      "text/plain": [
       "  InvoiceNo         InvoiceDate  CustomerID  Total\n",
       "0    536365 2010-12-01 08:26:00     17850.0  15.30\n",
       "1    536365 2010-12-01 08:26:00     17850.0  20.34\n",
       "2    536365 2010-12-01 08:26:00     17850.0  22.00\n",
       "3    536365 2010-12-01 08:26:00     17850.0  20.34\n",
       "4    536365 2010-12-01 08:26:00     17850.0  20.34"
      ]
     },
     "execution_count": 650,
     "metadata": {},
     "output_type": "execute_result"
    }
   ],
   "source": [
    "df1.head()"
   ]
  },
  {
   "cell_type": "code",
   "execution_count": 651,
   "id": "4703fe54",
   "metadata": {},
   "outputs": [
    {
     "data": {
      "text/html": [
       "<div>\n",
       "<style scoped>\n",
       "    .dataframe tbody tr th:only-of-type {\n",
       "        vertical-align: middle;\n",
       "    }\n",
       "\n",
       "    .dataframe tbody tr th {\n",
       "        vertical-align: top;\n",
       "    }\n",
       "\n",
       "    .dataframe thead th {\n",
       "        text-align: right;\n",
       "    }\n",
       "</style>\n",
       "<table border=\"1\" class=\"dataframe\">\n",
       "  <thead>\n",
       "    <tr style=\"text-align: right;\">\n",
       "      <th></th>\n",
       "      <th>InvoiceNo</th>\n",
       "      <th>InvoiceDate</th>\n",
       "      <th>CustomerID</th>\n",
       "    </tr>\n",
       "  </thead>\n",
       "  <tbody>\n",
       "    <tr>\n",
       "      <th>0</th>\n",
       "      <td>536365</td>\n",
       "      <td>2010-12-01 08:26:00</td>\n",
       "      <td>17850.0</td>\n",
       "    </tr>\n",
       "    <tr>\n",
       "      <th>1</th>\n",
       "      <td>536365</td>\n",
       "      <td>2010-12-01 08:26:00</td>\n",
       "      <td>17850.0</td>\n",
       "    </tr>\n",
       "    <tr>\n",
       "      <th>2</th>\n",
       "      <td>536365</td>\n",
       "      <td>2010-12-01 08:26:00</td>\n",
       "      <td>17850.0</td>\n",
       "    </tr>\n",
       "    <tr>\n",
       "      <th>3</th>\n",
       "      <td>536365</td>\n",
       "      <td>2010-12-01 08:26:00</td>\n",
       "      <td>17850.0</td>\n",
       "    </tr>\n",
       "    <tr>\n",
       "      <th>4</th>\n",
       "      <td>536365</td>\n",
       "      <td>2010-12-01 08:26:00</td>\n",
       "      <td>17850.0</td>\n",
       "    </tr>\n",
       "  </tbody>\n",
       "</table>\n",
       "</div>"
      ],
      "text/plain": [
       "  InvoiceNo         InvoiceDate  CustomerID\n",
       "0    536365 2010-12-01 08:26:00     17850.0\n",
       "1    536365 2010-12-01 08:26:00     17850.0\n",
       "2    536365 2010-12-01 08:26:00     17850.0\n",
       "3    536365 2010-12-01 08:26:00     17850.0\n",
       "4    536365 2010-12-01 08:26:00     17850.0"
      ]
     },
     "execution_count": 651,
     "metadata": {},
     "output_type": "execute_result"
    }
   ],
   "source": [
    "df1 = df1.drop(columns=['Total'])\n",
    "df1.head()"
   ]
  },
  {
   "cell_type": "code",
   "execution_count": 652,
   "id": "5c896b1b",
   "metadata": {},
   "outputs": [
    {
     "data": {
      "text/html": [
       "<div>\n",
       "<style scoped>\n",
       "    .dataframe tbody tr th:only-of-type {\n",
       "        vertical-align: middle;\n",
       "    }\n",
       "\n",
       "    .dataframe tbody tr th {\n",
       "        vertical-align: top;\n",
       "    }\n",
       "\n",
       "    .dataframe thead th {\n",
       "        text-align: right;\n",
       "    }\n",
       "</style>\n",
       "<table border=\"1\" class=\"dataframe\">\n",
       "  <thead>\n",
       "    <tr style=\"text-align: right;\">\n",
       "      <th></th>\n",
       "      <th>InvoiceNo</th>\n",
       "      <th>InvoiceDate</th>\n",
       "      <th>CustomerID</th>\n",
       "    </tr>\n",
       "  </thead>\n",
       "  <tbody>\n",
       "    <tr>\n",
       "      <th>0</th>\n",
       "      <td>536365</td>\n",
       "      <td>2010-12-01 08:26:00</td>\n",
       "      <td>17850.0</td>\n",
       "    </tr>\n",
       "    <tr>\n",
       "      <th>7</th>\n",
       "      <td>536366</td>\n",
       "      <td>2010-12-01 08:28:00</td>\n",
       "      <td>17850.0</td>\n",
       "    </tr>\n",
       "    <tr>\n",
       "      <th>9</th>\n",
       "      <td>536367</td>\n",
       "      <td>2010-12-01 08:34:00</td>\n",
       "      <td>13047.0</td>\n",
       "    </tr>\n",
       "    <tr>\n",
       "      <th>21</th>\n",
       "      <td>536368</td>\n",
       "      <td>2010-12-01 08:34:00</td>\n",
       "      <td>13047.0</td>\n",
       "    </tr>\n",
       "    <tr>\n",
       "      <th>25</th>\n",
       "      <td>536369</td>\n",
       "      <td>2010-12-01 08:35:00</td>\n",
       "      <td>13047.0</td>\n",
       "    </tr>\n",
       "  </tbody>\n",
       "</table>\n",
       "</div>"
      ],
      "text/plain": [
       "   InvoiceNo         InvoiceDate  CustomerID\n",
       "0     536365 2010-12-01 08:26:00     17850.0\n",
       "7     536366 2010-12-01 08:28:00     17850.0\n",
       "9     536367 2010-12-01 08:34:00     13047.0\n",
       "21    536368 2010-12-01 08:34:00     13047.0\n",
       "25    536369 2010-12-01 08:35:00     13047.0"
      ]
     },
     "execution_count": 652,
     "metadata": {},
     "output_type": "execute_result"
    }
   ],
   "source": [
    "# df1 has large number of rows becuase of duplicate invoice numbers\n",
    "# So dropping duplicate invoice numbers\n",
    "df1_final = df1.drop_duplicates(subset='InvoiceNo')\n",
    "df1_final.head()"
   ]
  },
  {
   "cell_type": "code",
   "execution_count": 653,
   "id": "52dd3da2",
   "metadata": {},
   "outputs": [
    {
     "name": "stdout",
     "output_type": "stream",
     "text": [
      "<class 'pandas.core.frame.DataFrame'>\n",
      "Int64Index: 22190 entries, 0 to 541894\n",
      "Data columns (total 3 columns):\n",
      " #   Column       Non-Null Count  Dtype         \n",
      "---  ------       --------------  -----         \n",
      " 0   InvoiceNo    22190 non-null  object        \n",
      " 1   InvoiceDate  22190 non-null  datetime64[ns]\n",
      " 2   CustomerID   22190 non-null  float64       \n",
      "dtypes: datetime64[ns](1), float64(1), object(1)\n",
      "memory usage: 693.4+ KB\n"
     ]
    }
   ],
   "source": [
    "df1_final.info()"
   ]
  },
  {
   "cell_type": "code",
   "execution_count": 654,
   "id": "b5fa8bb1",
   "metadata": {},
   "outputs": [
    {
     "data": {
      "text/html": [
       "<div>\n",
       "<style scoped>\n",
       "    .dataframe tbody tr th:only-of-type {\n",
       "        vertical-align: middle;\n",
       "    }\n",
       "\n",
       "    .dataframe tbody tr th {\n",
       "        vertical-align: top;\n",
       "    }\n",
       "\n",
       "    .dataframe thead th {\n",
       "        text-align: right;\n",
       "    }\n",
       "</style>\n",
       "<table border=\"1\" class=\"dataframe\">\n",
       "  <thead>\n",
       "    <tr style=\"text-align: right;\">\n",
       "      <th></th>\n",
       "      <th>InvoiceNo</th>\n",
       "      <th>InvoiceDate</th>\n",
       "      <th>CustomerID</th>\n",
       "      <th>Total</th>\n",
       "    </tr>\n",
       "  </thead>\n",
       "  <tbody>\n",
       "    <tr>\n",
       "      <th>0</th>\n",
       "      <td>536365</td>\n",
       "      <td>2010-12-01 08:26:00</td>\n",
       "      <td>17850.0</td>\n",
       "      <td>139.12</td>\n",
       "    </tr>\n",
       "    <tr>\n",
       "      <th>1</th>\n",
       "      <td>536366</td>\n",
       "      <td>2010-12-01 08:28:00</td>\n",
       "      <td>17850.0</td>\n",
       "      <td>22.20</td>\n",
       "    </tr>\n",
       "    <tr>\n",
       "      <th>2</th>\n",
       "      <td>536367</td>\n",
       "      <td>2010-12-01 08:34:00</td>\n",
       "      <td>13047.0</td>\n",
       "      <td>278.73</td>\n",
       "    </tr>\n",
       "    <tr>\n",
       "      <th>3</th>\n",
       "      <td>536368</td>\n",
       "      <td>2010-12-01 08:34:00</td>\n",
       "      <td>13047.0</td>\n",
       "      <td>70.05</td>\n",
       "    </tr>\n",
       "    <tr>\n",
       "      <th>4</th>\n",
       "      <td>536369</td>\n",
       "      <td>2010-12-01 08:35:00</td>\n",
       "      <td>13047.0</td>\n",
       "      <td>17.85</td>\n",
       "    </tr>\n",
       "  </tbody>\n",
       "</table>\n",
       "</div>"
      ],
      "text/plain": [
       "  InvoiceNo         InvoiceDate  CustomerID   Total\n",
       "0    536365 2010-12-01 08:26:00     17850.0  139.12\n",
       "1    536366 2010-12-01 08:28:00     17850.0   22.20\n",
       "2    536367 2010-12-01 08:34:00     13047.0  278.73\n",
       "3    536368 2010-12-01 08:34:00     13047.0   70.05\n",
       "4    536369 2010-12-01 08:35:00     13047.0   17.85"
      ]
     },
     "execution_count": 654,
     "metadata": {},
     "output_type": "execute_result"
    }
   ],
   "source": [
    "# Now we have equal number of obervations in df1_final and df2_final\n",
    "# We can merge this two dataframes\n",
    "df_final = pd.merge(df1_final, df2_final, how = 'left', on = 'InvoiceNo')\n",
    "df_final.head()"
   ]
  },
  {
   "cell_type": "code",
   "execution_count": 655,
   "id": "108ace7e",
   "metadata": {},
   "outputs": [
    {
     "data": {
      "text/plain": [
       "Timestamp('2011-12-09 12:50:00')"
      ]
     },
     "execution_count": 655,
     "metadata": {},
     "output_type": "execute_result"
    }
   ],
   "source": [
    "# Now we can play with dataset, we can calculate RFM\n",
    "# Lets calculate the oldest and latest date of invoice\n",
    "max(df_final['InvoiceDate']) # Latest date"
   ]
  },
  {
   "cell_type": "code",
   "execution_count": 656,
   "id": "523a7ef8",
   "metadata": {},
   "outputs": [
    {
     "data": {
      "text/plain": [
       "Timestamp('2010-12-01 08:26:00')"
      ]
     },
     "execution_count": 656,
     "metadata": {},
     "output_type": "execute_result"
    }
   ],
   "source": [
    "min(df_final['InvoiceDate'])  # Oldest date"
   ]
  },
  {
   "cell_type": "code",
   "execution_count": 657,
   "id": "7167097c",
   "metadata": {},
   "outputs": [
    {
     "data": {
      "text/plain": [
       "datetime.datetime(2011, 12, 11, 0, 0)"
      ]
     },
     "execution_count": 657,
     "metadata": {},
     "output_type": "execute_result"
    }
   ],
   "source": [
    "# Just create latest date, 2 days after last date of invoice. If not done, for recent customer recency will be shown in hrs or min\n",
    "import datetime as dt\n",
    "latest_date = dt.datetime(2011,12,11)\n",
    "latest_date"
   ]
  },
  {
   "cell_type": "code",
   "execution_count": 658,
   "id": "b3fed95e",
   "metadata": {},
   "outputs": [
    {
     "data": {
      "text/html": [
       "<div>\n",
       "<style scoped>\n",
       "    .dataframe tbody tr th:only-of-type {\n",
       "        vertical-align: middle;\n",
       "    }\n",
       "\n",
       "    .dataframe tbody tr th {\n",
       "        vertical-align: top;\n",
       "    }\n",
       "\n",
       "    .dataframe thead th {\n",
       "        text-align: right;\n",
       "    }\n",
       "</style>\n",
       "<table border=\"1\" class=\"dataframe\">\n",
       "  <thead>\n",
       "    <tr style=\"text-align: right;\">\n",
       "      <th></th>\n",
       "      <th>InvoiceNo</th>\n",
       "      <th>InvoiceDate</th>\n",
       "      <th>CustomerID</th>\n",
       "      <th>Total</th>\n",
       "    </tr>\n",
       "  </thead>\n",
       "  <tbody>\n",
       "    <tr>\n",
       "      <th>0</th>\n",
       "      <td>536365</td>\n",
       "      <td>2010-12-01 08:26:00</td>\n",
       "      <td>17850.0</td>\n",
       "      <td>139.12</td>\n",
       "    </tr>\n",
       "    <tr>\n",
       "      <th>1</th>\n",
       "      <td>536366</td>\n",
       "      <td>2010-12-01 08:28:00</td>\n",
       "      <td>17850.0</td>\n",
       "      <td>22.20</td>\n",
       "    </tr>\n",
       "    <tr>\n",
       "      <th>2</th>\n",
       "      <td>536367</td>\n",
       "      <td>2010-12-01 08:34:00</td>\n",
       "      <td>13047.0</td>\n",
       "      <td>278.73</td>\n",
       "    </tr>\n",
       "    <tr>\n",
       "      <th>3</th>\n",
       "      <td>536368</td>\n",
       "      <td>2010-12-01 08:34:00</td>\n",
       "      <td>13047.0</td>\n",
       "      <td>70.05</td>\n",
       "    </tr>\n",
       "    <tr>\n",
       "      <th>4</th>\n",
       "      <td>536369</td>\n",
       "      <td>2010-12-01 08:35:00</td>\n",
       "      <td>13047.0</td>\n",
       "      <td>17.85</td>\n",
       "    </tr>\n",
       "  </tbody>\n",
       "</table>\n",
       "</div>"
      ],
      "text/plain": [
       "  InvoiceNo         InvoiceDate  CustomerID   Total\n",
       "0    536365 2010-12-01 08:26:00     17850.0  139.12\n",
       "1    536366 2010-12-01 08:28:00     17850.0   22.20\n",
       "2    536367 2010-12-01 08:34:00     13047.0  278.73\n",
       "3    536368 2010-12-01 08:34:00     13047.0   70.05\n",
       "4    536369 2010-12-01 08:35:00     13047.0   17.85"
      ]
     },
     "execution_count": 658,
     "metadata": {},
     "output_type": "execute_result"
    }
   ],
   "source": [
    "# We have set the latest date as 2011-12-11\n",
    "df_final.head()"
   ]
  },
  {
   "cell_type": "code",
   "execution_count": 659,
   "id": "bff28ad7",
   "metadata": {},
   "outputs": [
    {
     "data": {
      "text/html": [
       "<div>\n",
       "<style scoped>\n",
       "    .dataframe tbody tr th:only-of-type {\n",
       "        vertical-align: middle;\n",
       "    }\n",
       "\n",
       "    .dataframe tbody tr th {\n",
       "        vertical-align: top;\n",
       "    }\n",
       "\n",
       "    .dataframe thead th {\n",
       "        text-align: right;\n",
       "    }\n",
       "</style>\n",
       "<table border=\"1\" class=\"dataframe\">\n",
       "  <thead>\n",
       "    <tr style=\"text-align: right;\">\n",
       "      <th></th>\n",
       "      <th>InvoiceDate</th>\n",
       "      <th>InvoiceNo</th>\n",
       "      <th>Total</th>\n",
       "    </tr>\n",
       "    <tr>\n",
       "      <th>CustomerID</th>\n",
       "      <th></th>\n",
       "      <th></th>\n",
       "      <th></th>\n",
       "    </tr>\n",
       "  </thead>\n",
       "  <tbody>\n",
       "    <tr>\n",
       "      <th>12346.0</th>\n",
       "      <td>326</td>\n",
       "      <td>2</td>\n",
       "      <td>0.00</td>\n",
       "    </tr>\n",
       "    <tr>\n",
       "      <th>12347.0</th>\n",
       "      <td>3</td>\n",
       "      <td>7</td>\n",
       "      <td>4310.00</td>\n",
       "    </tr>\n",
       "    <tr>\n",
       "      <th>12348.0</th>\n",
       "      <td>76</td>\n",
       "      <td>4</td>\n",
       "      <td>1797.24</td>\n",
       "    </tr>\n",
       "    <tr>\n",
       "      <th>12349.0</th>\n",
       "      <td>19</td>\n",
       "      <td>1</td>\n",
       "      <td>1757.55</td>\n",
       "    </tr>\n",
       "    <tr>\n",
       "      <th>12350.0</th>\n",
       "      <td>311</td>\n",
       "      <td>1</td>\n",
       "      <td>334.40</td>\n",
       "    </tr>\n",
       "  </tbody>\n",
       "</table>\n",
       "</div>"
      ],
      "text/plain": [
       "            InvoiceDate  InvoiceNo    Total\n",
       "CustomerID                                 \n",
       "12346.0             326          2     0.00\n",
       "12347.0               3          7  4310.00\n",
       "12348.0              76          4  1797.24\n",
       "12349.0              19          1  1757.55\n",
       "12350.0             311          1   334.40"
      ]
     },
     "execution_count": 659,
     "metadata": {},
     "output_type": "execute_result"
    }
   ],
   "source": [
    "# We will use aggregation function and caluclate Recency Frequency and Monetary values as per customer ID\n",
    "RFM_score = df_final.groupby('CustomerID').agg({'InvoiceDate': lambda x:(latest_date - x.max()).days, \n",
    "                                                'InvoiceNo': lambda x: x.count(), 'Total': lambda x:x.sum()})\n",
    "RFM_score.head()\n"
   ]
  },
  {
   "cell_type": "code",
   "execution_count": 660,
   "id": "41b3b7ec",
   "metadata": {},
   "outputs": [
    {
     "data": {
      "text/html": [
       "<div>\n",
       "<style scoped>\n",
       "    .dataframe tbody tr th:only-of-type {\n",
       "        vertical-align: middle;\n",
       "    }\n",
       "\n",
       "    .dataframe tbody tr th {\n",
       "        vertical-align: top;\n",
       "    }\n",
       "\n",
       "    .dataframe thead th {\n",
       "        text-align: right;\n",
       "    }\n",
       "</style>\n",
       "<table border=\"1\" class=\"dataframe\">\n",
       "  <thead>\n",
       "    <tr style=\"text-align: right;\">\n",
       "      <th></th>\n",
       "      <th>CustomerID</th>\n",
       "      <th>Recency</th>\n",
       "      <th>Frequency</th>\n",
       "      <th>Monetary</th>\n",
       "    </tr>\n",
       "  </thead>\n",
       "  <tbody>\n",
       "    <tr>\n",
       "      <th>0</th>\n",
       "      <td>12346.0</td>\n",
       "      <td>326</td>\n",
       "      <td>2</td>\n",
       "      <td>0.00</td>\n",
       "    </tr>\n",
       "    <tr>\n",
       "      <th>1</th>\n",
       "      <td>12347.0</td>\n",
       "      <td>3</td>\n",
       "      <td>7</td>\n",
       "      <td>4310.00</td>\n",
       "    </tr>\n",
       "    <tr>\n",
       "      <th>2</th>\n",
       "      <td>12348.0</td>\n",
       "      <td>76</td>\n",
       "      <td>4</td>\n",
       "      <td>1797.24</td>\n",
       "    </tr>\n",
       "    <tr>\n",
       "      <th>3</th>\n",
       "      <td>12349.0</td>\n",
       "      <td>19</td>\n",
       "      <td>1</td>\n",
       "      <td>1757.55</td>\n",
       "    </tr>\n",
       "    <tr>\n",
       "      <th>4</th>\n",
       "      <td>12350.0</td>\n",
       "      <td>311</td>\n",
       "      <td>1</td>\n",
       "      <td>334.40</td>\n",
       "    </tr>\n",
       "  </tbody>\n",
       "</table>\n",
       "</div>"
      ],
      "text/plain": [
       "   CustomerID  Recency  Frequency  Monetary\n",
       "0     12346.0      326          2      0.00\n",
       "1     12347.0        3          7   4310.00\n",
       "2     12348.0       76          4   1797.24\n",
       "3     12349.0       19          1   1757.55\n",
       "4     12350.0      311          1    334.40"
      ]
     },
     "execution_count": 660,
     "metadata": {},
     "output_type": "execute_result"
    }
   ],
   "source": [
    "# Renamimg of coloumns\n",
    "RFM_score = RFM_score.rename(columns={'InvoiceDate':'Recency','InvoiceNo': 'Frequency', 'Total': 'Monetary'})\n",
    "RFM_score = RFM_score.reset_index()\n",
    "RFM_score.head()"
   ]
  },
  {
   "cell_type": "code",
   "execution_count": 661,
   "id": "32525667",
   "metadata": {},
   "outputs": [
    {
     "name": "stdout",
     "output_type": "stream",
     "text": [
      "<class 'pandas.core.frame.DataFrame'>\n",
      "RangeIndex: 4372 entries, 0 to 4371\n",
      "Data columns (total 4 columns):\n",
      " #   Column      Non-Null Count  Dtype  \n",
      "---  ------      --------------  -----  \n",
      " 0   CustomerID  4372 non-null   float64\n",
      " 1   Recency     4372 non-null   int64  \n",
      " 2   Frequency   4372 non-null   int64  \n",
      " 3   Monetary    4372 non-null   float64\n",
      "dtypes: float64(2), int64(2)\n",
      "memory usage: 136.8 KB\n"
     ]
    }
   ],
   "source": [
    "RFM_score.info()"
   ]
  },
  {
   "cell_type": "code",
   "execution_count": 662,
   "id": "16f5e583",
   "metadata": {},
   "outputs": [
    {
     "data": {
      "text/html": [
       "<div>\n",
       "<style scoped>\n",
       "    .dataframe tbody tr th:only-of-type {\n",
       "        vertical-align: middle;\n",
       "    }\n",
       "\n",
       "    .dataframe tbody tr th {\n",
       "        vertical-align: top;\n",
       "    }\n",
       "\n",
       "    .dataframe thead th {\n",
       "        text-align: right;\n",
       "    }\n",
       "</style>\n",
       "<table border=\"1\" class=\"dataframe\">\n",
       "  <thead>\n",
       "    <tr style=\"text-align: right;\">\n",
       "      <th></th>\n",
       "      <th>CustomerID</th>\n",
       "      <th>Recency</th>\n",
       "      <th>Frequency</th>\n",
       "      <th>Monetary</th>\n",
       "    </tr>\n",
       "  </thead>\n",
       "  <tbody>\n",
       "    <tr>\n",
       "      <th>count</th>\n",
       "      <td>4372.000000</td>\n",
       "      <td>4372.000000</td>\n",
       "      <td>4372.000000</td>\n",
       "      <td>4372.000000</td>\n",
       "    </tr>\n",
       "    <tr>\n",
       "      <th>mean</th>\n",
       "      <td>15299.677722</td>\n",
       "      <td>92.581199</td>\n",
       "      <td>5.075480</td>\n",
       "      <td>1898.459701</td>\n",
       "    </tr>\n",
       "    <tr>\n",
       "      <th>std</th>\n",
       "      <td>1722.390705</td>\n",
       "      <td>100.772139</td>\n",
       "      <td>9.338754</td>\n",
       "      <td>8219.345141</td>\n",
       "    </tr>\n",
       "    <tr>\n",
       "      <th>min</th>\n",
       "      <td>12346.000000</td>\n",
       "      <td>1.000000</td>\n",
       "      <td>1.000000</td>\n",
       "      <td>-4287.630000</td>\n",
       "    </tr>\n",
       "    <tr>\n",
       "      <th>25%</th>\n",
       "      <td>13812.750000</td>\n",
       "      <td>17.000000</td>\n",
       "      <td>1.000000</td>\n",
       "      <td>293.362500</td>\n",
       "    </tr>\n",
       "    <tr>\n",
       "      <th>50%</th>\n",
       "      <td>15300.500000</td>\n",
       "      <td>51.000000</td>\n",
       "      <td>3.000000</td>\n",
       "      <td>648.075000</td>\n",
       "    </tr>\n",
       "    <tr>\n",
       "      <th>75%</th>\n",
       "      <td>16778.250000</td>\n",
       "      <td>144.000000</td>\n",
       "      <td>5.000000</td>\n",
       "      <td>1611.725000</td>\n",
       "    </tr>\n",
       "    <tr>\n",
       "      <th>max</th>\n",
       "      <td>18287.000000</td>\n",
       "      <td>374.000000</td>\n",
       "      <td>248.000000</td>\n",
       "      <td>279489.020000</td>\n",
       "    </tr>\n",
       "  </tbody>\n",
       "</table>\n",
       "</div>"
      ],
      "text/plain": [
       "         CustomerID      Recency    Frequency       Monetary\n",
       "count   4372.000000  4372.000000  4372.000000    4372.000000\n",
       "mean   15299.677722    92.581199     5.075480    1898.459701\n",
       "std     1722.390705   100.772139     9.338754    8219.345141\n",
       "min    12346.000000     1.000000     1.000000   -4287.630000\n",
       "25%    13812.750000    17.000000     1.000000     293.362500\n",
       "50%    15300.500000    51.000000     3.000000     648.075000\n",
       "75%    16778.250000   144.000000     5.000000    1611.725000\n",
       "max    18287.000000   374.000000   248.000000  279489.020000"
      ]
     },
     "execution_count": 662,
     "metadata": {},
     "output_type": "execute_result"
    }
   ],
   "source": [
    "RFM_score.describe()"
   ]
  },
  {
   "cell_type": "markdown",
   "id": "2bd2eb23",
   "metadata": {},
   "source": [
    "#### Check recency, frequency and monetery columns for normal disctribution"
   ]
  },
  {
   "cell_type": "code",
   "execution_count": 663,
   "id": "809d4fb8",
   "metadata": {},
   "outputs": [
    {
     "data": {
      "text/plain": [
       "<seaborn.axisgrid.FacetGrid at 0x225982abdc0>"
      ]
     },
     "execution_count": 663,
     "metadata": {},
     "output_type": "execute_result"
    },
    {
     "data": {
      "text/plain": [
       "<Figure size 1080x720 with 0 Axes>"
      ]
     },
     "metadata": {},
     "output_type": "display_data"
    },
    {
     "data": {
      "image/png": "[encoded data removed]",
      "text/plain": [
       "<Figure size 360x360 with 1 Axes>"
      ]
     },
     "metadata": {
      "needs_background": "light"
     },
     "output_type": "display_data"
    }
   ],
   "source": [
    "import seaborn as sns\n",
    "plt.figure(figsize = (15,10))\n",
    "sns.displot(RFM_score['Recency'], kde = True)"
   ]
  },
  {
   "cell_type": "code",
   "execution_count": 664,
   "id": "99987147",
   "metadata": {},
   "outputs": [
    {
     "data": {
      "text/plain": [
       "<seaborn.axisgrid.FacetGrid at 0x2259bd2b190>"
      ]
     },
     "execution_count": 664,
     "metadata": {},
     "output_type": "execute_result"
    },
    {
     "data": {
      "text/plain": [
       "<Figure size 1080x1440 with 0 Axes>"
      ]
     },
     "metadata": {},
     "output_type": "display_data"
    },
    {
     "data": {
      "image/png": "[encoded data removed]",
      "text/plain": [
       "<Figure size 360x360 with 1 Axes>"
      ]
     },
     "metadata": {
      "needs_background": "light"
     },
     "output_type": "display_data"
    }
   ],
   "source": [
    "plt.figure(figsize = (15,20))\n",
    "sns.displot(RFM_score['Frequency'], kde = True)"
   ]
  },
  {
   "cell_type": "code",
   "execution_count": 665,
   "id": "e2ffb4b0",
   "metadata": {},
   "outputs": [
    {
     "data": {
      "text/plain": [
       "<seaborn.axisgrid.FacetGrid at 0x2259d0a3580>"
      ]
     },
     "execution_count": 665,
     "metadata": {},
     "output_type": "execute_result"
    },
    {
     "data": {
      "text/plain": [
       "<Figure size 1080x1440 with 0 Axes>"
      ]
     },
     "metadata": {},
     "output_type": "display_data"
    },
    {
     "data": {
      "image/png": "[encoded data removed]",
      "text/plain": [
       "<Figure size 360x360 with 1 Axes>"
      ]
     },
     "metadata": {
      "needs_background": "light"
     },
     "output_type": "display_data"
    }
   ],
   "source": [
    "plt.figure(figsize = (15,20))\n",
    "sns.displot(RFM_score['Monetary'], kde = True)"
   ]
  },
  {
   "cell_type": "markdown",
   "id": "c2525a4d",
   "metadata": {},
   "source": [
    "#### Looking above charts, it is clear that all the three featured are highly right skewed"
   ]
  },
  {
   "cell_type": "code",
   "execution_count": 666,
   "id": "68af36e7",
   "metadata": {},
   "outputs": [
    {
     "data": {
      "text/plain": [
       "<function matplotlib.pyplot.tight_layout(*, pad=1.08, h_pad=None, w_pad=None, rect=None)>"
      ]
     },
     "execution_count": 666,
     "metadata": {},
     "output_type": "execute_result"
    },
    {
     "data": {
      "image/png": "[encoded data removed]",
      "text/plain": [
       "<Figure size 1008x360 with 2 Axes>"
      ]
     },
     "metadata": {
      "needs_background": "light"
     },
     "output_type": "display_data"
    }
   ],
   "source": [
    "# Check frequency and monitary with respect to recency\n",
    "fig, axes = plt.subplots(1,2,figsize=(14,5))\n",
    "sns.scatterplot(ax = axes[0], x = RFM_score['Recency'], y = RFM_score['Frequency'])\n",
    "sns.scatterplot(ax = axes[1], x = RFM_score['Recency'], y = RFM_score['Monetary'])\n",
    "plt.tight_layout"
   ]
  },
  {
   "cell_type": "code",
   "execution_count": 667,
   "id": "c4d30bb0",
   "metadata": {},
   "outputs": [
    {
     "data": {
      "text/plain": [
       "0.25     17.0\n",
       "0.50     51.0\n",
       "0.75    144.0\n",
       "Name: Recency, dtype: float64"
      ]
     },
     "execution_count": 667,
     "metadata": {},
     "output_type": "execute_result"
    }
   ],
   "source": [
    "# Setting the benchmark using quntile method\n",
    "RFM_score['Recency'].quantile(q = [0.25,0.50,0.75])"
   ]
  },
  {
   "cell_type": "code",
   "execution_count": 668,
   "id": "7675c76a",
   "metadata": {},
   "outputs": [],
   "source": [
    "# We can change the quantile values as per requirement of data"
   ]
  },
  {
   "cell_type": "code",
   "execution_count": 669,
   "id": "565c9944",
   "metadata": {},
   "outputs": [
    {
     "data": {
      "text/plain": [
       "0.30     22.0\n",
       "0.65     85.0\n",
       "0.85    219.0\n",
       "Name: Recency, dtype: float64"
      ]
     },
     "execution_count": 669,
     "metadata": {},
     "output_type": "execute_result"
    }
   ],
   "source": [
    "RFM_score['Recency'].quantile(q = [0.30,0.65,0.85])"
   ]
  },
  {
   "cell_type": "code",
   "execution_count": 670,
   "id": "8e0b2e38",
   "metadata": {},
   "outputs": [
    {
     "data": {
      "text/plain": [
       "<AxesSubplot:xlabel='Recency', ylabel='Proportion'>"
      ]
     },
     "execution_count": 670,
     "metadata": {},
     "output_type": "execute_result"
    },
    {
     "data": {
      "image/png": "[encoded data removed]",
      "text/plain": [
       "<Figure size 432x288 with 1 Axes>"
      ]
     },
     "metadata": {
      "needs_background": "light"
     },
     "output_type": "display_data"
    }
   ],
   "source": [
    "sns.ecdfplot(RFM_score['Recency'])"
   ]
  },
  {
   "cell_type": "code",
   "execution_count": 671,
   "id": "4b8d1d19",
   "metadata": {},
   "outputs": [
    {
     "data": {
      "text/plain": [
       "<AxesSubplot:xlabel='Frequency', ylabel='Proportion'>"
      ]
     },
     "execution_count": 671,
     "metadata": {},
     "output_type": "execute_result"
    },
    {
     "data": {
      "image/png": "[encoded data removed]",
      "text/plain": [
       "<Figure size 432x288 with 1 Axes>"
      ]
     },
     "metadata": {
      "needs_background": "light"
     },
     "output_type": "display_data"
    }
   ],
   "source": [
    "sns.ecdfplot(RFM_score['Frequency'])"
   ]
  },
  {
   "cell_type": "code",
   "execution_count": 672,
   "id": "2fb75f58",
   "metadata": {},
   "outputs": [
    {
     "data": {
      "text/plain": [
       "0.980    27.000\n",
       "0.995    52.000\n",
       "0.998    78.032\n",
       "Name: Frequency, dtype: float64"
      ]
     },
     "execution_count": 672,
     "metadata": {},
     "output_type": "execute_result"
    }
   ],
   "source": [
    "RFM_score['Frequency'].quantile(q = [0.98,0.995,0.998])"
   ]
  },
  {
   "cell_type": "code",
   "execution_count": 673,
   "id": "cedafbe3",
   "metadata": {},
   "outputs": [
    {
     "data": {
      "text/plain": [
       "0.650     1079.02600\n",
       "0.950     5625.00400\n",
       "0.998    60253.65008\n",
       "Name: Monetary, dtype: float64"
      ]
     },
     "execution_count": 673,
     "metadata": {},
     "output_type": "execute_result"
    }
   ],
   "source": [
    "RFM_score['Monetary'].quantile(q = [0.65,0.95,0.998])"
   ]
  },
  {
   "cell_type": "code",
   "execution_count": 674,
   "id": "3412a7a7",
   "metadata": {},
   "outputs": [
    {
     "data": {
      "text/plain": [
       "<AxesSubplot:xlabel='Monetary', ylabel='Proportion'>"
      ]
     },
     "execution_count": 674,
     "metadata": {},
     "output_type": "execute_result"
    },
    {
     "data": {
      "image/png": "[encoded data removed]",
      "text/plain": [
       "<Figure size 432x288 with 1 Axes>"
      ]
     },
     "metadata": {
      "needs_background": "light"
     },
     "output_type": "display_data"
    }
   ],
   "source": [
    "sns.ecdfplot(RFM_score['Monetary'])"
   ]
  },
  {
   "cell_type": "code",
   "execution_count": 675,
   "id": "6f63c40c",
   "metadata": {},
   "outputs": [
    {
     "data": {
      "text/html": [
       "<div>\n",
       "<style scoped>\n",
       "    .dataframe tbody tr th:only-of-type {\n",
       "        vertical-align: middle;\n",
       "    }\n",
       "\n",
       "    .dataframe tbody tr th {\n",
       "        vertical-align: top;\n",
       "    }\n",
       "\n",
       "    .dataframe thead th {\n",
       "        text-align: right;\n",
       "    }\n",
       "</style>\n",
       "<table border=\"1\" class=\"dataframe\">\n",
       "  <thead>\n",
       "    <tr style=\"text-align: right;\">\n",
       "      <th></th>\n",
       "      <th>CustomerID</th>\n",
       "      <th>Recency</th>\n",
       "      <th>Frequency</th>\n",
       "      <th>Monetary</th>\n",
       "    </tr>\n",
       "  </thead>\n",
       "  <tbody>\n",
       "    <tr>\n",
       "      <th>0</th>\n",
       "      <td>12346.0</td>\n",
       "      <td>326</td>\n",
       "      <td>2</td>\n",
       "      <td>0.00</td>\n",
       "    </tr>\n",
       "    <tr>\n",
       "      <th>1</th>\n",
       "      <td>12347.0</td>\n",
       "      <td>3</td>\n",
       "      <td>7</td>\n",
       "      <td>4310.00</td>\n",
       "    </tr>\n",
       "    <tr>\n",
       "      <th>2</th>\n",
       "      <td>12348.0</td>\n",
       "      <td>76</td>\n",
       "      <td>4</td>\n",
       "      <td>1797.24</td>\n",
       "    </tr>\n",
       "    <tr>\n",
       "      <th>3</th>\n",
       "      <td>12349.0</td>\n",
       "      <td>19</td>\n",
       "      <td>1</td>\n",
       "      <td>1757.55</td>\n",
       "    </tr>\n",
       "    <tr>\n",
       "      <th>4</th>\n",
       "      <td>12350.0</td>\n",
       "      <td>311</td>\n",
       "      <td>1</td>\n",
       "      <td>334.40</td>\n",
       "    </tr>\n",
       "  </tbody>\n",
       "</table>\n",
       "</div>"
      ],
      "text/plain": [
       "   CustomerID  Recency  Frequency  Monetary\n",
       "0     12346.0      326          2      0.00\n",
       "1     12347.0        3          7   4310.00\n",
       "2     12348.0       76          4   1797.24\n",
       "3     12349.0       19          1   1757.55\n",
       "4     12350.0      311          1    334.40"
      ]
     },
     "execution_count": 675,
     "metadata": {},
     "output_type": "execute_result"
    }
   ],
   "source": [
    "RFM_score.head()"
   ]
  },
  {
   "cell_type": "code",
   "execution_count": 676,
   "id": "819a24b7",
   "metadata": {},
   "outputs": [],
   "source": [
    "quantile100 = RFM_score.quantile(q = [0.30,0.53,0.767])\n",
    "quantile200 = RFM_score.quantile(q = [0.98,0.995,0.998])\n",
    "quantile300 = RFM_score.quantile(q = [0.65,0.95,0.998])"
   ]
  },
  {
   "cell_type": "code",
   "execution_count": 677,
   "id": "8c3443b2",
   "metadata": {},
   "outputs": [
    {
     "data": {
      "text/html": [
       "<div>\n",
       "<style scoped>\n",
       "    .dataframe tbody tr th:only-of-type {\n",
       "        vertical-align: middle;\n",
       "    }\n",
       "\n",
       "    .dataframe tbody tr th {\n",
       "        vertical-align: top;\n",
       "    }\n",
       "\n",
       "    .dataframe thead th {\n",
       "        text-align: right;\n",
       "    }\n",
       "</style>\n",
       "<table border=\"1\" class=\"dataframe\">\n",
       "  <thead>\n",
       "    <tr style=\"text-align: right;\">\n",
       "      <th></th>\n",
       "      <th>CustomerID</th>\n",
       "      <th>Recency</th>\n",
       "      <th>Frequency</th>\n",
       "      <th>Monetary</th>\n",
       "    </tr>\n",
       "  </thead>\n",
       "  <tbody>\n",
       "    <tr>\n",
       "      <th>0.300</th>\n",
       "      <td>14110.300</td>\n",
       "      <td>22.0</td>\n",
       "      <td>1.0</td>\n",
       "      <td>337.37000</td>\n",
       "    </tr>\n",
       "    <tr>\n",
       "      <th>0.530</th>\n",
       "      <td>15479.260</td>\n",
       "      <td>54.0</td>\n",
       "      <td>3.0</td>\n",
       "      <td>705.79410</td>\n",
       "    </tr>\n",
       "    <tr>\n",
       "      <th>0.767</th>\n",
       "      <td>16882.557</td>\n",
       "      <td>156.0</td>\n",
       "      <td>6.0</td>\n",
       "      <td>1737.76684</td>\n",
       "    </tr>\n",
       "  </tbody>\n",
       "</table>\n",
       "</div>"
      ],
      "text/plain": [
       "       CustomerID  Recency  Frequency    Monetary\n",
       "0.300   14110.300     22.0        1.0   337.37000\n",
       "0.530   15479.260     54.0        3.0   705.79410\n",
       "0.767   16882.557    156.0        6.0  1737.76684"
      ]
     },
     "execution_count": 677,
     "metadata": {},
     "output_type": "execute_result"
    }
   ],
   "source": [
    "# Now we can pass this quantiles to R F M score to customers\n",
    "quantile100"
   ]
  },
  {
   "cell_type": "code",
   "execution_count": 678,
   "id": "c714d7a3",
   "metadata": {},
   "outputs": [],
   "source": [
    "# Recency\n",
    "def R_scoring(x,p,d):\n",
    "    if x<=d[p][0.3]:\n",
    "        return 4\n",
    "    elif x<=d[p][0.53]:\n",
    "        return 3\n",
    "    elif x<=d[p][0.767]:\n",
    "        return 2\n",
    "    else:\n",
    "        return 1"
   ]
  },
  {
   "cell_type": "code",
   "execution_count": 679,
   "id": "cda7f72a",
   "metadata": {},
   "outputs": [],
   "source": [
    "# Frequency\n",
    "def F_scoring(x,p,d):\n",
    "    if x<=d[p][0.98]:\n",
    "        return 1\n",
    "    elif x<=d[p][0.995]:\n",
    "        return 2\n",
    "    elif x<=d[p][0.998]:\n",
    "        return 3\n",
    "    else:\n",
    "        return 4"
   ]
  },
  {
   "cell_type": "code",
   "execution_count": 680,
   "id": "b2fed27d",
   "metadata": {},
   "outputs": [],
   "source": [
    "# Monetary\n",
    "def M_scoring(x,p,d):\n",
    "    if x<=d[p][0.65]:\n",
    "        return 1\n",
    "    elif x<=d[p][0.95]:\n",
    "        return 2\n",
    "    elif x<=d[p][0.998]:\n",
    "        return 3\n",
    "    else:\n",
    "        return 4"
   ]
  },
  {
   "cell_type": "code",
   "execution_count": 681,
   "id": "c68e0d4c",
   "metadata": {},
   "outputs": [],
   "source": [
    "# Creation of new coloumn R F M and passing the quantile varaibles"
   ]
  },
  {
   "cell_type": "code",
   "execution_count": 682,
   "id": "fc735059",
   "metadata": {},
   "outputs": [
    {
     "data": {
      "text/html": [
       "<div>\n",
       "<style scoped>\n",
       "    .dataframe tbody tr th:only-of-type {\n",
       "        vertical-align: middle;\n",
       "    }\n",
       "\n",
       "    .dataframe tbody tr th {\n",
       "        vertical-align: top;\n",
       "    }\n",
       "\n",
       "    .dataframe thead th {\n",
       "        text-align: right;\n",
       "    }\n",
       "</style>\n",
       "<table border=\"1\" class=\"dataframe\">\n",
       "  <thead>\n",
       "    <tr style=\"text-align: right;\">\n",
       "      <th></th>\n",
       "      <th>CustomerID</th>\n",
       "      <th>Recency</th>\n",
       "      <th>Frequency</th>\n",
       "      <th>Monetary</th>\n",
       "      <th>R</th>\n",
       "      <th>F</th>\n",
       "      <th>M</th>\n",
       "    </tr>\n",
       "  </thead>\n",
       "  <tbody>\n",
       "    <tr>\n",
       "      <th>0</th>\n",
       "      <td>12346.0</td>\n",
       "      <td>326</td>\n",
       "      <td>2</td>\n",
       "      <td>0.00</td>\n",
       "      <td>1</td>\n",
       "      <td>1</td>\n",
       "      <td>1</td>\n",
       "    </tr>\n",
       "    <tr>\n",
       "      <th>1</th>\n",
       "      <td>12347.0</td>\n",
       "      <td>3</td>\n",
       "      <td>7</td>\n",
       "      <td>4310.00</td>\n",
       "      <td>4</td>\n",
       "      <td>1</td>\n",
       "      <td>2</td>\n",
       "    </tr>\n",
       "    <tr>\n",
       "      <th>2</th>\n",
       "      <td>12348.0</td>\n",
       "      <td>76</td>\n",
       "      <td>4</td>\n",
       "      <td>1797.24</td>\n",
       "      <td>2</td>\n",
       "      <td>1</td>\n",
       "      <td>2</td>\n",
       "    </tr>\n",
       "    <tr>\n",
       "      <th>3</th>\n",
       "      <td>12349.0</td>\n",
       "      <td>19</td>\n",
       "      <td>1</td>\n",
       "      <td>1757.55</td>\n",
       "      <td>4</td>\n",
       "      <td>1</td>\n",
       "      <td>2</td>\n",
       "    </tr>\n",
       "    <tr>\n",
       "      <th>4</th>\n",
       "      <td>12350.0</td>\n",
       "      <td>311</td>\n",
       "      <td>1</td>\n",
       "      <td>334.40</td>\n",
       "      <td>1</td>\n",
       "      <td>1</td>\n",
       "      <td>1</td>\n",
       "    </tr>\n",
       "  </tbody>\n",
       "</table>\n",
       "</div>"
      ],
      "text/plain": [
       "   CustomerID  Recency  Frequency  Monetary  R  F  M\n",
       "0     12346.0      326          2      0.00  1  1  1\n",
       "1     12347.0        3          7   4310.00  4  1  2\n",
       "2     12348.0       76          4   1797.24  2  1  2\n",
       "3     12349.0       19          1   1757.55  4  1  2\n",
       "4     12350.0      311          1    334.40  1  1  1"
      ]
     },
     "execution_count": 682,
     "metadata": {},
     "output_type": "execute_result"
    }
   ],
   "source": [
    "RFM_score['R'] = RFM_score['Recency'].apply(R_scoring, args = ('Recency', quantile100))\n",
    "RFM_score['F'] = RFM_score['Frequency'].apply(F_scoring, args = ('Frequency', quantile200))\n",
    "RFM_score['M'] = RFM_score['Monetary'].apply(M_scoring, args = ('Monetary', quantile300))\n",
    "RFM_score.head()"
   ]
  },
  {
   "cell_type": "code",
   "execution_count": 683,
   "id": "fa270186",
   "metadata": {},
   "outputs": [
    {
     "data": {
      "text/html": [
       "<div>\n",
       "<style scoped>\n",
       "    .dataframe tbody tr th:only-of-type {\n",
       "        vertical-align: middle;\n",
       "    }\n",
       "\n",
       "    .dataframe tbody tr th {\n",
       "        vertical-align: top;\n",
       "    }\n",
       "\n",
       "    .dataframe thead th {\n",
       "        text-align: right;\n",
       "    }\n",
       "</style>\n",
       "<table border=\"1\" class=\"dataframe\">\n",
       "  <thead>\n",
       "    <tr style=\"text-align: right;\">\n",
       "      <th></th>\n",
       "      <th>CustomerID</th>\n",
       "      <th>Recency</th>\n",
       "      <th>Frequency</th>\n",
       "      <th>Monetary</th>\n",
       "      <th>R</th>\n",
       "      <th>F</th>\n",
       "      <th>M</th>\n",
       "      <th>RFM ID</th>\n",
       "    </tr>\n",
       "  </thead>\n",
       "  <tbody>\n",
       "    <tr>\n",
       "      <th>0</th>\n",
       "      <td>12346.0</td>\n",
       "      <td>326</td>\n",
       "      <td>2</td>\n",
       "      <td>0.00</td>\n",
       "      <td>1</td>\n",
       "      <td>1</td>\n",
       "      <td>1</td>\n",
       "      <td>111</td>\n",
       "    </tr>\n",
       "    <tr>\n",
       "      <th>1</th>\n",
       "      <td>12347.0</td>\n",
       "      <td>3</td>\n",
       "      <td>7</td>\n",
       "      <td>4310.00</td>\n",
       "      <td>4</td>\n",
       "      <td>1</td>\n",
       "      <td>2</td>\n",
       "      <td>412</td>\n",
       "    </tr>\n",
       "    <tr>\n",
       "      <th>2</th>\n",
       "      <td>12348.0</td>\n",
       "      <td>76</td>\n",
       "      <td>4</td>\n",
       "      <td>1797.24</td>\n",
       "      <td>2</td>\n",
       "      <td>1</td>\n",
       "      <td>2</td>\n",
       "      <td>212</td>\n",
       "    </tr>\n",
       "    <tr>\n",
       "      <th>3</th>\n",
       "      <td>12349.0</td>\n",
       "      <td>19</td>\n",
       "      <td>1</td>\n",
       "      <td>1757.55</td>\n",
       "      <td>4</td>\n",
       "      <td>1</td>\n",
       "      <td>2</td>\n",
       "      <td>412</td>\n",
       "    </tr>\n",
       "    <tr>\n",
       "      <th>4</th>\n",
       "      <td>12350.0</td>\n",
       "      <td>311</td>\n",
       "      <td>1</td>\n",
       "      <td>334.40</td>\n",
       "      <td>1</td>\n",
       "      <td>1</td>\n",
       "      <td>1</td>\n",
       "      <td>111</td>\n",
       "    </tr>\n",
       "  </tbody>\n",
       "</table>\n",
       "</div>"
      ],
      "text/plain": [
       "   CustomerID  Recency  Frequency  Monetary  R  F  M RFM ID\n",
       "0     12346.0      326          2      0.00  1  1  1    111\n",
       "1     12347.0        3          7   4310.00  4  1  2    412\n",
       "2     12348.0       76          4   1797.24  2  1  2    212\n",
       "3     12349.0       19          1   1757.55  4  1  2    412\n",
       "4     12350.0      311          1    334.40  1  1  1    111"
      ]
     },
     "execution_count": 683,
     "metadata": {},
     "output_type": "execute_result"
    }
   ],
   "source": [
    "# Create RFM ID for the customer\n",
    "RFM_score['RFM ID'] = RFM_score.R.map(str)+RFM_score.F.map(str)+RFM_score.M.map(str)\n",
    "RFM_score.head()"
   ]
  },
  {
   "cell_type": "code",
   "execution_count": 684,
   "id": "b5a0589a",
   "metadata": {},
   "outputs": [
    {
     "data": {
      "text/html": [
       "<div>\n",
       "<style scoped>\n",
       "    .dataframe tbody tr th:only-of-type {\n",
       "        vertical-align: middle;\n",
       "    }\n",
       "\n",
       "    .dataframe tbody tr th {\n",
       "        vertical-align: top;\n",
       "    }\n",
       "\n",
       "    .dataframe thead th {\n",
       "        text-align: right;\n",
       "    }\n",
       "</style>\n",
       "<table border=\"1\" class=\"dataframe\">\n",
       "  <thead>\n",
       "    <tr style=\"text-align: right;\">\n",
       "      <th></th>\n",
       "      <th>CustomerID</th>\n",
       "      <th>Recency</th>\n",
       "      <th>Frequency</th>\n",
       "      <th>Monetary</th>\n",
       "      <th>R</th>\n",
       "      <th>F</th>\n",
       "      <th>M</th>\n",
       "      <th>RFM ID</th>\n",
       "      <th>RFM sum</th>\n",
       "    </tr>\n",
       "  </thead>\n",
       "  <tbody>\n",
       "    <tr>\n",
       "      <th>0</th>\n",
       "      <td>12346.0</td>\n",
       "      <td>326</td>\n",
       "      <td>2</td>\n",
       "      <td>0.00</td>\n",
       "      <td>1</td>\n",
       "      <td>1</td>\n",
       "      <td>1</td>\n",
       "      <td>111</td>\n",
       "      <td>3</td>\n",
       "    </tr>\n",
       "    <tr>\n",
       "      <th>1</th>\n",
       "      <td>12347.0</td>\n",
       "      <td>3</td>\n",
       "      <td>7</td>\n",
       "      <td>4310.00</td>\n",
       "      <td>4</td>\n",
       "      <td>1</td>\n",
       "      <td>2</td>\n",
       "      <td>412</td>\n",
       "      <td>7</td>\n",
       "    </tr>\n",
       "    <tr>\n",
       "      <th>2</th>\n",
       "      <td>12348.0</td>\n",
       "      <td>76</td>\n",
       "      <td>4</td>\n",
       "      <td>1797.24</td>\n",
       "      <td>2</td>\n",
       "      <td>1</td>\n",
       "      <td>2</td>\n",
       "      <td>212</td>\n",
       "      <td>5</td>\n",
       "    </tr>\n",
       "    <tr>\n",
       "      <th>3</th>\n",
       "      <td>12349.0</td>\n",
       "      <td>19</td>\n",
       "      <td>1</td>\n",
       "      <td>1757.55</td>\n",
       "      <td>4</td>\n",
       "      <td>1</td>\n",
       "      <td>2</td>\n",
       "      <td>412</td>\n",
       "      <td>7</td>\n",
       "    </tr>\n",
       "    <tr>\n",
       "      <th>4</th>\n",
       "      <td>12350.0</td>\n",
       "      <td>311</td>\n",
       "      <td>1</td>\n",
       "      <td>334.40</td>\n",
       "      <td>1</td>\n",
       "      <td>1</td>\n",
       "      <td>1</td>\n",
       "      <td>111</td>\n",
       "      <td>3</td>\n",
       "    </tr>\n",
       "  </tbody>\n",
       "</table>\n",
       "</div>"
      ],
      "text/plain": [
       "   CustomerID  Recency  Frequency  Monetary  R  F  M RFM ID  RFM sum\n",
       "0     12346.0      326          2      0.00  1  1  1    111        3\n",
       "1     12347.0        3          7   4310.00  4  1  2    412        7\n",
       "2     12348.0       76          4   1797.24  2  1  2    212        5\n",
       "3     12349.0       19          1   1757.55  4  1  2    412        7\n",
       "4     12350.0      311          1    334.40  1  1  1    111        3"
      ]
     },
     "execution_count": 684,
     "metadata": {},
     "output_type": "execute_result"
    }
   ],
   "source": [
    "# Create new colomn RFM sum\n",
    "RFM_score['RFM sum'] = RFM_score['R']+RFM_score['F']+RFM_score['M']\n",
    "RFM_score.head()"
   ]
  },
  {
   "cell_type": "code",
   "execution_count": 685,
   "id": "9d435a41",
   "metadata": {},
   "outputs": [],
   "source": [
    "# Assigning loyality level\n",
    "Lotality_level = ['Silver', 'Gold', 'Diamond', 'Platinum']"
   ]
  },
  {
   "cell_type": "code",
   "execution_count": 686,
   "id": "210c14de",
   "metadata": {},
   "outputs": [
    {
     "data": {
      "text/plain": [
       "0.25     4.0\n",
       "0.90     7.0\n",
       "1.00    12.0\n",
       "Name: RFM sum, dtype: float64"
      ]
     },
     "execution_count": 686,
     "metadata": {},
     "output_type": "execute_result"
    }
   ],
   "source": [
    "RFM_score['RFM sum'].quantile(q = [0.25,0.90,1])"
   ]
  },
  {
   "cell_type": "code",
   "execution_count": 687,
   "id": "fd0b691e",
   "metadata": {},
   "outputs": [
    {
     "data": {
      "text/html": [
       "<div>\n",
       "<style scoped>\n",
       "    .dataframe tbody tr th:only-of-type {\n",
       "        vertical-align: middle;\n",
       "    }\n",
       "\n",
       "    .dataframe tbody tr th {\n",
       "        vertical-align: top;\n",
       "    }\n",
       "\n",
       "    .dataframe thead th {\n",
       "        text-align: right;\n",
       "    }\n",
       "</style>\n",
       "<table border=\"1\" class=\"dataframe\">\n",
       "  <thead>\n",
       "    <tr style=\"text-align: right;\">\n",
       "      <th></th>\n",
       "      <th>CustomerID</th>\n",
       "      <th>Recency</th>\n",
       "      <th>Frequency</th>\n",
       "      <th>Monetary</th>\n",
       "      <th>R</th>\n",
       "      <th>F</th>\n",
       "      <th>M</th>\n",
       "      <th>RFM ID</th>\n",
       "      <th>RFM sum</th>\n",
       "      <th>Lotality</th>\n",
       "    </tr>\n",
       "  </thead>\n",
       "  <tbody>\n",
       "    <tr>\n",
       "      <th>0</th>\n",
       "      <td>12346.0</td>\n",
       "      <td>326</td>\n",
       "      <td>2</td>\n",
       "      <td>0.00</td>\n",
       "      <td>1</td>\n",
       "      <td>1</td>\n",
       "      <td>1</td>\n",
       "      <td>111</td>\n",
       "      <td>3</td>\n",
       "      <td>Silver</td>\n",
       "    </tr>\n",
       "    <tr>\n",
       "      <th>1</th>\n",
       "      <td>12347.0</td>\n",
       "      <td>3</td>\n",
       "      <td>7</td>\n",
       "      <td>4310.00</td>\n",
       "      <td>4</td>\n",
       "      <td>1</td>\n",
       "      <td>2</td>\n",
       "      <td>412</td>\n",
       "      <td>7</td>\n",
       "      <td>Platinum</td>\n",
       "    </tr>\n",
       "    <tr>\n",
       "      <th>2</th>\n",
       "      <td>12348.0</td>\n",
       "      <td>76</td>\n",
       "      <td>4</td>\n",
       "      <td>1797.24</td>\n",
       "      <td>2</td>\n",
       "      <td>1</td>\n",
       "      <td>2</td>\n",
       "      <td>212</td>\n",
       "      <td>5</td>\n",
       "      <td>Gold</td>\n",
       "    </tr>\n",
       "    <tr>\n",
       "      <th>3</th>\n",
       "      <td>12349.0</td>\n",
       "      <td>19</td>\n",
       "      <td>1</td>\n",
       "      <td>1757.55</td>\n",
       "      <td>4</td>\n",
       "      <td>1</td>\n",
       "      <td>2</td>\n",
       "      <td>412</td>\n",
       "      <td>7</td>\n",
       "      <td>Platinum</td>\n",
       "    </tr>\n",
       "    <tr>\n",
       "      <th>4</th>\n",
       "      <td>12350.0</td>\n",
       "      <td>311</td>\n",
       "      <td>1</td>\n",
       "      <td>334.40</td>\n",
       "      <td>1</td>\n",
       "      <td>1</td>\n",
       "      <td>1</td>\n",
       "      <td>111</td>\n",
       "      <td>3</td>\n",
       "      <td>Silver</td>\n",
       "    </tr>\n",
       "    <tr>\n",
       "      <th>...</th>\n",
       "      <td>...</td>\n",
       "      <td>...</td>\n",
       "      <td>...</td>\n",
       "      <td>...</td>\n",
       "      <td>...</td>\n",
       "      <td>...</td>\n",
       "      <td>...</td>\n",
       "      <td>...</td>\n",
       "      <td>...</td>\n",
       "      <td>...</td>\n",
       "    </tr>\n",
       "    <tr>\n",
       "      <th>4367</th>\n",
       "      <td>18280.0</td>\n",
       "      <td>278</td>\n",
       "      <td>1</td>\n",
       "      <td>180.60</td>\n",
       "      <td>1</td>\n",
       "      <td>1</td>\n",
       "      <td>1</td>\n",
       "      <td>111</td>\n",
       "      <td>3</td>\n",
       "      <td>Silver</td>\n",
       "    </tr>\n",
       "    <tr>\n",
       "      <th>4368</th>\n",
       "      <td>18281.0</td>\n",
       "      <td>181</td>\n",
       "      <td>1</td>\n",
       "      <td>80.82</td>\n",
       "      <td>1</td>\n",
       "      <td>1</td>\n",
       "      <td>1</td>\n",
       "      <td>111</td>\n",
       "      <td>3</td>\n",
       "      <td>Silver</td>\n",
       "    </tr>\n",
       "    <tr>\n",
       "      <th>4369</th>\n",
       "      <td>18282.0</td>\n",
       "      <td>8</td>\n",
       "      <td>3</td>\n",
       "      <td>176.60</td>\n",
       "      <td>4</td>\n",
       "      <td>1</td>\n",
       "      <td>1</td>\n",
       "      <td>411</td>\n",
       "      <td>6</td>\n",
       "      <td>Diamond</td>\n",
       "    </tr>\n",
       "    <tr>\n",
       "      <th>4370</th>\n",
       "      <td>18283.0</td>\n",
       "      <td>4</td>\n",
       "      <td>16</td>\n",
       "      <td>2094.88</td>\n",
       "      <td>4</td>\n",
       "      <td>1</td>\n",
       "      <td>2</td>\n",
       "      <td>412</td>\n",
       "      <td>7</td>\n",
       "      <td>Platinum</td>\n",
       "    </tr>\n",
       "    <tr>\n",
       "      <th>4371</th>\n",
       "      <td>18287.0</td>\n",
       "      <td>43</td>\n",
       "      <td>3</td>\n",
       "      <td>1837.28</td>\n",
       "      <td>3</td>\n",
       "      <td>1</td>\n",
       "      <td>2</td>\n",
       "      <td>312</td>\n",
       "      <td>6</td>\n",
       "      <td>Diamond</td>\n",
       "    </tr>\n",
       "  </tbody>\n",
       "</table>\n",
       "<p>4372 rows × 10 columns</p>\n",
       "</div>"
      ],
      "text/plain": [
       "      CustomerID  Recency  Frequency  Monetary  R  F  M RFM ID  RFM sum  \\\n",
       "0        12346.0      326          2      0.00  1  1  1    111        3   \n",
       "1        12347.0        3          7   4310.00  4  1  2    412        7   \n",
       "2        12348.0       76          4   1797.24  2  1  2    212        5   \n",
       "3        12349.0       19          1   1757.55  4  1  2    412        7   \n",
       "4        12350.0      311          1    334.40  1  1  1    111        3   \n",
       "...          ...      ...        ...       ... .. .. ..    ...      ...   \n",
       "4367     18280.0      278          1    180.60  1  1  1    111        3   \n",
       "4368     18281.0      181          1     80.82  1  1  1    111        3   \n",
       "4369     18282.0        8          3    176.60  4  1  1    411        6   \n",
       "4370     18283.0        4         16   2094.88  4  1  2    412        7   \n",
       "4371     18287.0       43          3   1837.28  3  1  2    312        6   \n",
       "\n",
       "      Lotality  \n",
       "0       Silver  \n",
       "1     Platinum  \n",
       "2         Gold  \n",
       "3     Platinum  \n",
       "4       Silver  \n",
       "...        ...  \n",
       "4367    Silver  \n",
       "4368    Silver  \n",
       "4369   Diamond  \n",
       "4370  Platinum  \n",
       "4371   Diamond  \n",
       "\n",
       "[4372 rows x 10 columns]"
      ]
     },
     "execution_count": 687,
     "metadata": {},
     "output_type": "execute_result"
    }
   ],
   "source": [
    "# Apply the q-cut function\n",
    "RFM_score['Lotality'] = pd.qcut(RFM_score['RFM sum'], q = 4, labels=Lotality_level)\n",
    "RFM_score"
   ]
  },
  {
   "cell_type": "code",
   "execution_count": 688,
   "id": "28a31621",
   "metadata": {},
   "outputs": [
    {
     "data": {
      "text/html": [
       "<div>\n",
       "<style scoped>\n",
       "    .dataframe tbody tr th:only-of-type {\n",
       "        vertical-align: middle;\n",
       "    }\n",
       "\n",
       "    .dataframe tbody tr th {\n",
       "        vertical-align: top;\n",
       "    }\n",
       "\n",
       "    .dataframe thead th {\n",
       "        text-align: right;\n",
       "    }\n",
       "</style>\n",
       "<table border=\"1\" class=\"dataframe\">\n",
       "  <thead>\n",
       "    <tr style=\"text-align: right;\">\n",
       "      <th></th>\n",
       "      <th>RFM sum</th>\n",
       "    </tr>\n",
       "  </thead>\n",
       "  <tbody>\n",
       "    <tr>\n",
       "      <th>0</th>\n",
       "      <td>3</td>\n",
       "    </tr>\n",
       "    <tr>\n",
       "      <th>1</th>\n",
       "      <td>7</td>\n",
       "    </tr>\n",
       "    <tr>\n",
       "      <th>2</th>\n",
       "      <td>5</td>\n",
       "    </tr>\n",
       "    <tr>\n",
       "      <th>3</th>\n",
       "      <td>7</td>\n",
       "    </tr>\n",
       "    <tr>\n",
       "      <th>4</th>\n",
       "      <td>3</td>\n",
       "    </tr>\n",
       "    <tr>\n",
       "      <th>...</th>\n",
       "      <td>...</td>\n",
       "    </tr>\n",
       "    <tr>\n",
       "      <th>4367</th>\n",
       "      <td>3</td>\n",
       "    </tr>\n",
       "    <tr>\n",
       "      <th>4368</th>\n",
       "      <td>3</td>\n",
       "    </tr>\n",
       "    <tr>\n",
       "      <th>4369</th>\n",
       "      <td>6</td>\n",
       "    </tr>\n",
       "    <tr>\n",
       "      <th>4370</th>\n",
       "      <td>7</td>\n",
       "    </tr>\n",
       "    <tr>\n",
       "      <th>4371</th>\n",
       "      <td>6</td>\n",
       "    </tr>\n",
       "  </tbody>\n",
       "</table>\n",
       "<p>4372 rows × 1 columns</p>\n",
       "</div>"
      ],
      "text/plain": [
       "      RFM sum\n",
       "0           3\n",
       "1           7\n",
       "2           5\n",
       "3           7\n",
       "4           3\n",
       "...       ...\n",
       "4367        3\n",
       "4368        3\n",
       "4369        6\n",
       "4370        7\n",
       "4371        6\n",
       "\n",
       "[4372 rows x 1 columns]"
      ]
     },
     "execution_count": 688,
     "metadata": {},
     "output_type": "execute_result"
    }
   ],
   "source": [
    "new_data = RFM_score[['RFM sum']]\n",
    "new_data"
   ]
  },
  {
   "cell_type": "code",
   "execution_count": 689,
   "id": "608c708d",
   "metadata": {},
   "outputs": [],
   "source": [
    "# applying the k-means algorithm\n",
    "\n",
    "from sklearn.cluster import KMeans\n",
    "\n",
    "SSE=[]\n",
    "\n",
    "for K in range (1,30):\n",
    "    Kmeans=KMeans(n_clusters=K,init=\"k-means++\")\n",
    "    Kmeans.fit(new_data)\n",
    "    SSE.append(Kmeans.inertia_)\n"
   ]
  },
  {
   "cell_type": "code",
   "execution_count": 690,
   "id": "26765c86",
   "metadata": {},
   "outputs": [
    {
     "data": {
      "text/plain": [
       "Text(0, 0.5, 'Inertia')"
      ]
     },
     "execution_count": 690,
     "metadata": {},
     "output_type": "execute_result"
    },
    {
     "data": {
      "image/png": "[encoded data removed]",
      "text/plain": [
       "<Figure size 576x360 with 1 Axes>"
      ]
     },
     "metadata": {
      "needs_background": "light"
     },
     "output_type": "display_data"
    }
   ],
   "source": [
    "frame=pd.DataFrame({\"cluster\":range(1,30),\"SSE\":SSE})\n",
    "plt.figure(figsize=(8,5))\n",
    "plt.plot(frame[\"cluster\"],frame[\"SSE\"],marker=\"o\")\n",
    "plt.xlabel(\"Number of clusters\")\n",
    "plt.ylabel(\"Inertia\")\n"
   ]
  },
  {
   "cell_type": "code",
   "execution_count": 691,
   "id": "106f7008",
   "metadata": {},
   "outputs": [
    {
     "data": {
      "text/plain": [
       "array([2, 1, 0, ..., 3, 1, 3])"
      ]
     },
     "execution_count": 691,
     "metadata": {},
     "output_type": "execute_result"
    }
   ],
   "source": [
    "from sklearn.cluster import KMeans\n",
    "km = KMeans(n_clusters = 4, init = \"k-means++\", max_iter = 100, random_state = 10)\n",
    "y_km = km.fit_predict(new_data)\n",
    "y_km"
   ]
  },
  {
   "cell_type": "code",
   "execution_count": 692,
   "id": "72f2b9ff",
   "metadata": {},
   "outputs": [],
   "source": [
    "seg_map={\n",
    "    r'[1][1-2][2-3]':\"Inactive\",\n",
    "    r'[1-2][1-3][3]':\"at-Risk\",\n",
    "    r'[1-2][1-4][3-4]':\"cant_lose\",\n",
    "    r'[1][1-4][2-4]':\"about_to_sleep\",\n",
    "    #r'[3][3][3]':\"need_attention\",\n",
    "    r'[3-4][3-4][2-4]':\"promising\",\n",
    "    r'[1-2][1-4][1-2]':\"new customer\",\n",
    "    r'[3-4][[1-4][1]':'Target-upsell',\n",
    "    r'[3-4][[1-2][1-2]':'Nurture',\n",
    "    r'[3-4][[1-2][3-4]': 'Drive_Loyality',\n",
    "    }\n",
    "\n",
    "RFM_score[\"Segment\"]=RFM_score[\"RFM ID\"].replace(seg_map,regex=True)\n"
   ]
  },
  {
   "cell_type": "code",
   "execution_count": 693,
   "id": "259dadd5",
   "metadata": {},
   "outputs": [
    {
     "data": {
      "text/html": [
       "<div>\n",
       "<style scoped>\n",
       "    .dataframe tbody tr th:only-of-type {\n",
       "        vertical-align: middle;\n",
       "    }\n",
       "\n",
       "    .dataframe tbody tr th {\n",
       "        vertical-align: top;\n",
       "    }\n",
       "\n",
       "    .dataframe thead th {\n",
       "        text-align: right;\n",
       "    }\n",
       "</style>\n",
       "<table border=\"1\" class=\"dataframe\">\n",
       "  <thead>\n",
       "    <tr style=\"text-align: right;\">\n",
       "      <th></th>\n",
       "      <th>CustomerID</th>\n",
       "      <th>Recency</th>\n",
       "      <th>Frequency</th>\n",
       "      <th>Monetary</th>\n",
       "      <th>R</th>\n",
       "      <th>F</th>\n",
       "      <th>M</th>\n",
       "      <th>RFM ID</th>\n",
       "      <th>RFM sum</th>\n",
       "      <th>Lotality</th>\n",
       "      <th>Segment</th>\n",
       "    </tr>\n",
       "  </thead>\n",
       "  <tbody>\n",
       "    <tr>\n",
       "      <th>0</th>\n",
       "      <td>12346.0</td>\n",
       "      <td>326</td>\n",
       "      <td>2</td>\n",
       "      <td>0.00</td>\n",
       "      <td>1</td>\n",
       "      <td>1</td>\n",
       "      <td>1</td>\n",
       "      <td>111</td>\n",
       "      <td>3</td>\n",
       "      <td>Silver</td>\n",
       "      <td>new customer</td>\n",
       "    </tr>\n",
       "    <tr>\n",
       "      <th>1</th>\n",
       "      <td>12347.0</td>\n",
       "      <td>3</td>\n",
       "      <td>7</td>\n",
       "      <td>4310.00</td>\n",
       "      <td>4</td>\n",
       "      <td>1</td>\n",
       "      <td>2</td>\n",
       "      <td>412</td>\n",
       "      <td>7</td>\n",
       "      <td>Platinum</td>\n",
       "      <td>Nurture</td>\n",
       "    </tr>\n",
       "    <tr>\n",
       "      <th>2</th>\n",
       "      <td>12348.0</td>\n",
       "      <td>76</td>\n",
       "      <td>4</td>\n",
       "      <td>1797.24</td>\n",
       "      <td>2</td>\n",
       "      <td>1</td>\n",
       "      <td>2</td>\n",
       "      <td>212</td>\n",
       "      <td>5</td>\n",
       "      <td>Gold</td>\n",
       "      <td>new customer</td>\n",
       "    </tr>\n",
       "    <tr>\n",
       "      <th>3</th>\n",
       "      <td>12349.0</td>\n",
       "      <td>19</td>\n",
       "      <td>1</td>\n",
       "      <td>1757.55</td>\n",
       "      <td>4</td>\n",
       "      <td>1</td>\n",
       "      <td>2</td>\n",
       "      <td>412</td>\n",
       "      <td>7</td>\n",
       "      <td>Platinum</td>\n",
       "      <td>Nurture</td>\n",
       "    </tr>\n",
       "    <tr>\n",
       "      <th>4</th>\n",
       "      <td>12350.0</td>\n",
       "      <td>311</td>\n",
       "      <td>1</td>\n",
       "      <td>334.40</td>\n",
       "      <td>1</td>\n",
       "      <td>1</td>\n",
       "      <td>1</td>\n",
       "      <td>111</td>\n",
       "      <td>3</td>\n",
       "      <td>Silver</td>\n",
       "      <td>new customer</td>\n",
       "    </tr>\n",
       "    <tr>\n",
       "      <th>...</th>\n",
       "      <td>...</td>\n",
       "      <td>...</td>\n",
       "      <td>...</td>\n",
       "      <td>...</td>\n",
       "      <td>...</td>\n",
       "      <td>...</td>\n",
       "      <td>...</td>\n",
       "      <td>...</td>\n",
       "      <td>...</td>\n",
       "      <td>...</td>\n",
       "      <td>...</td>\n",
       "    </tr>\n",
       "    <tr>\n",
       "      <th>4367</th>\n",
       "      <td>18280.0</td>\n",
       "      <td>278</td>\n",
       "      <td>1</td>\n",
       "      <td>180.60</td>\n",
       "      <td>1</td>\n",
       "      <td>1</td>\n",
       "      <td>1</td>\n",
       "      <td>111</td>\n",
       "      <td>3</td>\n",
       "      <td>Silver</td>\n",
       "      <td>new customer</td>\n",
       "    </tr>\n",
       "    <tr>\n",
       "      <th>4368</th>\n",
       "      <td>18281.0</td>\n",
       "      <td>181</td>\n",
       "      <td>1</td>\n",
       "      <td>80.82</td>\n",
       "      <td>1</td>\n",
       "      <td>1</td>\n",
       "      <td>1</td>\n",
       "      <td>111</td>\n",
       "      <td>3</td>\n",
       "      <td>Silver</td>\n",
       "      <td>new customer</td>\n",
       "    </tr>\n",
       "    <tr>\n",
       "      <th>4369</th>\n",
       "      <td>18282.0</td>\n",
       "      <td>8</td>\n",
       "      <td>3</td>\n",
       "      <td>176.60</td>\n",
       "      <td>4</td>\n",
       "      <td>1</td>\n",
       "      <td>1</td>\n",
       "      <td>411</td>\n",
       "      <td>6</td>\n",
       "      <td>Diamond</td>\n",
       "      <td>Target-upsell</td>\n",
       "    </tr>\n",
       "    <tr>\n",
       "      <th>4370</th>\n",
       "      <td>18283.0</td>\n",
       "      <td>4</td>\n",
       "      <td>16</td>\n",
       "      <td>2094.88</td>\n",
       "      <td>4</td>\n",
       "      <td>1</td>\n",
       "      <td>2</td>\n",
       "      <td>412</td>\n",
       "      <td>7</td>\n",
       "      <td>Platinum</td>\n",
       "      <td>Nurture</td>\n",
       "    </tr>\n",
       "    <tr>\n",
       "      <th>4371</th>\n",
       "      <td>18287.0</td>\n",
       "      <td>43</td>\n",
       "      <td>3</td>\n",
       "      <td>1837.28</td>\n",
       "      <td>3</td>\n",
       "      <td>1</td>\n",
       "      <td>2</td>\n",
       "      <td>312</td>\n",
       "      <td>6</td>\n",
       "      <td>Diamond</td>\n",
       "      <td>Nurture</td>\n",
       "    </tr>\n",
       "  </tbody>\n",
       "</table>\n",
       "<p>4372 rows × 11 columns</p>\n",
       "</div>"
      ],
      "text/plain": [
       "      CustomerID  Recency  Frequency  Monetary  R  F  M RFM ID  RFM sum  \\\n",
       "0        12346.0      326          2      0.00  1  1  1    111        3   \n",
       "1        12347.0        3          7   4310.00  4  1  2    412        7   \n",
       "2        12348.0       76          4   1797.24  2  1  2    212        5   \n",
       "3        12349.0       19          1   1757.55  4  1  2    412        7   \n",
       "4        12350.0      311          1    334.40  1  1  1    111        3   \n",
       "...          ...      ...        ...       ... .. .. ..    ...      ...   \n",
       "4367     18280.0      278          1    180.60  1  1  1    111        3   \n",
       "4368     18281.0      181          1     80.82  1  1  1    111        3   \n",
       "4369     18282.0        8          3    176.60  4  1  1    411        6   \n",
       "4370     18283.0        4         16   2094.88  4  1  2    412        7   \n",
       "4371     18287.0       43          3   1837.28  3  1  2    312        6   \n",
       "\n",
       "      Lotality        Segment  \n",
       "0       Silver   new customer  \n",
       "1     Platinum        Nurture  \n",
       "2         Gold   new customer  \n",
       "3     Platinum        Nurture  \n",
       "4       Silver   new customer  \n",
       "...        ...            ...  \n",
       "4367    Silver   new customer  \n",
       "4368    Silver   new customer  \n",
       "4369   Diamond  Target-upsell  \n",
       "4370  Platinum        Nurture  \n",
       "4371   Diamond        Nurture  \n",
       "\n",
       "[4372 rows x 11 columns]"
      ]
     },
     "execution_count": 693,
     "metadata": {},
     "output_type": "execute_result"
    }
   ],
   "source": [
    "RFM_score"
   ]
  },
  {
   "cell_type": "code",
   "execution_count": 745,
   "id": "3c8d5263",
   "metadata": {},
   "outputs": [
    {
     "data": {
      "image/png": "[encoded data removed]",
      "text/plain": [
       "<Figure size 432x432 with 1 Axes>"
      ]
     },
     "metadata": {},
     "output_type": "display_data"
    }
   ],
   "source": [
    "plt.figure(figsize=(6,6))\n",
    "plt.pie(RFM_score['Lotality'].value_counts(), labels = RFM_score['Lotality'].value_counts().index,autopct = '%2f%%')\n",
    "plt.title('Loyality pie chart')\n",
    "plt.show()"
   ]
  },
  {
   "cell_type": "code",
   "execution_count": 744,
   "id": "20e5bf01",
   "metadata": {},
   "outputs": [
    {
     "data": {
      "image/png": "[encoded data removed]",
      "text/plain": [
       "<Figure size 576x576 with 1 Axes>"
      ]
     },
     "metadata": {},
     "output_type": "display_data"
    }
   ],
   "source": [
    "plt.figure(figsize=(8,8))\n",
    "plt.pie(RFM_score['Segment'].value_counts(), labels = RFM_score['Segment'].value_counts().index,autopct = '%2f%%')\n",
    "plt.title('Segment pie chart')\n",
    "plt.show()"
   ]
  },
  {
   "cell_type": "markdown",
   "id": "428d084c",
   "metadata": {},
   "source": [
    "### PART 2: Sales trends for day month season time by invoice number/customer ID"
   ]
  },
  {
   "cell_type": "code",
   "execution_count": 694,
   "id": "5af9f9cf",
   "metadata": {},
   "outputs": [
    {
     "data": {
      "text/html": [
       "<div>\n",
       "<style scoped>\n",
       "    .dataframe tbody tr th:only-of-type {\n",
       "        vertical-align: middle;\n",
       "    }\n",
       "\n",
       "    .dataframe tbody tr th {\n",
       "        vertical-align: top;\n",
       "    }\n",
       "\n",
       "    .dataframe thead th {\n",
       "        text-align: right;\n",
       "    }\n",
       "</style>\n",
       "<table border=\"1\" class=\"dataframe\">\n",
       "  <thead>\n",
       "    <tr style=\"text-align: right;\">\n",
       "      <th></th>\n",
       "      <th>InvoiceNo</th>\n",
       "      <th>StockCode</th>\n",
       "      <th>lower</th>\n",
       "      <th>Description</th>\n",
       "      <th>Quantity</th>\n",
       "      <th>InvoiceDate</th>\n",
       "      <th>UnitPrice</th>\n",
       "      <th>CustomerID</th>\n",
       "      <th>Country</th>\n",
       "    </tr>\n",
       "  </thead>\n",
       "  <tbody>\n",
       "    <tr>\n",
       "      <th>0</th>\n",
       "      <td>536365</td>\n",
       "      <td>85123A</td>\n",
       "      <td>white hanging heart t-light holder</td>\n",
       "      <td>WHITE HANGING HEART T-LIGHT HOLDER</td>\n",
       "      <td>6</td>\n",
       "      <td>2010-12-01 08:26:00</td>\n",
       "      <td>2.55</td>\n",
       "      <td>17850.0</td>\n",
       "      <td>United Kingdom</td>\n",
       "    </tr>\n",
       "    <tr>\n",
       "      <th>1</th>\n",
       "      <td>536365</td>\n",
       "      <td>71053</td>\n",
       "      <td>white metal lantern</td>\n",
       "      <td>WHITE METAL LANTERN</td>\n",
       "      <td>6</td>\n",
       "      <td>2010-12-01 08:26:00</td>\n",
       "      <td>3.39</td>\n",
       "      <td>17850.0</td>\n",
       "      <td>United Kingdom</td>\n",
       "    </tr>\n",
       "    <tr>\n",
       "      <th>2</th>\n",
       "      <td>536365</td>\n",
       "      <td>84406B</td>\n",
       "      <td>cream cupid hearts coat hanger</td>\n",
       "      <td>CREAM CUPID HEARTS COAT HANGER</td>\n",
       "      <td>8</td>\n",
       "      <td>2010-12-01 08:26:00</td>\n",
       "      <td>2.75</td>\n",
       "      <td>17850.0</td>\n",
       "      <td>United Kingdom</td>\n",
       "    </tr>\n",
       "    <tr>\n",
       "      <th>3</th>\n",
       "      <td>536365</td>\n",
       "      <td>84029G</td>\n",
       "      <td>knitted union flag hot water bottle</td>\n",
       "      <td>KNITTED UNION FLAG HOT WATER BOTTLE</td>\n",
       "      <td>6</td>\n",
       "      <td>2010-12-01 08:26:00</td>\n",
       "      <td>3.39</td>\n",
       "      <td>17850.0</td>\n",
       "      <td>United Kingdom</td>\n",
       "    </tr>\n",
       "    <tr>\n",
       "      <th>4</th>\n",
       "      <td>536365</td>\n",
       "      <td>84029E</td>\n",
       "      <td>red woolly hottie white heart.</td>\n",
       "      <td>RED WOOLLY HOTTIE WHITE HEART.</td>\n",
       "      <td>6</td>\n",
       "      <td>2010-12-01 08:26:00</td>\n",
       "      <td>3.39</td>\n",
       "      <td>17850.0</td>\n",
       "      <td>United Kingdom</td>\n",
       "    </tr>\n",
       "  </tbody>\n",
       "</table>\n",
       "</div>"
      ],
      "text/plain": [
       "  InvoiceNo StockCode                                lower  \\\n",
       "0    536365    85123A   white hanging heart t-light holder   \n",
       "1    536365     71053                  white metal lantern   \n",
       "2    536365    84406B       cream cupid hearts coat hanger   \n",
       "3    536365    84029G  knitted union flag hot water bottle   \n",
       "4    536365    84029E       red woolly hottie white heart.   \n",
       "\n",
       "                           Description  Quantity         InvoiceDate  \\\n",
       "0   WHITE HANGING HEART T-LIGHT HOLDER         6 2010-12-01 08:26:00   \n",
       "1                  WHITE METAL LANTERN         6 2010-12-01 08:26:00   \n",
       "2       CREAM CUPID HEARTS COAT HANGER         8 2010-12-01 08:26:00   \n",
       "3  KNITTED UNION FLAG HOT WATER BOTTLE         6 2010-12-01 08:26:00   \n",
       "4       RED WOOLLY HOTTIE WHITE HEART.         6 2010-12-01 08:26:00   \n",
       "\n",
       "   UnitPrice  CustomerID         Country  \n",
       "0       2.55     17850.0  United Kingdom  \n",
       "1       3.39     17850.0  United Kingdom  \n",
       "2       2.75     17850.0  United Kingdom  \n",
       "3       3.39     17850.0  United Kingdom  \n",
       "4       3.39     17850.0  United Kingdom  "
      ]
     },
     "execution_count": 694,
     "metadata": {},
     "output_type": "execute_result"
    }
   ],
   "source": [
    "# Check the original raw data\n",
    "dfs = df.copy()\n",
    "dfs.head()"
   ]
  },
  {
   "cell_type": "code",
   "execution_count": 695,
   "id": "dd173e51",
   "metadata": {},
   "outputs": [
    {
     "data": {
      "text/plain": [
       "InvoiceNo       0.000000\n",
       "StockCode       0.000000\n",
       "lower          99.664888\n",
       "Description     0.268311\n",
       "Quantity        0.000000\n",
       "InvoiceDate     0.000000\n",
       "UnitPrice       0.000000\n",
       "CustomerID     24.926694\n",
       "Country         0.000000\n",
       "dtype: float64"
      ]
     },
     "execution_count": 695,
     "metadata": {},
     "output_type": "execute_result"
    }
   ],
   "source": [
    "# Check the % of null values\n",
    "dfs.isnull().sum()/len(df)*100\n"
   ]
  },
  {
   "cell_type": "code",
   "execution_count": 696,
   "id": "643ecfc5",
   "metadata": {},
   "outputs": [
    {
     "data": {
      "text/plain": [
       "InvoiceNo      0\n",
       "StockCode      0\n",
       "Description    0\n",
       "Quantity       0\n",
       "InvoiceDate    0\n",
       "UnitPrice      0\n",
       "CustomerID     0\n",
       "Country        0\n",
       "dtype: int64"
      ]
     },
     "execution_count": 696,
     "metadata": {},
     "output_type": "execute_result"
    }
   ],
   "source": [
    "# We can drop the lower column as it is almost filled with null values and null rows associated with CustomerID can be dropped\n",
    "dfs.drop(columns=['lower'], inplace=True)\n",
    "dfs.dropna(axis=0, how = 'any', inplace=True)\n",
    "dfs.isnull().sum()"
   ]
  },
  {
   "cell_type": "code",
   "execution_count": 697,
   "id": "6a9a7a4a",
   "metadata": {},
   "outputs": [
    {
     "name": "stdout",
     "output_type": "stream",
     "text": [
      "<class 'pandas.core.frame.DataFrame'>\n",
      "Int64Index: 406829 entries, 0 to 541908\n",
      "Data columns (total 8 columns):\n",
      " #   Column       Non-Null Count   Dtype         \n",
      "---  ------       --------------   -----         \n",
      " 0   InvoiceNo    406829 non-null  object        \n",
      " 1   StockCode    406829 non-null  object        \n",
      " 2   Description  406829 non-null  object        \n",
      " 3   Quantity     406829 non-null  int64         \n",
      " 4   InvoiceDate  406829 non-null  datetime64[ns]\n",
      " 5   UnitPrice    406829 non-null  float64       \n",
      " 6   CustomerID   406829 non-null  float64       \n",
      " 7   Country      406829 non-null  object        \n",
      "dtypes: datetime64[ns](1), float64(2), int64(1), object(4)\n",
      "memory usage: 27.9+ MB\n"
     ]
    }
   ],
   "source": [
    "dfs.info()"
   ]
  },
  {
   "cell_type": "code",
   "execution_count": 698,
   "id": "3b579c44",
   "metadata": {},
   "outputs": [
    {
     "data": {
      "text/html": [
       "<div>\n",
       "<style scoped>\n",
       "    .dataframe tbody tr th:only-of-type {\n",
       "        vertical-align: middle;\n",
       "    }\n",
       "\n",
       "    .dataframe tbody tr th {\n",
       "        vertical-align: top;\n",
       "    }\n",
       "\n",
       "    .dataframe thead th {\n",
       "        text-align: right;\n",
       "    }\n",
       "</style>\n",
       "<table border=\"1\" class=\"dataframe\">\n",
       "  <thead>\n",
       "    <tr style=\"text-align: right;\">\n",
       "      <th></th>\n",
       "      <th>InvoiceNo</th>\n",
       "      <th>StockCode</th>\n",
       "      <th>Description</th>\n",
       "      <th>Quantity</th>\n",
       "      <th>InvoiceDate</th>\n",
       "      <th>UnitPrice</th>\n",
       "      <th>CustomerID</th>\n",
       "      <th>Country</th>\n",
       "      <th>Month</th>\n",
       "      <th>Day</th>\n",
       "    </tr>\n",
       "  </thead>\n",
       "  <tbody>\n",
       "    <tr>\n",
       "      <th>0</th>\n",
       "      <td>536365</td>\n",
       "      <td>85123A</td>\n",
       "      <td>WHITE HANGING HEART T-LIGHT HOLDER</td>\n",
       "      <td>6</td>\n",
       "      <td>2010-12-01 08:26:00</td>\n",
       "      <td>2.55</td>\n",
       "      <td>17850.0</td>\n",
       "      <td>United Kingdom</td>\n",
       "      <td>December</td>\n",
       "      <td>Wednesday</td>\n",
       "    </tr>\n",
       "    <tr>\n",
       "      <th>1</th>\n",
       "      <td>536365</td>\n",
       "      <td>71053</td>\n",
       "      <td>WHITE METAL LANTERN</td>\n",
       "      <td>6</td>\n",
       "      <td>2010-12-01 08:26:00</td>\n",
       "      <td>3.39</td>\n",
       "      <td>17850.0</td>\n",
       "      <td>United Kingdom</td>\n",
       "      <td>December</td>\n",
       "      <td>Wednesday</td>\n",
       "    </tr>\n",
       "    <tr>\n",
       "      <th>2</th>\n",
       "      <td>536365</td>\n",
       "      <td>84406B</td>\n",
       "      <td>CREAM CUPID HEARTS COAT HANGER</td>\n",
       "      <td>8</td>\n",
       "      <td>2010-12-01 08:26:00</td>\n",
       "      <td>2.75</td>\n",
       "      <td>17850.0</td>\n",
       "      <td>United Kingdom</td>\n",
       "      <td>December</td>\n",
       "      <td>Wednesday</td>\n",
       "    </tr>\n",
       "    <tr>\n",
       "      <th>3</th>\n",
       "      <td>536365</td>\n",
       "      <td>84029G</td>\n",
       "      <td>KNITTED UNION FLAG HOT WATER BOTTLE</td>\n",
       "      <td>6</td>\n",
       "      <td>2010-12-01 08:26:00</td>\n",
       "      <td>3.39</td>\n",
       "      <td>17850.0</td>\n",
       "      <td>United Kingdom</td>\n",
       "      <td>December</td>\n",
       "      <td>Wednesday</td>\n",
       "    </tr>\n",
       "    <tr>\n",
       "      <th>4</th>\n",
       "      <td>536365</td>\n",
       "      <td>84029E</td>\n",
       "      <td>RED WOOLLY HOTTIE WHITE HEART.</td>\n",
       "      <td>6</td>\n",
       "      <td>2010-12-01 08:26:00</td>\n",
       "      <td>3.39</td>\n",
       "      <td>17850.0</td>\n",
       "      <td>United Kingdom</td>\n",
       "      <td>December</td>\n",
       "      <td>Wednesday</td>\n",
       "    </tr>\n",
       "  </tbody>\n",
       "</table>\n",
       "</div>"
      ],
      "text/plain": [
       "  InvoiceNo StockCode                          Description  Quantity  \\\n",
       "0    536365    85123A   WHITE HANGING HEART T-LIGHT HOLDER         6   \n",
       "1    536365     71053                  WHITE METAL LANTERN         6   \n",
       "2    536365    84406B       CREAM CUPID HEARTS COAT HANGER         8   \n",
       "3    536365    84029G  KNITTED UNION FLAG HOT WATER BOTTLE         6   \n",
       "4    536365    84029E       RED WOOLLY HOTTIE WHITE HEART.         6   \n",
       "\n",
       "          InvoiceDate  UnitPrice  CustomerID         Country     Month  \\\n",
       "0 2010-12-01 08:26:00       2.55     17850.0  United Kingdom  December   \n",
       "1 2010-12-01 08:26:00       3.39     17850.0  United Kingdom  December   \n",
       "2 2010-12-01 08:26:00       2.75     17850.0  United Kingdom  December   \n",
       "3 2010-12-01 08:26:00       3.39     17850.0  United Kingdom  December   \n",
       "4 2010-12-01 08:26:00       3.39     17850.0  United Kingdom  December   \n",
       "\n",
       "         Day  \n",
       "0  Wednesday  \n",
       "1  Wednesday  \n",
       "2  Wednesday  \n",
       "3  Wednesday  \n",
       "4  Wednesday  "
      ]
     },
     "execution_count": 698,
     "metadata": {},
     "output_type": "execute_result"
    }
   ],
   "source": [
    "# Add coloumns in dataset for month and day\n",
    "import datetime as dt\n",
    "dfs['Month'] = dfs['InvoiceDate'].dt.month_name()\n",
    "dfs['Day'] = dfs['InvoiceDate'].dt.day_name()\n",
    "dfs.head()"
   ]
  },
  {
   "cell_type": "code",
   "execution_count": 699,
   "id": "a6f93967",
   "metadata": {},
   "outputs": [
    {
     "data": {
      "text/html": [
       "<div>\n",
       "<style scoped>\n",
       "    .dataframe tbody tr th:only-of-type {\n",
       "        vertical-align: middle;\n",
       "    }\n",
       "\n",
       "    .dataframe tbody tr th {\n",
       "        vertical-align: top;\n",
       "    }\n",
       "\n",
       "    .dataframe thead th {\n",
       "        text-align: right;\n",
       "    }\n",
       "</style>\n",
       "<table border=\"1\" class=\"dataframe\">\n",
       "  <thead>\n",
       "    <tr style=\"text-align: right;\">\n",
       "      <th></th>\n",
       "      <th>InvoiceNo</th>\n",
       "      <th>StockCode</th>\n",
       "      <th>Description</th>\n",
       "      <th>Quantity</th>\n",
       "      <th>InvoiceDate</th>\n",
       "      <th>UnitPrice</th>\n",
       "      <th>CustomerID</th>\n",
       "      <th>Country</th>\n",
       "      <th>Month</th>\n",
       "      <th>Day</th>\n",
       "      <th>Season</th>\n",
       "    </tr>\n",
       "  </thead>\n",
       "  <tbody>\n",
       "    <tr>\n",
       "      <th>0</th>\n",
       "      <td>536365</td>\n",
       "      <td>85123A</td>\n",
       "      <td>WHITE HANGING HEART T-LIGHT HOLDER</td>\n",
       "      <td>6</td>\n",
       "      <td>2010-12-01 08:26:00</td>\n",
       "      <td>2.55</td>\n",
       "      <td>17850.0</td>\n",
       "      <td>United Kingdom</td>\n",
       "      <td>December</td>\n",
       "      <td>Wednesday</td>\n",
       "      <td>Winter</td>\n",
       "    </tr>\n",
       "    <tr>\n",
       "      <th>1</th>\n",
       "      <td>536365</td>\n",
       "      <td>71053</td>\n",
       "      <td>WHITE METAL LANTERN</td>\n",
       "      <td>6</td>\n",
       "      <td>2010-12-01 08:26:00</td>\n",
       "      <td>3.39</td>\n",
       "      <td>17850.0</td>\n",
       "      <td>United Kingdom</td>\n",
       "      <td>December</td>\n",
       "      <td>Wednesday</td>\n",
       "      <td>Winter</td>\n",
       "    </tr>\n",
       "    <tr>\n",
       "      <th>2</th>\n",
       "      <td>536365</td>\n",
       "      <td>84406B</td>\n",
       "      <td>CREAM CUPID HEARTS COAT HANGER</td>\n",
       "      <td>8</td>\n",
       "      <td>2010-12-01 08:26:00</td>\n",
       "      <td>2.75</td>\n",
       "      <td>17850.0</td>\n",
       "      <td>United Kingdom</td>\n",
       "      <td>December</td>\n",
       "      <td>Wednesday</td>\n",
       "      <td>Winter</td>\n",
       "    </tr>\n",
       "    <tr>\n",
       "      <th>3</th>\n",
       "      <td>536365</td>\n",
       "      <td>84029G</td>\n",
       "      <td>KNITTED UNION FLAG HOT WATER BOTTLE</td>\n",
       "      <td>6</td>\n",
       "      <td>2010-12-01 08:26:00</td>\n",
       "      <td>3.39</td>\n",
       "      <td>17850.0</td>\n",
       "      <td>United Kingdom</td>\n",
       "      <td>December</td>\n",
       "      <td>Wednesday</td>\n",
       "      <td>Winter</td>\n",
       "    </tr>\n",
       "    <tr>\n",
       "      <th>4</th>\n",
       "      <td>536365</td>\n",
       "      <td>84029E</td>\n",
       "      <td>RED WOOLLY HOTTIE WHITE HEART.</td>\n",
       "      <td>6</td>\n",
       "      <td>2010-12-01 08:26:00</td>\n",
       "      <td>3.39</td>\n",
       "      <td>17850.0</td>\n",
       "      <td>United Kingdom</td>\n",
       "      <td>December</td>\n",
       "      <td>Wednesday</td>\n",
       "      <td>Winter</td>\n",
       "    </tr>\n",
       "  </tbody>\n",
       "</table>\n",
       "</div>"
      ],
      "text/plain": [
       "  InvoiceNo StockCode                          Description  Quantity  \\\n",
       "0    536365    85123A   WHITE HANGING HEART T-LIGHT HOLDER         6   \n",
       "1    536365     71053                  WHITE METAL LANTERN         6   \n",
       "2    536365    84406B       CREAM CUPID HEARTS COAT HANGER         8   \n",
       "3    536365    84029G  KNITTED UNION FLAG HOT WATER BOTTLE         6   \n",
       "4    536365    84029E       RED WOOLLY HOTTIE WHITE HEART.         6   \n",
       "\n",
       "          InvoiceDate  UnitPrice  CustomerID         Country     Month  \\\n",
       "0 2010-12-01 08:26:00       2.55     17850.0  United Kingdom  December   \n",
       "1 2010-12-01 08:26:00       3.39     17850.0  United Kingdom  December   \n",
       "2 2010-12-01 08:26:00       2.75     17850.0  United Kingdom  December   \n",
       "3 2010-12-01 08:26:00       3.39     17850.0  United Kingdom  December   \n",
       "4 2010-12-01 08:26:00       3.39     17850.0  United Kingdom  December   \n",
       "\n",
       "         Day  Season  \n",
       "0  Wednesday  Winter  \n",
       "1  Wednesday  Winter  \n",
       "2  Wednesday  Winter  \n",
       "3  Wednesday  Winter  \n",
       "4  Wednesday  Winter  "
      ]
     },
     "execution_count": 699,
     "metadata": {},
     "output_type": "execute_result"
    }
   ],
   "source": [
    "# Create Season column \n",
    "map_dict = {'December': 'Winter', 'January':'Winter', 'February':'Winter', 'March':'Summer', 'April':'Summer', 'May':'Summer',\n",
    "            'June':'Summer','July':'Automn', 'August':'Automn', 'September':'Automn','October':'Automn', 'November':'Winter'}\n",
    "dfs['Season'] = dfs['Month'].map(map_dict)\n",
    "dfs.head()"
   ]
  },
  {
   "cell_type": "code",
   "execution_count": 700,
   "id": "2e68a005",
   "metadata": {},
   "outputs": [
    {
     "data": {
      "text/html": [
       "<div>\n",
       "<style scoped>\n",
       "    .dataframe tbody tr th:only-of-type {\n",
       "        vertical-align: middle;\n",
       "    }\n",
       "\n",
       "    .dataframe tbody tr th {\n",
       "        vertical-align: top;\n",
       "    }\n",
       "\n",
       "    .dataframe thead th {\n",
       "        text-align: right;\n",
       "    }\n",
       "</style>\n",
       "<table border=\"1\" class=\"dataframe\">\n",
       "  <thead>\n",
       "    <tr style=\"text-align: right;\">\n",
       "      <th></th>\n",
       "      <th>InvoiceNo</th>\n",
       "      <th>StockCode</th>\n",
       "      <th>Description</th>\n",
       "      <th>Quantity</th>\n",
       "      <th>InvoiceDate</th>\n",
       "      <th>UnitPrice</th>\n",
       "      <th>CustomerID</th>\n",
       "      <th>Country</th>\n",
       "      <th>Month</th>\n",
       "      <th>Day</th>\n",
       "      <th>Season</th>\n",
       "      <th>Time</th>\n",
       "    </tr>\n",
       "  </thead>\n",
       "  <tbody>\n",
       "    <tr>\n",
       "      <th>0</th>\n",
       "      <td>536365</td>\n",
       "      <td>85123A</td>\n",
       "      <td>WHITE HANGING HEART T-LIGHT HOLDER</td>\n",
       "      <td>6</td>\n",
       "      <td>2010-12-01 08:26:00</td>\n",
       "      <td>2.55</td>\n",
       "      <td>17850.0</td>\n",
       "      <td>United Kingdom</td>\n",
       "      <td>December</td>\n",
       "      <td>Wednesday</td>\n",
       "      <td>Winter</td>\n",
       "      <td>08:26:00</td>\n",
       "    </tr>\n",
       "    <tr>\n",
       "      <th>1</th>\n",
       "      <td>536365</td>\n",
       "      <td>71053</td>\n",
       "      <td>WHITE METAL LANTERN</td>\n",
       "      <td>6</td>\n",
       "      <td>2010-12-01 08:26:00</td>\n",
       "      <td>3.39</td>\n",
       "      <td>17850.0</td>\n",
       "      <td>United Kingdom</td>\n",
       "      <td>December</td>\n",
       "      <td>Wednesday</td>\n",
       "      <td>Winter</td>\n",
       "      <td>08:26:00</td>\n",
       "    </tr>\n",
       "    <tr>\n",
       "      <th>2</th>\n",
       "      <td>536365</td>\n",
       "      <td>84406B</td>\n",
       "      <td>CREAM CUPID HEARTS COAT HANGER</td>\n",
       "      <td>8</td>\n",
       "      <td>2010-12-01 08:26:00</td>\n",
       "      <td>2.75</td>\n",
       "      <td>17850.0</td>\n",
       "      <td>United Kingdom</td>\n",
       "      <td>December</td>\n",
       "      <td>Wednesday</td>\n",
       "      <td>Winter</td>\n",
       "      <td>08:26:00</td>\n",
       "    </tr>\n",
       "    <tr>\n",
       "      <th>3</th>\n",
       "      <td>536365</td>\n",
       "      <td>84029G</td>\n",
       "      <td>KNITTED UNION FLAG HOT WATER BOTTLE</td>\n",
       "      <td>6</td>\n",
       "      <td>2010-12-01 08:26:00</td>\n",
       "      <td>3.39</td>\n",
       "      <td>17850.0</td>\n",
       "      <td>United Kingdom</td>\n",
       "      <td>December</td>\n",
       "      <td>Wednesday</td>\n",
       "      <td>Winter</td>\n",
       "      <td>08:26:00</td>\n",
       "    </tr>\n",
       "    <tr>\n",
       "      <th>4</th>\n",
       "      <td>536365</td>\n",
       "      <td>84029E</td>\n",
       "      <td>RED WOOLLY HOTTIE WHITE HEART.</td>\n",
       "      <td>6</td>\n",
       "      <td>2010-12-01 08:26:00</td>\n",
       "      <td>3.39</td>\n",
       "      <td>17850.0</td>\n",
       "      <td>United Kingdom</td>\n",
       "      <td>December</td>\n",
       "      <td>Wednesday</td>\n",
       "      <td>Winter</td>\n",
       "      <td>08:26:00</td>\n",
       "    </tr>\n",
       "  </tbody>\n",
       "</table>\n",
       "</div>"
      ],
      "text/plain": [
       "  InvoiceNo StockCode                          Description  Quantity  \\\n",
       "0    536365    85123A   WHITE HANGING HEART T-LIGHT HOLDER         6   \n",
       "1    536365     71053                  WHITE METAL LANTERN         6   \n",
       "2    536365    84406B       CREAM CUPID HEARTS COAT HANGER         8   \n",
       "3    536365    84029G  KNITTED UNION FLAG HOT WATER BOTTLE         6   \n",
       "4    536365    84029E       RED WOOLLY HOTTIE WHITE HEART.         6   \n",
       "\n",
       "          InvoiceDate  UnitPrice  CustomerID         Country     Month  \\\n",
       "0 2010-12-01 08:26:00       2.55     17850.0  United Kingdom  December   \n",
       "1 2010-12-01 08:26:00       3.39     17850.0  United Kingdom  December   \n",
       "2 2010-12-01 08:26:00       2.75     17850.0  United Kingdom  December   \n",
       "3 2010-12-01 08:26:00       3.39     17850.0  United Kingdom  December   \n",
       "4 2010-12-01 08:26:00       3.39     17850.0  United Kingdom  December   \n",
       "\n",
       "         Day  Season      Time  \n",
       "0  Wednesday  Winter  08:26:00  \n",
       "1  Wednesday  Winter  08:26:00  \n",
       "2  Wednesday  Winter  08:26:00  \n",
       "3  Wednesday  Winter  08:26:00  \n",
       "4  Wednesday  Winter  08:26:00  "
      ]
     },
     "execution_count": 700,
     "metadata": {},
     "output_type": "execute_result"
    }
   ],
   "source": [
    "# Create the time column\n",
    "dfs['Time'] = dfs['InvoiceDate'].dt.time\n",
    "dfs.head()"
   ]
  },
  {
   "cell_type": "code",
   "execution_count": 701,
   "id": "d6bfcb11",
   "metadata": {},
   "outputs": [
    {
     "name": "stdout",
     "output_type": "stream",
     "text": [
      "06:10:00\n",
      "20:38:00\n"
     ]
    }
   ],
   "source": [
    "# Check min time and max time\n",
    "print(dfs['Time'].min())\n",
    "print(dfs['Time'].max())"
   ]
  },
  {
   "cell_type": "code",
   "execution_count": 702,
   "id": "1eb7a027",
   "metadata": {},
   "outputs": [
    {
     "data": {
      "text/html": [
       "<div>\n",
       "<style scoped>\n",
       "    .dataframe tbody tr th:only-of-type {\n",
       "        vertical-align: middle;\n",
       "    }\n",
       "\n",
       "    .dataframe tbody tr th {\n",
       "        vertical-align: top;\n",
       "    }\n",
       "\n",
       "    .dataframe thead th {\n",
       "        text-align: right;\n",
       "    }\n",
       "</style>\n",
       "<table border=\"1\" class=\"dataframe\">\n",
       "  <thead>\n",
       "    <tr style=\"text-align: right;\">\n",
       "      <th></th>\n",
       "      <th>InvoiceNo</th>\n",
       "      <th>StockCode</th>\n",
       "      <th>Description</th>\n",
       "      <th>Quantity</th>\n",
       "      <th>InvoiceDate</th>\n",
       "      <th>UnitPrice</th>\n",
       "      <th>CustomerID</th>\n",
       "      <th>Country</th>\n",
       "      <th>Month</th>\n",
       "      <th>Day</th>\n",
       "      <th>Season</th>\n",
       "      <th>Time</th>\n",
       "      <th>TimeBucket</th>\n",
       "    </tr>\n",
       "  </thead>\n",
       "  <tbody>\n",
       "    <tr>\n",
       "      <th>0</th>\n",
       "      <td>536365</td>\n",
       "      <td>85123A</td>\n",
       "      <td>WHITE HANGING HEART T-LIGHT HOLDER</td>\n",
       "      <td>6</td>\n",
       "      <td>2010-12-01 08:26:00</td>\n",
       "      <td>2.55</td>\n",
       "      <td>17850.0</td>\n",
       "      <td>United Kingdom</td>\n",
       "      <td>December</td>\n",
       "      <td>Wednesday</td>\n",
       "      <td>Winter</td>\n",
       "      <td>08:26:00</td>\n",
       "      <td>6to9</td>\n",
       "    </tr>\n",
       "    <tr>\n",
       "      <th>1</th>\n",
       "      <td>536365</td>\n",
       "      <td>71053</td>\n",
       "      <td>WHITE METAL LANTERN</td>\n",
       "      <td>6</td>\n",
       "      <td>2010-12-01 08:26:00</td>\n",
       "      <td>3.39</td>\n",
       "      <td>17850.0</td>\n",
       "      <td>United Kingdom</td>\n",
       "      <td>December</td>\n",
       "      <td>Wednesday</td>\n",
       "      <td>Winter</td>\n",
       "      <td>08:26:00</td>\n",
       "      <td>6to9</td>\n",
       "    </tr>\n",
       "    <tr>\n",
       "      <th>2</th>\n",
       "      <td>536365</td>\n",
       "      <td>84406B</td>\n",
       "      <td>CREAM CUPID HEARTS COAT HANGER</td>\n",
       "      <td>8</td>\n",
       "      <td>2010-12-01 08:26:00</td>\n",
       "      <td>2.75</td>\n",
       "      <td>17850.0</td>\n",
       "      <td>United Kingdom</td>\n",
       "      <td>December</td>\n",
       "      <td>Wednesday</td>\n",
       "      <td>Winter</td>\n",
       "      <td>08:26:00</td>\n",
       "      <td>6to9</td>\n",
       "    </tr>\n",
       "    <tr>\n",
       "      <th>3</th>\n",
       "      <td>536365</td>\n",
       "      <td>84029G</td>\n",
       "      <td>KNITTED UNION FLAG HOT WATER BOTTLE</td>\n",
       "      <td>6</td>\n",
       "      <td>2010-12-01 08:26:00</td>\n",
       "      <td>3.39</td>\n",
       "      <td>17850.0</td>\n",
       "      <td>United Kingdom</td>\n",
       "      <td>December</td>\n",
       "      <td>Wednesday</td>\n",
       "      <td>Winter</td>\n",
       "      <td>08:26:00</td>\n",
       "      <td>6to9</td>\n",
       "    </tr>\n",
       "    <tr>\n",
       "      <th>4</th>\n",
       "      <td>536365</td>\n",
       "      <td>84029E</td>\n",
       "      <td>RED WOOLLY HOTTIE WHITE HEART.</td>\n",
       "      <td>6</td>\n",
       "      <td>2010-12-01 08:26:00</td>\n",
       "      <td>3.39</td>\n",
       "      <td>17850.0</td>\n",
       "      <td>United Kingdom</td>\n",
       "      <td>December</td>\n",
       "      <td>Wednesday</td>\n",
       "      <td>Winter</td>\n",
       "      <td>08:26:00</td>\n",
       "      <td>6to9</td>\n",
       "    </tr>\n",
       "  </tbody>\n",
       "</table>\n",
       "</div>"
      ],
      "text/plain": [
       "  InvoiceNo StockCode                          Description  Quantity  \\\n",
       "0    536365    85123A   WHITE HANGING HEART T-LIGHT HOLDER         6   \n",
       "1    536365     71053                  WHITE METAL LANTERN         6   \n",
       "2    536365    84406B       CREAM CUPID HEARTS COAT HANGER         8   \n",
       "3    536365    84029G  KNITTED UNION FLAG HOT WATER BOTTLE         6   \n",
       "4    536365    84029E       RED WOOLLY HOTTIE WHITE HEART.         6   \n",
       "\n",
       "          InvoiceDate  UnitPrice  CustomerID         Country     Month  \\\n",
       "0 2010-12-01 08:26:00       2.55     17850.0  United Kingdom  December   \n",
       "1 2010-12-01 08:26:00       3.39     17850.0  United Kingdom  December   \n",
       "2 2010-12-01 08:26:00       2.75     17850.0  United Kingdom  December   \n",
       "3 2010-12-01 08:26:00       3.39     17850.0  United Kingdom  December   \n",
       "4 2010-12-01 08:26:00       3.39     17850.0  United Kingdom  December   \n",
       "\n",
       "         Day  Season      Time TimeBucket  \n",
       "0  Wednesday  Winter  08:26:00       6to9  \n",
       "1  Wednesday  Winter  08:26:00       6to9  \n",
       "2  Wednesday  Winter  08:26:00       6to9  \n",
       "3  Wednesday  Winter  08:26:00       6to9  \n",
       "4  Wednesday  Winter  08:26:00       6to9  "
      ]
     },
     "execution_count": 702,
     "metadata": {},
     "output_type": "execute_result"
    }
   ],
   "source": [
    "# Create the time bucket considering min and max time of mall for the day\n",
    "bins = [360,360+(1*180),360+(2*180),360+(3*180),360+(4*180),360+(5*180)]\n",
    "labels = ['6to9', '9to12', '12to15', '15to18','18to21']\n",
    "dfs['TimeBucket'] = pd.cut(dfs['Time'].apply(lambda x:((x.hour*60)+x.minute)),bins=bins, labels=labels)\n",
    "dfs.head()"
   ]
  },
  {
   "cell_type": "code",
   "execution_count": 703,
   "id": "166aeb77",
   "metadata": {},
   "outputs": [
    {
     "data": {
      "text/html": [
       "<div>\n",
       "<style scoped>\n",
       "    .dataframe tbody tr th:only-of-type {\n",
       "        vertical-align: middle;\n",
       "    }\n",
       "\n",
       "    .dataframe tbody tr th {\n",
       "        vertical-align: top;\n",
       "    }\n",
       "\n",
       "    .dataframe thead th {\n",
       "        text-align: right;\n",
       "    }\n",
       "</style>\n",
       "<table border=\"1\" class=\"dataframe\">\n",
       "  <thead>\n",
       "    <tr style=\"text-align: right;\">\n",
       "      <th></th>\n",
       "      <th>InvoiceNo</th>\n",
       "      <th>StockCode</th>\n",
       "      <th>Description</th>\n",
       "      <th>Quantity</th>\n",
       "      <th>InvoiceDate</th>\n",
       "      <th>UnitPrice</th>\n",
       "      <th>CustomerID</th>\n",
       "      <th>Country</th>\n",
       "      <th>Month</th>\n",
       "      <th>Day</th>\n",
       "      <th>Season</th>\n",
       "      <th>Time</th>\n",
       "      <th>TimeBucket</th>\n",
       "      <th>Spend</th>\n",
       "    </tr>\n",
       "  </thead>\n",
       "  <tbody>\n",
       "    <tr>\n",
       "      <th>0</th>\n",
       "      <td>536365</td>\n",
       "      <td>85123A</td>\n",
       "      <td>WHITE HANGING HEART T-LIGHT HOLDER</td>\n",
       "      <td>6</td>\n",
       "      <td>2010-12-01 08:26:00</td>\n",
       "      <td>2.55</td>\n",
       "      <td>17850.0</td>\n",
       "      <td>United Kingdom</td>\n",
       "      <td>December</td>\n",
       "      <td>Wednesday</td>\n",
       "      <td>Winter</td>\n",
       "      <td>08:26:00</td>\n",
       "      <td>6to9</td>\n",
       "      <td>15.30</td>\n",
       "    </tr>\n",
       "    <tr>\n",
       "      <th>1</th>\n",
       "      <td>536365</td>\n",
       "      <td>71053</td>\n",
       "      <td>WHITE METAL LANTERN</td>\n",
       "      <td>6</td>\n",
       "      <td>2010-12-01 08:26:00</td>\n",
       "      <td>3.39</td>\n",
       "      <td>17850.0</td>\n",
       "      <td>United Kingdom</td>\n",
       "      <td>December</td>\n",
       "      <td>Wednesday</td>\n",
       "      <td>Winter</td>\n",
       "      <td>08:26:00</td>\n",
       "      <td>6to9</td>\n",
       "      <td>20.34</td>\n",
       "    </tr>\n",
       "    <tr>\n",
       "      <th>2</th>\n",
       "      <td>536365</td>\n",
       "      <td>84406B</td>\n",
       "      <td>CREAM CUPID HEARTS COAT HANGER</td>\n",
       "      <td>8</td>\n",
       "      <td>2010-12-01 08:26:00</td>\n",
       "      <td>2.75</td>\n",
       "      <td>17850.0</td>\n",
       "      <td>United Kingdom</td>\n",
       "      <td>December</td>\n",
       "      <td>Wednesday</td>\n",
       "      <td>Winter</td>\n",
       "      <td>08:26:00</td>\n",
       "      <td>6to9</td>\n",
       "      <td>22.00</td>\n",
       "    </tr>\n",
       "    <tr>\n",
       "      <th>3</th>\n",
       "      <td>536365</td>\n",
       "      <td>84029G</td>\n",
       "      <td>KNITTED UNION FLAG HOT WATER BOTTLE</td>\n",
       "      <td>6</td>\n",
       "      <td>2010-12-01 08:26:00</td>\n",
       "      <td>3.39</td>\n",
       "      <td>17850.0</td>\n",
       "      <td>United Kingdom</td>\n",
       "      <td>December</td>\n",
       "      <td>Wednesday</td>\n",
       "      <td>Winter</td>\n",
       "      <td>08:26:00</td>\n",
       "      <td>6to9</td>\n",
       "      <td>20.34</td>\n",
       "    </tr>\n",
       "    <tr>\n",
       "      <th>4</th>\n",
       "      <td>536365</td>\n",
       "      <td>84029E</td>\n",
       "      <td>RED WOOLLY HOTTIE WHITE HEART.</td>\n",
       "      <td>6</td>\n",
       "      <td>2010-12-01 08:26:00</td>\n",
       "      <td>3.39</td>\n",
       "      <td>17850.0</td>\n",
       "      <td>United Kingdom</td>\n",
       "      <td>December</td>\n",
       "      <td>Wednesday</td>\n",
       "      <td>Winter</td>\n",
       "      <td>08:26:00</td>\n",
       "      <td>6to9</td>\n",
       "      <td>20.34</td>\n",
       "    </tr>\n",
       "  </tbody>\n",
       "</table>\n",
       "</div>"
      ],
      "text/plain": [
       "  InvoiceNo StockCode                          Description  Quantity  \\\n",
       "0    536365    85123A   WHITE HANGING HEART T-LIGHT HOLDER         6   \n",
       "1    536365     71053                  WHITE METAL LANTERN         6   \n",
       "2    536365    84406B       CREAM CUPID HEARTS COAT HANGER         8   \n",
       "3    536365    84029G  KNITTED UNION FLAG HOT WATER BOTTLE         6   \n",
       "4    536365    84029E       RED WOOLLY HOTTIE WHITE HEART.         6   \n",
       "\n",
       "          InvoiceDate  UnitPrice  CustomerID         Country     Month  \\\n",
       "0 2010-12-01 08:26:00       2.55     17850.0  United Kingdom  December   \n",
       "1 2010-12-01 08:26:00       3.39     17850.0  United Kingdom  December   \n",
       "2 2010-12-01 08:26:00       2.75     17850.0  United Kingdom  December   \n",
       "3 2010-12-01 08:26:00       3.39     17850.0  United Kingdom  December   \n",
       "4 2010-12-01 08:26:00       3.39     17850.0  United Kingdom  December   \n",
       "\n",
       "         Day  Season      Time TimeBucket  Spend  \n",
       "0  Wednesday  Winter  08:26:00       6to9  15.30  \n",
       "1  Wednesday  Winter  08:26:00       6to9  20.34  \n",
       "2  Wednesday  Winter  08:26:00       6to9  22.00  \n",
       "3  Wednesday  Winter  08:26:00       6to9  20.34  \n",
       "4  Wednesday  Winter  08:26:00       6to9  20.34  "
      ]
     },
     "execution_count": 703,
     "metadata": {},
     "output_type": "execute_result"
    }
   ],
   "source": [
    "# Create spend column\n",
    "dfs['Spend'] = dfs['Quantity']*dfs['UnitPrice']\n",
    "dfs.head()"
   ]
  },
  {
   "cell_type": "code",
   "execution_count": 704,
   "id": "11d9e8b9",
   "metadata": {},
   "outputs": [
    {
     "data": {
      "text/html": [
       "<div>\n",
       "<style scoped>\n",
       "    .dataframe tbody tr th:only-of-type {\n",
       "        vertical-align: middle;\n",
       "    }\n",
       "\n",
       "    .dataframe tbody tr th {\n",
       "        vertical-align: top;\n",
       "    }\n",
       "\n",
       "    .dataframe thead th {\n",
       "        text-align: right;\n",
       "    }\n",
       "</style>\n",
       "<table border=\"1\" class=\"dataframe\">\n",
       "  <thead>\n",
       "    <tr style=\"text-align: right;\">\n",
       "      <th></th>\n",
       "      <th>Description</th>\n",
       "      <th>CustomerID</th>\n",
       "      <th>Country</th>\n",
       "      <th>Month</th>\n",
       "      <th>Day</th>\n",
       "      <th>Season</th>\n",
       "      <th>Time</th>\n",
       "      <th>TimeBucket</th>\n",
       "      <th>Spend</th>\n",
       "    </tr>\n",
       "  </thead>\n",
       "  <tbody>\n",
       "    <tr>\n",
       "      <th>0</th>\n",
       "      <td>WHITE HANGING HEART T-LIGHT HOLDER</td>\n",
       "      <td>17850.0</td>\n",
       "      <td>United Kingdom</td>\n",
       "      <td>December</td>\n",
       "      <td>Wednesday</td>\n",
       "      <td>Winter</td>\n",
       "      <td>08:26:00</td>\n",
       "      <td>6to9</td>\n",
       "      <td>15.30</td>\n",
       "    </tr>\n",
       "    <tr>\n",
       "      <th>1</th>\n",
       "      <td>WHITE METAL LANTERN</td>\n",
       "      <td>17850.0</td>\n",
       "      <td>United Kingdom</td>\n",
       "      <td>December</td>\n",
       "      <td>Wednesday</td>\n",
       "      <td>Winter</td>\n",
       "      <td>08:26:00</td>\n",
       "      <td>6to9</td>\n",
       "      <td>20.34</td>\n",
       "    </tr>\n",
       "    <tr>\n",
       "      <th>2</th>\n",
       "      <td>CREAM CUPID HEARTS COAT HANGER</td>\n",
       "      <td>17850.0</td>\n",
       "      <td>United Kingdom</td>\n",
       "      <td>December</td>\n",
       "      <td>Wednesday</td>\n",
       "      <td>Winter</td>\n",
       "      <td>08:26:00</td>\n",
       "      <td>6to9</td>\n",
       "      <td>22.00</td>\n",
       "    </tr>\n",
       "    <tr>\n",
       "      <th>3</th>\n",
       "      <td>KNITTED UNION FLAG HOT WATER BOTTLE</td>\n",
       "      <td>17850.0</td>\n",
       "      <td>United Kingdom</td>\n",
       "      <td>December</td>\n",
       "      <td>Wednesday</td>\n",
       "      <td>Winter</td>\n",
       "      <td>08:26:00</td>\n",
       "      <td>6to9</td>\n",
       "      <td>20.34</td>\n",
       "    </tr>\n",
       "    <tr>\n",
       "      <th>4</th>\n",
       "      <td>RED WOOLLY HOTTIE WHITE HEART.</td>\n",
       "      <td>17850.0</td>\n",
       "      <td>United Kingdom</td>\n",
       "      <td>December</td>\n",
       "      <td>Wednesday</td>\n",
       "      <td>Winter</td>\n",
       "      <td>08:26:00</td>\n",
       "      <td>6to9</td>\n",
       "      <td>20.34</td>\n",
       "    </tr>\n",
       "  </tbody>\n",
       "</table>\n",
       "</div>"
      ],
      "text/plain": [
       "                           Description  CustomerID         Country     Month  \\\n",
       "0   WHITE HANGING HEART T-LIGHT HOLDER     17850.0  United Kingdom  December   \n",
       "1                  WHITE METAL LANTERN     17850.0  United Kingdom  December   \n",
       "2       CREAM CUPID HEARTS COAT HANGER     17850.0  United Kingdom  December   \n",
       "3  KNITTED UNION FLAG HOT WATER BOTTLE     17850.0  United Kingdom  December   \n",
       "4       RED WOOLLY HOTTIE WHITE HEART.     17850.0  United Kingdom  December   \n",
       "\n",
       "         Day  Season      Time TimeBucket  Spend  \n",
       "0  Wednesday  Winter  08:26:00       6to9  15.30  \n",
       "1  Wednesday  Winter  08:26:00       6to9  20.34  \n",
       "2  Wednesday  Winter  08:26:00       6to9  22.00  \n",
       "3  Wednesday  Winter  08:26:00       6to9  20.34  \n",
       "4  Wednesday  Winter  08:26:00       6to9  20.34  "
      ]
     },
     "execution_count": 704,
     "metadata": {},
     "output_type": "execute_result"
    }
   ],
   "source": [
    "# Drop the non-required coloumns for sale pattern analysis\n",
    "df3 = dfs.drop(columns=['InvoiceNo', 'StockCode', 'InvoiceDate','Quantity','UnitPrice'])\n",
    "df3.head()"
   ]
  },
  {
   "cell_type": "code",
   "execution_count": 705,
   "id": "30676afa",
   "metadata": {},
   "outputs": [
    {
     "data": {
      "text/plain": [
       "<AxesSubplot:xlabel='Day', ylabel='count'>"
      ]
     },
     "execution_count": 705,
     "metadata": {},
     "output_type": "execute_result"
    },
    {
     "data": {
      "image/png": "[encoded data removed]",
      "text/plain": [
       "<Figure size 576x432 with 1 Axes>"
      ]
     },
     "metadata": {
      "needs_background": "light"
     },
     "output_type": "display_data"
    }
   ],
   "source": [
    "# Create countplot for week days\n",
    "plt.figure(figsize = (8,6))\n",
    "sns.countplot(x = df3['Day'])"
   ]
  },
  {
   "cell_type": "code",
   "execution_count": 706,
   "id": "444067aa",
   "metadata": {},
   "outputs": [
    {
     "data": {
      "text/plain": [
       "<AxesSubplot:xlabel='Month', ylabel='count'>"
      ]
     },
     "execution_count": 706,
     "metadata": {},
     "output_type": "execute_result"
    },
    {
     "data": {
      "image/png": "[encoded data removed]",
      "text/plain": [
       "<Figure size 864x432 with 1 Axes>"
      ]
     },
     "metadata": {
      "needs_background": "light"
     },
     "output_type": "display_data"
    }
   ],
   "source": [
    "# Create countplot for months\n",
    "plt.figure(figsize = (12,6))\n",
    "sns.countplot(x = df3['Month'])"
   ]
  },
  {
   "cell_type": "code",
   "execution_count": 707,
   "id": "85573998",
   "metadata": {},
   "outputs": [
    {
     "data": {
      "image/png": "[encoded data removed]",
      "text/plain": [
       "<Figure size 864x576 with 1 Axes>"
      ]
     },
     "metadata": {
      "needs_background": "light"
     },
     "output_type": "display_data"
    }
   ],
   "source": [
    "# Create plot of spend Vs day\n",
    "df3_day_spend = pd.DataFrame(df3.groupby('Day')['Spend'].sum())\n",
    "df3_day_spend.reset_index(inplace=True)\n",
    "plt.figure(figsize = (12,8))\n",
    "dayspend = sns.barplot(x = df3_day_spend['Day'], y = df3_day_spend['Spend'])\n",
    "for container in dayspend.containers:\n",
    "    dayspend.bar_label(container)"
   ]
  },
  {
   "cell_type": "code",
   "execution_count": 708,
   "id": "6686f282",
   "metadata": {},
   "outputs": [
    {
     "data": {
      "image/png": "[encoded data removed]",
      "text/plain": [
       "<Figure size 1008x576 with 1 Axes>"
      ]
     },
     "metadata": {
      "needs_background": "light"
     },
     "output_type": "display_data"
    }
   ],
   "source": [
    "# Create plot of month vs spend\n",
    "df3_month_spend = pd.DataFrame(df3.groupby('Month')['Spend'].sum())\n",
    "df3_month_spend.reset_index(inplace=True)\n",
    "plt.figure(figsize = (14,8))\n",
    "monthspend = sns.barplot(x = df3_month_spend['Month'], y = df3_month_spend['Spend'], palette='RdYlGn')\n",
    "for container in monthspend.containers:\n",
    "    monthspend.bar_label(container)"
   ]
  },
  {
   "cell_type": "code",
   "execution_count": 709,
   "id": "4ac73913",
   "metadata": {},
   "outputs": [
    {
     "data": {
      "image/png": "[encoded data removed]",
      "text/plain": [
       "<Figure size 432x360 with 1 Axes>"
      ]
     },
     "metadata": {
      "needs_background": "light"
     },
     "output_type": "display_data"
    }
   ],
   "source": [
    "# Create plot of Season Vs spend\n",
    "df3_season_spend = pd.DataFrame(df3.groupby('Season')['Spend'].sum())\n",
    "df3_season_spend.reset_index(inplace=True)\n",
    "plt.figure(figsize = (6,5))\n",
    "seasonspend = sns.barplot(x = df3_season_spend['Season'], y = df3_season_spend['Spend'])\n",
    "for container in seasonspend.containers:\n",
    "    seasonspend.bar_label(container)"
   ]
  },
  {
   "cell_type": "code",
   "execution_count": 710,
   "id": "fa089bc1",
   "metadata": {},
   "outputs": [
    {
     "data": {
      "text/plain": [
       "<AxesSubplot:xlabel='TimeBucket', ylabel='count'>"
      ]
     },
     "execution_count": 710,
     "metadata": {},
     "output_type": "execute_result"
    },
    {
     "data": {
      "image/png": "[encoded data removed]",
      "text/plain": [
       "<Figure size 720x576 with 1 Axes>"
      ]
     },
     "metadata": {
      "needs_background": "light"
     },
     "output_type": "display_data"
    }
   ],
   "source": [
    "# Create countplot for TimeBucket\n",
    "plt.figure(figsize=(10,8))\n",
    "sns.countplot(x = df3['TimeBucket'])"
   ]
  },
  {
   "cell_type": "code",
   "execution_count": 711,
   "id": "9748f842",
   "metadata": {},
   "outputs": [
    {
     "data": {
      "image/png": "[encoded data removed]",
      "text/plain": [
       "<Figure size 720x432 with 1 Axes>"
      ]
     },
     "metadata": {
      "needs_background": "light"
     },
     "output_type": "display_data"
    }
   ],
   "source": [
    "# Create plot of TimeBucket Vs spend\n",
    "df3_time_spend = pd.DataFrame(df3.groupby('TimeBucket')['Spend'].sum())\n",
    "df3_time_spend.reset_index(inplace=True)\n",
    "plt.figure(figsize = (10,6))\n",
    "timespend = sns.barplot(x = df3_time_spend['TimeBucket'], y = df3_time_spend['Spend'])\n",
    "for container in timespend.containers:\n",
    "    timespend.bar_label(container)"
   ]
  },
  {
   "cell_type": "code",
   "execution_count": 712,
   "id": "cf01a6b7",
   "metadata": {},
   "outputs": [
    {
     "data": {
      "image/png": "[encoded data removed]",
      "text/plain": [
       "<Figure size 432x288 with 1 Axes>"
      ]
     },
     "metadata": {
      "needs_background": "light"
     },
     "output_type": "display_data"
    }
   ],
   "source": [
    "# Another method to create plot of TimeBucket Vs spend without adding any coloumns in main dataset\n",
    "time_6to9 = df3[(dt.time(6)<df3['Time'])&(df3['Time']<dt.time(9))]['Spend'].sum()\n",
    "time_9to12 = df3[(dt.time(9,1)<df3['Time'])&(df3['Time']<dt.time(12))]['Spend'].sum()\n",
    "time_12to15 = df3[(dt.time(12,1)<df3['Time'])&(df3['Time']<dt.time(15))]['Spend'].sum()\n",
    "time_15to18 = df3[(dt.time(15,1)<df3['Time'])&(df3['Time']<dt.time(18))]['Spend'].sum()\n",
    "time_18to21 = df3[(dt.time(18,1)<df3['Time'])&(df3['Time']<dt.time(21))]['Spend'].sum()\n",
    "time_buckets = {'6to9':time_6to9,'9to12':time_9to12,'12to15':time_12to15,'15to18':time_15to18, '18to21':time_18to21 }\n",
    "x1 = list(time_buckets.keys())\n",
    "y1 = list(time_buckets.values())\n",
    "timeplot = sns.barplot(x = x1, y = y1)\n",
    "for container in timeplot.containers:\n",
    "    timeplot.bar_label(container)"
   ]
  },
  {
   "cell_type": "markdown",
   "id": "2b1dd9f9",
   "metadata": {},
   "source": [
    "### PART 3: Higher sales trend item wise"
   ]
  },
  {
   "cell_type": "code",
   "execution_count": 713,
   "id": "8677a598",
   "metadata": {},
   "outputs": [
    {
     "data": {
      "image/png": "[encoded data removed]",
      "text/plain": [
       "<Figure size 576x1080 with 1 Axes>"
      ]
     },
     "metadata": {
      "needs_background": "light"
     },
     "output_type": "display_data"
    }
   ],
   "source": [
    "# Barplot for contry Vs spend\n",
    "df3_country_spend = pd.DataFrame(df3.groupby('Country')['Spend'].sum())\n",
    "df3_country_spend.reset_index(inplace=True)\n",
    "plt.figure(figsize = (8,15))\n",
    "countryspend = sns.barplot(y = df3_country_spend['Country'], x = df3_country_spend['Spend'], orient='h')"
   ]
  },
  {
   "cell_type": "code",
   "execution_count": 714,
   "id": "e86c191f",
   "metadata": {},
   "outputs": [
    {
     "data": {
      "text/plain": [
       "3896"
      ]
     },
     "execution_count": 714,
     "metadata": {},
     "output_type": "execute_result"
    }
   ],
   "source": [
    "df3['Description'].unique().size"
   ]
  },
  {
   "cell_type": "code",
   "execution_count": 715,
   "id": "d6b61321",
   "metadata": {},
   "outputs": [
    {
     "data": {
      "image/png": "[encoded data removed]",
      "text/plain": [
       "<Figure size 720x720 with 1 Axes>"
      ]
     },
     "metadata": {
      "needs_background": "light"
     },
     "output_type": "display_data"
    }
   ],
   "source": [
    "# Barplot for desciption Vs Spend\n",
    "df3_desc_spend = pd.DataFrame(df3.groupby('Description')['Spend'].sum())\n",
    "df3_desc_spend.reset_index(inplace=True)\n",
    "df3_desc_spend.sort_values('Spend', inplace=True, ascending=False)\n",
    "df3_desc_spend[:10]\n",
    "plt.figure(figsize = (10,10))\n",
    "descspend = sns.barplot(y = df3_desc_spend['Description'][:10], x = df3_desc_spend['Spend'], orient='h')"
   ]
  },
  {
   "cell_type": "code",
   "execution_count": 716,
   "id": "774017d3",
   "metadata": {},
   "outputs": [
    {
     "data": {
      "text/html": [
       "<div>\n",
       "<style scoped>\n",
       "    .dataframe tbody tr th:only-of-type {\n",
       "        vertical-align: middle;\n",
       "    }\n",
       "\n",
       "    .dataframe tbody tr th {\n",
       "        vertical-align: top;\n",
       "    }\n",
       "\n",
       "    .dataframe thead th {\n",
       "        text-align: right;\n",
       "    }\n",
       "</style>\n",
       "<table border=\"1\" class=\"dataframe\">\n",
       "  <thead>\n",
       "    <tr style=\"text-align: right;\">\n",
       "      <th></th>\n",
       "      <th>Description</th>\n",
       "      <th>CustomerID</th>\n",
       "      <th>Country</th>\n",
       "      <th>Month</th>\n",
       "      <th>Day</th>\n",
       "      <th>Season</th>\n",
       "      <th>Time</th>\n",
       "      <th>TimeBucket</th>\n",
       "      <th>Spend</th>\n",
       "    </tr>\n",
       "  </thead>\n",
       "  <tbody>\n",
       "    <tr>\n",
       "      <th>0</th>\n",
       "      <td>WHITE HANGING HEART T-LIGHT HOLDER</td>\n",
       "      <td>17850.0</td>\n",
       "      <td>United Kingdom</td>\n",
       "      <td>December</td>\n",
       "      <td>Wednesday</td>\n",
       "      <td>Winter</td>\n",
       "      <td>08:26:00</td>\n",
       "      <td>6to9</td>\n",
       "      <td>15.30</td>\n",
       "    </tr>\n",
       "    <tr>\n",
       "      <th>1</th>\n",
       "      <td>WHITE METAL LANTERN</td>\n",
       "      <td>17850.0</td>\n",
       "      <td>United Kingdom</td>\n",
       "      <td>December</td>\n",
       "      <td>Wednesday</td>\n",
       "      <td>Winter</td>\n",
       "      <td>08:26:00</td>\n",
       "      <td>6to9</td>\n",
       "      <td>20.34</td>\n",
       "    </tr>\n",
       "    <tr>\n",
       "      <th>2</th>\n",
       "      <td>CREAM CUPID HEARTS COAT HANGER</td>\n",
       "      <td>17850.0</td>\n",
       "      <td>United Kingdom</td>\n",
       "      <td>December</td>\n",
       "      <td>Wednesday</td>\n",
       "      <td>Winter</td>\n",
       "      <td>08:26:00</td>\n",
       "      <td>6to9</td>\n",
       "      <td>22.00</td>\n",
       "    </tr>\n",
       "    <tr>\n",
       "      <th>3</th>\n",
       "      <td>KNITTED UNION FLAG HOT WATER BOTTLE</td>\n",
       "      <td>17850.0</td>\n",
       "      <td>United Kingdom</td>\n",
       "      <td>December</td>\n",
       "      <td>Wednesday</td>\n",
       "      <td>Winter</td>\n",
       "      <td>08:26:00</td>\n",
       "      <td>6to9</td>\n",
       "      <td>20.34</td>\n",
       "    </tr>\n",
       "    <tr>\n",
       "      <th>4</th>\n",
       "      <td>RED WOOLLY HOTTIE WHITE HEART.</td>\n",
       "      <td>17850.0</td>\n",
       "      <td>United Kingdom</td>\n",
       "      <td>December</td>\n",
       "      <td>Wednesday</td>\n",
       "      <td>Winter</td>\n",
       "      <td>08:26:00</td>\n",
       "      <td>6to9</td>\n",
       "      <td>20.34</td>\n",
       "    </tr>\n",
       "  </tbody>\n",
       "</table>\n",
       "</div>"
      ],
      "text/plain": [
       "                           Description  CustomerID         Country     Month  \\\n",
       "0   WHITE HANGING HEART T-LIGHT HOLDER     17850.0  United Kingdom  December   \n",
       "1                  WHITE METAL LANTERN     17850.0  United Kingdom  December   \n",
       "2       CREAM CUPID HEARTS COAT HANGER     17850.0  United Kingdom  December   \n",
       "3  KNITTED UNION FLAG HOT WATER BOTTLE     17850.0  United Kingdom  December   \n",
       "4       RED WOOLLY HOTTIE WHITE HEART.     17850.0  United Kingdom  December   \n",
       "\n",
       "         Day  Season      Time TimeBucket  Spend  \n",
       "0  Wednesday  Winter  08:26:00       6to9  15.30  \n",
       "1  Wednesday  Winter  08:26:00       6to9  20.34  \n",
       "2  Wednesday  Winter  08:26:00       6to9  22.00  \n",
       "3  Wednesday  Winter  08:26:00       6to9  20.34  \n",
       "4  Wednesday  Winter  08:26:00       6to9  20.34  "
      ]
     },
     "execution_count": 716,
     "metadata": {},
     "output_type": "execute_result"
    }
   ],
   "source": [
    "df3.head()"
   ]
  },
  {
   "cell_type": "code",
   "execution_count": 717,
   "id": "796eedff",
   "metadata": {},
   "outputs": [
    {
     "data": {
      "text/plain": [
       "<AxesSubplot:xlabel='count', ylabel='Country'>"
      ]
     },
     "execution_count": 717,
     "metadata": {},
     "output_type": "execute_result"
    },
    {
     "data": {
      "image/png": "[encoded data removed]",
      "text/plain": [
       "<Figure size 864x360 with 1 Axes>"
      ]
     },
     "metadata": {
      "needs_background": "light"
     },
     "output_type": "display_data"
    }
   ],
   "source": [
    "# Barplot to indentify in which contry max selling prodcut is sold\n",
    "df4 = pd.DataFrame(df3.groupby('Description').get_group('REGENCY CAKESTAND 3 TIER'))\n",
    "plt.figure(figsize=(12,5))\n",
    "sns.countplot(y = df4['Country'])"
   ]
  },
  {
   "cell_type": "code",
   "execution_count": 740,
   "id": "aa035e14",
   "metadata": {},
   "outputs": [
    {
     "data": {
      "image/png": "[encoded data removed]",
      "text/plain": [
       "<Figure size 576x576 with 1 Axes>"
      ]
     },
     "metadata": {},
     "output_type": "display_data"
    }
   ],
   "source": [
    "plt.figure(figsize=(8,8))\n",
    "plt.pie(df4['Month'].value_counts(),labels = df4['Month'].value_counts().index,autopct='%2f%%')\n",
    "plt.show()"
   ]
  },
  {
   "cell_type": "markdown",
   "id": "209fbe8d",
   "metadata": {},
   "source": [
    "# CONCLUSION"
   ]
  },
  {
   "cell_type": "markdown",
   "id": "2952b723",
   "metadata": {},
   "source": [
    "## PART 1: Segment (group/cluster) customers on the basis of buying better RFM (Recency Frequency Monetary)"
   ]
  },
  {
   "cell_type": "markdown",
   "id": "e9d4f9a3",
   "metadata": {},
   "source": [
    "#### 1. Looking at the scatter plot of frequency Vs recency, we can conclude that frequency has increased in recent days. Which indicates that more and more customers started visiting mall in recent days\n",
    "#### 2. Looking at the scatter plot of monetary Vs recency, we can conclude that customers are started spending more in recent days\n",
    "#### 3. First two points indicates that sales has picked up in recent days\n",
    "#### 4. Looking at pie chart for loyality, silver catergoty is about 40% and looking at pie chart for segment, new customers are about 45%, which indicates that current marketing strategies are attracting new customers"
   ]
  },
  {
   "cell_type": "markdown",
   "id": "683b5115",
   "metadata": {},
   "source": [
    "### PART 2: Sales trends for day month season time by invoice number/customer ID"
   ]
  },
  {
   "cell_type": "markdown",
   "id": "90a3ea0c",
   "metadata": {},
   "source": [
    "#### 1. Month over month spend barchart  clearly shows that money spent by customers was flat till august and it started picking up from Sept onwards. It indicates that if any new strategies adopted around Aug end, those are well effective\n",
    "#### 2. Weekday spend graph shows that, customer are prominantly visiting on Thursday and customer count is very low on Sundays. More resources can be deployed on Thursday and resources can be optimized on Sunday. Rest of the working days shows flat spend.\n",
    "#### 3. Additionally, recomendation is to increase resources for time slab of 12 to 15 which had major count of visiting customers"
   ]
  },
  {
   "cell_type": "markdown",
   "id": "a34db4be",
   "metadata": {},
   "source": [
    "### PART 3: Higher sales trend item wise"
   ]
  },
  {
   "cell_type": "markdown",
   "id": "1d59e868",
   "metadata": {},
   "source": [
    "#### 1.\"REGENCY CAKESTAND 3 TIER\" was the highest sold item in given period of time and sold in UK \n",
    "#### 2. \"REGENCY CAKESTAND 3 TIER\" has flat sell across months with slightly higher sell shown in March and Dec months"
   ]
  }
 ],
 "metadata": {
  "kernelspec": {
   "display_name": "Python 3 (ipykernel)",
   "language": "python",
   "name": "python3"
  },
  "language_info": {
   "codemirror_mode": {
    "name": "ipython",
    "version": 3
   },
   "file_extension": ".py",
   "mimetype": "text/x-python",
   "name": "python",
   "nbconvert_exporter": "python",
   "pygments_lexer": "ipython3",
   "version": "3.9.12"
  }
 },
 "nbformat": 4,
 "nbformat_minor": 5
}
