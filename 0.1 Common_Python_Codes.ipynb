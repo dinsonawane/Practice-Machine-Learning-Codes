{
 "cells": [
  {
   "cell_type": "code",
   "execution_count": 118,
   "metadata": {},
   "outputs": [
    {
     "name": "stdout",
     "output_type": "stream",
     "text": [
      "Enter the number:5\n",
      "0 1 1 2 3 "
     ]
    }
   ],
   "source": [
    "# Write a python code for Fibonacci series without recursive function\n",
    "def Fibonacci_iter(num):\n",
    "    \"\"\" This is the function which takes non-negative number (N) as input and prints the Fibonacci searines till N terms\"\"\"\n",
    "    n1 = 0\n",
    "    n2 = 1\n",
    "    if num==0:\n",
    "        print(n1)\n",
    "    elif num ==1:\n",
    "        print(n1,n2, end = ' ')\n",
    "    else:\n",
    "        print(n1,n2, end = \" \")\n",
    "        while num>2:        \n",
    "            n3 = n1+n2\n",
    "            n1, n2 = n2, n3\n",
    "            num = num-1\n",
    "            print(n3, end = \" \")\n",
    "        \n",
    "num = int(input(\"Enter the number:\"))\n",
    "Fibonacci_iter(num)"
   ]
  },
  {
   "cell_type": "code",
   "execution_count": 7,
   "metadata": {},
   "outputs": [
    {
     "name": "stdout",
     "output_type": "stream",
     "text": [
      "2  3  \n",
      "2  3  "
     ]
    }
   ],
   "source": [
    "# Python code to extract digits from string\n",
    "def str_digits(input_str):\n",
    "    \"\"\" This function takes any string as input and returns only digits prsent in the string\"\"\"\n",
    "    digits = []\n",
    "    for i in input_str:\n",
    "        if str(i).isdigit() == True:\n",
    "            digits.append(i)\n",
    "    return ''.join(digits)\n",
    "\n",
    "\n",
    "def str_digits1(input_str):\n",
    "    \"\"\" This function takes any string as input and returns only digits prsent in the string\"\"\"\n",
    "\n",
    "    digits = ''.join([i for i in input_str if str(i).isdigit() == True])\n",
    "    return digits\n",
    "\n",
    "   \n",
    "input_str = \"dinesh23\"\n",
    "\n",
    "for i in str_digits(input_str):\n",
    "    print(i, end = \"  \")\n",
    "\n",
    "print() \n",
    "\n",
    "for i in str_digits1(input_str):\n",
    "    print(i, end = \"  \")\n"
   ]
  },
  {
   "cell_type": "code",
   "execution_count": 46,
   "metadata": {},
   "outputs": [
    {
     "name": "stdout",
     "output_type": "stream",
     "text": [
      "Enter the number:153\n",
      "Provided number is Armstrong\n"
     ]
    }
   ],
   "source": [
    "# Check if provided number is Armstrong or not\n",
    "num = int(input(\"Enter the number:\"))\n",
    "def armstrong(num):\n",
    "    \"\"\" This function takes any integer number as input and returns if the provided number is armstrong or not.\n",
    "        Armstrong is a number where sum of cube of digits of a number equals to the number\"\"\"\n",
    "    lst = []\n",
    "    while num!=0:\n",
    "        digit = num%10\n",
    "        num = num//10\n",
    "        lst.append(digit)\n",
    "    return lst\n",
    "\n",
    "cubes = [ i**3 for i in armstrong(num)]\n",
    "if num == sum(cubes):\n",
    "    print(\"Provided number is Armstrong\")\n",
    "else:\n",
    "    print(\"Provided number is not Armstrong\")"
   ]
  },
  {
   "cell_type": "code",
   "execution_count": 305,
   "metadata": {},
   "outputs": [
    {
     "name": "stdout",
     "output_type": "stream",
     "text": [
      "Enter the number:30\n",
      "1 2 Fizz 4 Buzz Fizz 7 8 Fizz Buzz 11 Fizz 13 14 FizzBuzz 16 17 Fizz 19 Buzz Fizz 22 23 Fizz Buzz 26 Fizz 28 29 FizzBuzz "
     ]
    }
   ],
   "source": [
    "# Divisible by 3, print Fizz, by 5 - print Buzz, By 15 - print FizzBuzz - WITHOUT DICTIONARY\n",
    "def fizzbuzz(num):\n",
    "    \"\"\" This function takes any number and return Fizz if divisible by 3, returns Buzz if divisible by 5 and return FizzBuzz \n",
    "        if divisble by 15\"\"\"\n",
    "    result = \"\"\n",
    "    if num%3==0 and num%15!=0:\n",
    "        result = \"Fizz\"\n",
    "    elif num%5==0 and num%15!=0:\n",
    "        result = \"Buzz\"\n",
    "    elif num%15 == 0:\n",
    "        result = \"FizzBuzz\"\n",
    "    else:\n",
    "        result = num\n",
    "    return result\n",
    "\n",
    "num = int(input(\"Enter the number:\"))\n",
    "for i in range(1,num+1):\n",
    "    print(fizzbuzz(i), end = \" \")"
   ]
  },
  {
   "cell_type": "code",
   "execution_count": 16,
   "metadata": {},
   "outputs": [
    {
     "name": "stdout",
     "output_type": "stream",
     "text": [
      "1 2 Fizz 4 Buzz Fizz 7 8 Fizz Buzz 11 Fizz 13 14 FizzBuzz 16 17 Fizz 19 Buzz Fizz 22 23 Fizz Buzz 26 Fizz 28 29 FizzBuzz "
     ]
    }
   ],
   "source": [
    "# Divisible by 3, print Fizz, by 5 - print Buzz, By 15 - print FizzBuzz - WITH DICTIONARY\n",
    "def FizzBuzz_withDict(num):\n",
    "    \"\"\" This function takes any number and return Fizz if divisible by 3, returns Buzz if divisible by 5 and return FizzBuzz \n",
    "        if divisble by 15\"\"\"\n",
    "    dict = {3: 'Fizz', 5:'Buzz'}\n",
    "    result = \"\"\n",
    "    for key in dict:\n",
    "        if num%key == 0:\n",
    "            result = result + dict[key]\n",
    "    if result:\n",
    "        return result\n",
    "    else:\n",
    "        return num\n",
    "\n",
    "for i in range(1,31):\n",
    "    print(FizzBuzz_withDict(i), end = \" \")"
   ]
  },
  {
   "cell_type": "code",
   "execution_count": 60,
   "metadata": {},
   "outputs": [
    {
     "data": {
      "text/plain": [
       "[1, 2, 3, 4, 5]"
      ]
     },
     "execution_count": 60,
     "metadata": {},
     "output_type": "execute_result"
    }
   ],
   "source": [
    "# Python code to flatten the nested list\n",
    "def flatten_list(lst):\n",
    "    flat_list = []\n",
    "    for i in lst:\n",
    "        if type(i) == list:\n",
    "            flat_list.extend(flatten_list(i))\n",
    "        else:\n",
    "            flat_list.append(i)\n",
    "    return flat_list\n",
    "\n",
    "lst = [[1,2,[3]],4,[5]]\n",
    "flatten_list(lst)"
   ]
  },
  {
   "cell_type": "code",
   "execution_count": 18,
   "metadata": {},
   "outputs": [
    {
     "data": {
      "text/plain": [
       "[(1, 2, 6), (1, 3, 5), (2, 3, 4), (3, 6), (4, 5)]"
      ]
     },
     "execution_count": 18,
     "metadata": {},
     "output_type": "execute_result"
    }
   ],
   "source": [
    "# Find the combinations of 3 numbers having required sum\n",
    "def required_sum(lst, num):\n",
    "    num_lst = []\n",
    "    for i in range(len(lst)):\n",
    "        for j in range(i+1, len(lst)):\n",
    "            if lst[i]+lst[j]<num:\n",
    "                for k in range (j+1,len(lst)):\n",
    "                    if lst[i]+lst[j]+lst[k] ==num:\n",
    "                        num_lst.append([lst[i], lst[j], lst[k]])\n",
    "            else:\n",
    "                if lst[i]+lst[j]==num:\n",
    "                    num_lst.append([lst[i],lst[j]])\n",
    "    num_tup = [tuple(i) for i in num_lst]\n",
    "    return num_tup\n",
    "    \n",
    "required_sum([1,2,3,4,5,6,9],9)"
   ]
  },
  {
   "cell_type": "code",
   "execution_count": 81,
   "metadata": {},
   "outputs": [
    {
     "data": {
      "text/plain": [
       "[(1, 4), (2, 3), (5, 0)]"
      ]
     },
     "execution_count": 81,
     "metadata": {},
     "output_type": "execute_result"
    }
   ],
   "source": [
    "# Find the combinations of 2 numbers having required sum\n",
    "def sum_comb(lst, num):\n",
    "    num_lst = []\n",
    "    for i in range(len(lst)):\n",
    "        for j in range(i+1,len(lst)):\n",
    "            if lst[i]+lst[j] == num:\n",
    "                num_lst.append([lst[i],lst[j]])\n",
    "    tup_lst = [tuple(i) for i in num_lst]\n",
    "    return tup_lst\n",
    "\n",
    "sum_comb([1,2,3,4,5,0],5)"
   ]
  },
  {
   "cell_type": "code",
   "execution_count": 21,
   "metadata": {},
   "outputs": [
    {
     "data": {
      "text/plain": [
       "[(1, 4), (2, 3), (5, 0)]"
      ]
     },
     "execution_count": 21,
     "metadata": {},
     "output_type": "execute_result"
    }
   ],
   "source": [
    "# Find the combinations of 2 numbers having required sum\n",
    "def sum_comb_quick(lst, num):\n",
    "    return [(j,m) for i,j in enumerate(lst) for l,m in enumerate(lst[i+1:]) if j+m == num]\n",
    "\n",
    "sum_comb_quick([1,2,3,4,5,0],5)"
   ]
  },
  {
   "cell_type": "code",
   "execution_count": 74,
   "metadata": {},
   "outputs": [
    {
     "data": {
      "text/plain": [
       "[(0, 3), (1, 2), (4, 5)]"
      ]
     },
     "execution_count": 74,
     "metadata": {},
     "output_type": "execute_result"
    }
   ],
   "source": [
    "# Find the combinations of 2 numbers having required sum and return position of numbers in list\n",
    "def sum_index_quick(lst, num):\n",
    "    return [(i,l+i+1) for i,j in enumerate(lst) for l,m in enumerate(lst[i+1:]) if j+m == num]\n",
    "\n",
    "sum_index_quick([1,2,3,4,5,0],5)"
   ]
  },
  {
   "cell_type": "code",
   "execution_count": 26,
   "metadata": {},
   "outputs": [
    {
     "data": {
      "text/plain": [
       "{'B': 1, 'O': 2, 'K': 1}"
      ]
     },
     "execution_count": 26,
     "metadata": {},
     "output_type": "execute_result"
    }
   ],
   "source": [
    "# Python code to find the number of characters in string\n",
    "def character_nums(input_str):\n",
    "    dict = {}\n",
    "    for i in input_str:\n",
    "        if i in dict:\n",
    "            dict[i] = dict[i] + 1\n",
    "        else:\n",
    "            dict[i] = 1\n",
    "    return dict\n",
    "\n",
    "character_nums(\"BOOK\")"
   ]
  },
  {
   "cell_type": "code",
   "execution_count": 27,
   "metadata": {},
   "outputs": [
    {
     "data": {
      "text/plain": [
       "{'B': 1, 'O': 2, 'K': 1}"
      ]
     },
     "execution_count": 27,
     "metadata": {},
     "output_type": "execute_result"
    }
   ],
   "source": [
    "# Python code to find the number of characters in string\n",
    "def character_nums_quick(input_str):\n",
    "    dict = {}\n",
    "    for i in input_str:\n",
    "        dict[i] = dict.get(i,0)+1\n",
    "    return dict\n",
    "\n",
    "character_nums_quick(\"BOOK\")"
   ]
  },
  {
   "cell_type": "code",
   "execution_count": 306,
   "metadata": {},
   "outputs": [
    {
     "data": {
      "text/plain": [
       "454"
      ]
     },
     "execution_count": 306,
     "metadata": {},
     "output_type": "execute_result"
    }
   ],
   "source": [
    "# Reverse the provided number\n",
    "def reverse_num(num):\n",
    "    digits = []\n",
    "    while num!=0:\n",
    "        dig = num%10\n",
    "        num = num//10\n",
    "        digits.append(dig)\n",
    "    digits = digits[::-1]\n",
    "    rev_num = 0\n",
    "    for i in range(len(digits)):\n",
    "        rev_num = rev_num + digits[i]*10**i\n",
    "    return rev_num\n",
    "\n",
    "reverse_num(454)"
   ]
  },
  {
   "cell_type": "code",
   "execution_count": 29,
   "metadata": {},
   "outputs": [
    {
     "data": {
      "text/plain": [
       "'String is Pallindrome'"
      ]
     },
     "execution_count": 29,
     "metadata": {},
     "output_type": "execute_result"
    }
   ],
   "source": [
    "# Write a python code to check if string is palindrome or not\n",
    "def pallindrome(input_str):\n",
    "    clean_str = ''.join(e for e in input_str if e.isalnum()).lower()\n",
    "    rev_str = clean_str[::-1]\n",
    "    if clean_str==rev_str:\n",
    "        return \"String is Pallindrome\"\n",
    "    else:\n",
    "        return \"String is not Pallindrome\"\n",
    "    \n",
    "pallindrome(\"A man, A plan, a canal, Panama!\")"
   ]
  },
  {
   "cell_type": "code",
   "execution_count": 56,
   "metadata": {},
   "outputs": [
    {
     "data": {
      "text/plain": [
       "'String is Pallindrome'"
      ]
     },
     "execution_count": 56,
     "metadata": {},
     "output_type": "execute_result"
    }
   ],
   "source": [
    "def pallindrome_alternate(input_str):\n",
    "    clean_str = ''.join(e for e in input_str if e.isalnum()).lower()\n",
    "    rev_str = \"\"\n",
    "    for i in range(len(clean_str)-1,-1,-1):\n",
    "        rev_str = rev_str + clean_str[i]\n",
    "    if clean_str==rev_str:\n",
    "        return \"String is Pallindrome\"\n",
    "    else:\n",
    "        return \"String is not Pallindrome\"  \n",
    "    \n",
    "pallindrome_alternate(\"A man, A plan, a canal, Panama!\")\n",
    "        "
   ]
  },
  {
   "cell_type": "code",
   "execution_count": 32,
   "metadata": {},
   "outputs": [
    {
     "data": {
      "text/plain": [
       "145"
      ]
     },
     "execution_count": 32,
     "metadata": {},
     "output_type": "execute_result"
    }
   ],
   "source": [
    "# Python code to find the sum of Factorial of digits of a given numbers\n",
    "def fact_digits(num):\n",
    "    digits = []\n",
    "    while num!=0:\n",
    "        digit = num%10\n",
    "        num = num//10\n",
    "        digits.append(digit)\n",
    "    def fact(number):\n",
    "        if number <=0:\n",
    "            return 1\n",
    "        else:\n",
    "            return number*fact(number-1)\n",
    "   \n",
    "    return sum([fact(i) for i in digits])\n",
    "\n",
    "fact_digits(145)"
   ]
  },
  {
   "cell_type": "code",
   "execution_count": 185,
   "metadata": {},
   "outputs": [
    {
     "data": {
      "text/plain": [
       "[2, 3, 4, 5, 1]"
      ]
     },
     "execution_count": 185,
     "metadata": {},
     "output_type": "execute_result"
    }
   ],
   "source": [
    "# Write python code to rotate the list by given positions in left or right\n",
    "\n",
    "def rotate(lst,k):\n",
    "    if k>= len(lst):\n",
    "        k = k%len(lst)\n",
    "    return lst[k:]+lst[:k]\n",
    "\n",
    "rotate([1,2,3,4,5],6)"
   ]
  },
  {
   "cell_type": "code",
   "execution_count": 33,
   "metadata": {},
   "outputs": [
    {
     "data": {
      "text/plain": [
       "[(3, 4, 5), (5, 12, 13), (6, 8, 10), (9, 12, 15)]"
      ]
     },
     "execution_count": 33,
     "metadata": {},
     "output_type": "execute_result"
    }
   ],
   "source": [
    "# Write a python program to find pythogorean triplets in given limit\n",
    "\n",
    "def pyth_trip(limit):\n",
    "    triplet = []\n",
    "    for i in range(1,limit+1):\n",
    "        for j in range(i+1,limit+1):\n",
    "            c = (i**2+j**2)**0.5\n",
    "            if c==int(c) and c<=limit:\n",
    "                triplet.append((i,j,int(c)))\n",
    "    return triplet\n",
    "\n",
    "pyth_trip(15)    "
   ]
  },
  {
   "cell_type": "code",
   "execution_count": 187,
   "metadata": {},
   "outputs": [
    {
     "name": "stdout",
     "output_type": "stream",
     "text": [
      "16 is 2power4\n",
      "15 is not power of 2\n"
     ]
    }
   ],
   "source": [
    "# Write a python code to know if provided number is power of 2 or not\n",
    "def power_of_two(num):\n",
    "    Flag = False\n",
    "    for i in range(1,num):\n",
    "        if num == 2**i:\n",
    "            print(f\"{num} is 2power{i}\")\n",
    "            Flag = True\n",
    "        if i+1==num and Flag == False:\n",
    "            print(f\"{num} is not power of 2\")\n",
    "\n",
    "power_of_two(16)\n",
    "power_of_two(15)"
   ]
  },
  {
   "cell_type": "code",
   "execution_count": 39,
   "metadata": {},
   "outputs": [
    {
     "data": {
      "text/plain": [
       "1"
      ]
     },
     "execution_count": 39,
     "metadata": {},
     "output_type": "execute_result"
    }
   ],
   "source": [
    "# Write a python code to find number of trailing zeros in factorial of number\n",
    "def trailing_zeros(num):\n",
    "    product = 1\n",
    "    if num==0:\n",
    "        product = 1\n",
    "    for i in range(1,num+1):\n",
    "        product = product*i\n",
    "    dict = {}\n",
    "    while product!=0:\n",
    "        d = product%10\n",
    "        product = product//10\n",
    "        if d in dict:\n",
    "            dict[d] = dict[d]+1\n",
    "        else:\n",
    "            dict[d] = 1\n",
    "    return dict[0]\n",
    "\n",
    "trailing_zeros(5)"
   ]
  },
  {
   "cell_type": "code",
   "execution_count": 188,
   "metadata": {},
   "outputs": [
    {
     "data": {
      "text/plain": [
       "3"
      ]
     },
     "execution_count": 188,
     "metadata": {},
     "output_type": "execute_result"
    }
   ],
   "source": [
    "# Write a python code to find missing number in a list\n",
    "def missing_number(lst):\n",
    "    n = len(lst)+1\n",
    "    esum = n*(n+1)//2\n",
    "    asum = sum(lst)\n",
    "    mn = esum-asum\n",
    "    return mn\n",
    "\n",
    "missing_number([1,5,2,4])"
   ]
  },
  {
   "cell_type": "code",
   "execution_count": 41,
   "metadata": {
    "scrolled": true
   },
   "outputs": [
    {
     "data": {
      "text/plain": [
       "3"
      ]
     },
     "execution_count": 41,
     "metadata": {},
     "output_type": "execute_result"
    }
   ],
   "source": [
    "# Write a python code to find missing number in a list\n",
    "def missing_number_quick(lst):\n",
    "    max_num = max(lst)\n",
    "    return [i for i in range(1,max_num) if i not in lst][0]\n",
    "\n",
    "missing_number_quick([1,5,2,4])"
   ]
  },
  {
   "cell_type": "code",
   "execution_count": 16,
   "metadata": {},
   "outputs": [
    {
     "data": {
      "text/plain": [
       "'500,000'"
      ]
     },
     "execution_count": 16,
     "metadata": {},
     "output_type": "execute_result"
    }
   ],
   "source": [
    "# Write a python code for thousand's seperator, for example, if input = 1000000, then output = 1,000,000\n",
    "def thousand_sep(num):\n",
    "    result = \"\"\n",
    "    for i,j in enumerate(str(num)[::-1], start = 1):\n",
    "        result = result + j\n",
    "        if i%3==0 and i != len(str(num)):\n",
    "            result = result + ','\n",
    "    return result[::-1]\n",
    "\n",
    "thousand_sep(500000)\n"
   ]
  },
  {
   "cell_type": "code",
   "execution_count": 32,
   "metadata": {},
   "outputs": [
    {
     "data": {
      "text/plain": [
       "'500,000'"
      ]
     },
     "execution_count": 32,
     "metadata": {},
     "output_type": "execute_result"
    }
   ],
   "source": [
    "# Write a python code for thousand's seperator, for example, if input = 1000000, then output = 1,000,000\n",
    "def thousand_sep_quick(num):\n",
    "    num = str(num)[::-1]\n",
    "    n = 3\n",
    "    lst = [num[i:i+n] for i in range(0,len(num),n)]\n",
    "    return ','.join(lst)[::-1]\n",
    "\n",
    "thousand_sep_quick(500000)"
   ]
  },
  {
   "cell_type": "code",
   "execution_count": 38,
   "metadata": {},
   "outputs": [
    {
     "name": "stdout",
     "output_type": "stream",
     "text": [
      "101 103 107 109 113 127 131 137 139 149 151 157 163 167 173 179 181 191 193 197 199 "
     ]
    }
   ],
   "source": [
    "# Write a python code to print prime number in a given range\n",
    "def prime_num_range(start,end):\n",
    "    for num in range(start,end+1):\n",
    "        if all(num%i !=0 for i in range(2,num)):\n",
    "            yield num\n",
    "\n",
    "for i in prime_num_range(100,200):\n",
    "    print(i, end = \" \")"
   ]
  },
  {
   "cell_type": "code",
   "execution_count": 39,
   "metadata": {},
   "outputs": [
    {
     "data": {
      "text/plain": [
       "[1, 3, 4, 4, 7]"
      ]
     },
     "execution_count": 39,
     "metadata": {},
     "output_type": "execute_result"
    }
   ],
   "source": [
    "# Write a python code to sort the list in ascending order without using sort function\n",
    "def sort_list(lst):\n",
    "    for i in range(len(lst)):\n",
    "        for j in range(i+1, len(lst)):\n",
    "            if lst[i]>lst[j]:\n",
    "                lst[i], lst[j] = lst[j], lst[i]\n",
    "    return lst\n",
    "sort_list([4,7,1,4,3])"
   ]
  },
  {
   "cell_type": "code",
   "execution_count": 56,
   "metadata": {},
   "outputs": [
    {
     "data": {
      "text/plain": [
       "[1, 2, 3, 4, 5]"
      ]
     },
     "execution_count": 56,
     "metadata": {},
     "output_type": "execute_result"
    }
   ],
   "source": [
    "# Write a python code to elliminate duplicate elements (keep the unique elements only) from a given list\n",
    "def unique(lst):\n",
    "    return [j for i,j in enumerate(lst) if j not in lst[i+1:]]\n",
    "unique([1,2,2,3,3,3,4,4,5,5])"
   ]
  },
  {
   "cell_type": "code",
   "execution_count": 189,
   "metadata": {},
   "outputs": [
    {
     "data": {
      "text/plain": [
       "[2, 3, 3, 4, 5, 6, 6, 6]"
      ]
     },
     "execution_count": 189,
     "metadata": {},
     "output_type": "execute_result"
    }
   ],
   "source": [
    "# Write a python code to keep repeated elements from a given list\n",
    "def unique(lst):\n",
    "    return [j for i,j in enumerate(lst) if j in lst[i+1:]]\n",
    "unique([1,2,2,3,3,3,4,4,5,5,6,6,6,6])"
   ]
  },
  {
   "cell_type": "code",
   "execution_count": 57,
   "metadata": {},
   "outputs": [
    {
     "data": {
      "text/plain": [
       "5"
      ]
     },
     "execution_count": 57,
     "metadata": {},
     "output_type": "execute_result"
    }
   ],
   "source": [
    "# Write a python code to sum the digit of numbers and return the count of numbers that matches with sum\n",
    "def sum_of_digits(num):\n",
    "    digit_sum = []\n",
    "    for i in str(num):\n",
    "        digits = [int(j) for j in i.split()]\n",
    "        digit_sum.append(sum(digits))\n",
    "    return sum(digit_sum)\n",
    "lst = []\n",
    "def count_digit_sum(start,end):\n",
    "    for i in range(start, end+1):\n",
    "        lst.append(sum_of_digits(i))\n",
    "    return len([j for i,j in enumerate(lst) if j in lst[i+1:]])\n",
    "count_digit_sum(4,17)  "
   ]
  },
  {
   "cell_type": "code",
   "execution_count": 90,
   "metadata": {},
   "outputs": [
    {
     "data": {
      "text/plain": [
       "[(1, 2)]"
      ]
     },
     "execution_count": 90,
     "metadata": {},
     "output_type": "execute_result"
    }
   ],
   "source": [
    "# Write a python code to show the index of repeated characters in string\n",
    "def index_rep_char(input_str):\n",
    "    return [(i,l+i+1) for i,j in enumerate(input_str) for l,m in enumerate(input_str[i+1:]) if j==m]\n",
    "\n",
    "index_rep_char(\"BOOK\")"
   ]
  },
  {
   "cell_type": "code",
   "execution_count": 117,
   "metadata": {},
   "outputs": [
    {
     "data": {
      "text/plain": [
       "{'B': 1, 'K': 1}"
      ]
     },
     "execution_count": 117,
     "metadata": {},
     "output_type": "execute_result"
    }
   ],
   "source": [
    "# Write a python code to Remove the repeated characters from the string and print the remaining string\n",
    "def remove_repeated(input_str):\n",
    "    dict = {}\n",
    "    for i in input_str:\n",
    "        if i in dict:\n",
    "            dict[i] = dict[i]+1\n",
    "        else:\n",
    "            dict[i] = 1\n",
    "    return {k:v for (k,v) in zip(dict.keys(),dict.values()) if v<=1}\n",
    "            \n",
    "remove_repeated(\"BOOK\")"
   ]
  },
  {
   "cell_type": "code",
   "execution_count": 127,
   "metadata": {},
   "outputs": [
    {
     "name": "stdout",
     "output_type": "stream",
     "text": [
      "0 1 1 2 3 "
     ]
    }
   ],
   "source": [
    "# Write a python code for Fibonacci series using recursive function\n",
    "def fibbonacci_recursive(num):\n",
    "    if num<2:\n",
    "        return num\n",
    "    else:\n",
    "        return fibbonacci_recursive(num-1)+fibbonacci_recursive(num-2)\n",
    "    \n",
    "for i in range(5):\n",
    "    print(fibbonacci_recursive(i), end = \" \")\n"
   ]
  },
  {
   "cell_type": "code",
   "execution_count": 133,
   "metadata": {},
   "outputs": [
    {
     "name": "stdout",
     "output_type": "stream",
     "text": [
      "0 1 2 6 24 "
     ]
    }
   ],
   "source": [
    "# Write a python code for factorial of number using recursive function\n",
    "def factorial(num):\n",
    "    if num<2:\n",
    "        return num\n",
    "    else:\n",
    "        return num * factorial(num-1)\n",
    "\n",
    "for i in range(5):\n",
    "    print(factorial(i), end = \" \")"
   ]
  },
  {
   "cell_type": "code",
   "execution_count": 136,
   "metadata": {},
   "outputs": [
    {
     "data": {
      "text/plain": [
       "2"
      ]
     },
     "execution_count": 136,
     "metadata": {},
     "output_type": "execute_result"
    }
   ],
   "source": [
    "# Python code to locate index position of user provided number on list\n",
    "def index_pos(lst, num):\n",
    "    return [i for i,j in enumerate(lst) if j==num][0]\n",
    "\n",
    "index_pos([1,4,3,2], 3)"
   ]
  },
  {
   "cell_type": "code",
   "execution_count": 163,
   "metadata": {},
   "outputs": [
    {
     "data": {
      "text/plain": [
       "'121 is pallindrome'"
      ]
     },
     "execution_count": 163,
     "metadata": {},
     "output_type": "execute_result"
    }
   ],
   "source": [
    "# Check if given number is pallindrome or not\n",
    "def number_pallindrome(num):\n",
    "    n = num\n",
    "    lst = []\n",
    "    while num!=0:\n",
    "        digit = num%10\n",
    "        num = num//10\n",
    "        lst.append(digit)\n",
    "    lst = lst[::-1]\n",
    "    rev_num = 0\n",
    "    for i,j in enumerate(lst):\n",
    "        rev_num = rev_num + j*10**i\n",
    "    if rev_num == n:\n",
    "        return f'{n} is pallindrome'\n",
    "    else:\n",
    "\n",
    "        return f'{n} is not pallindrome'\n",
    "\n",
    "number_pallindrome(121)\n",
    "        "
   ]
  },
  {
   "cell_type": "code",
   "execution_count": 59,
   "metadata": {},
   "outputs": [
    {
     "data": {
      "text/plain": [
       "7"
      ]
     },
     "execution_count": 59,
     "metadata": {},
     "output_type": "execute_result"
    }
   ],
   "source": [
    "# Write a python code to find the second largest number from the given list\n",
    "def second_largest(lst):\n",
    "    largest = float('-inf')\n",
    "    sec_largest = float('-inf')\n",
    "    for num in lst:\n",
    "        if num> largest:\n",
    "            sec_largest = largest\n",
    "            largest = num\n",
    "            \n",
    "        elif num>= sec_largest and num != largest:\n",
    "            sec_largest = num\n",
    "    if sec_largest == float('-inf'):\n",
    "        return \"No second largest number\"\n",
    "    else:\n",
    "        return sec_largest\n",
    "\n",
    "second_largest([2,3,4,5,6,7,8,7,8])"
   ]
  },
  {
   "cell_type": "code",
   "execution_count": 251,
   "metadata": {},
   "outputs": [
    {
     "data": {
      "text/plain": [
       "17"
      ]
     },
     "execution_count": 251,
     "metadata": {},
     "output_type": "execute_result"
    }
   ],
   "source": [
    "# Write a python code to find the sum of max two numbers from the given list\n",
    "def second_large(lst):\n",
    "    largest = float('-inf')\n",
    "    second_largest = float('-inf')\n",
    "    for num in lst:\n",
    "        if num>largest:            \n",
    "            second_largest = largest\n",
    "            largest = num\n",
    "        elif num>=second_largest and num!=largest:\n",
    "            second_largest = num\n",
    "    return second_largest+largest\n",
    "second_large([8,4,6,3,7,9])"
   ]
  },
  {
   "cell_type": "code",
   "execution_count": 252,
   "metadata": {},
   "outputs": [
    {
     "data": {
      "text/plain": [
       "11"
      ]
     },
     "execution_count": 252,
     "metadata": {},
     "output_type": "execute_result"
    }
   ],
   "source": [
    "# Write a python code to find the sum of the digits of the numbers\n",
    "def sum_of_digits(num):\n",
    "    lst = []\n",
    "    while num!=0:\n",
    "        digit = num%10\n",
    "        num = num//10\n",
    "        lst.append(digit)\n",
    "    return sum(lst)\n",
    "sum_of_digits(452)"
   ]
  },
  {
   "cell_type": "code",
   "execution_count": 264,
   "metadata": {},
   "outputs": [
    {
     "name": "stdout",
     "output_type": "stream",
     "text": [
      "1 153 370 371 407 "
     ]
    }
   ],
   "source": [
    "# Write a python code to find the armstrong numbers from given range\n",
    "def armstrong_number(num):\n",
    "    lst = []\n",
    "    while num!=0:\n",
    "        digits = num%10\n",
    "        num = num//10\n",
    "        lst.append(digits)\n",
    "    return sum([i**3 for i in lst])\n",
    "\n",
    "for i in range(1,1000):\n",
    "    if i == armstrong_number(i):\n",
    "        print(i, end = \" \")\n"
   ]
  },
  {
   "cell_type": "code",
   "execution_count": 276,
   "metadata": {},
   "outputs": [
    {
     "data": {
      "text/plain": [
       "'A2B2C3D4'"
      ]
     },
     "execution_count": 276,
     "metadata": {},
     "output_type": "execute_result"
    }
   ],
   "source": [
    "# Write a Python code to print AABBCCCDDDD as A2B2C3D4\n",
    "\n",
    "def string_pattern(input_str):\n",
    "    dict = {}\n",
    "    for i in input_str:\n",
    "        if i in dict:\n",
    "            dict[i] = dict[i] +1\n",
    "        else:\n",
    "            dict[i] = 1\n",
    "    result = \"\"\n",
    "    for k,v in dict.items():\n",
    "        result = result + k + str(v)\n",
    "    return result\n",
    "string_pattern(\"AABBCCCDDDD\")"
   ]
  },
  {
   "cell_type": "code",
   "execution_count": 287,
   "metadata": {},
   "outputs": [
    {
     "data": {
      "text/plain": [
       "([5, 6], 11)"
      ]
     },
     "execution_count": 287,
     "metadata": {},
     "output_type": "execute_result"
    }
   ],
   "source": [
    "# Python code to find sublist of continous elements which has max sum \n",
    "# lst = [1,-2,3,4,-1,2,1,-5,4]\n",
    "lst = [1,2,-3,-4,5,6]\n",
    "def sublist(lst):\n",
    "    sum_lst = []\n",
    "    for i in range(len(lst)):\n",
    "        for j in range(i+1, len(lst)+1):\n",
    "            new_lst = lst[i:j]\n",
    "            sum_temp = sum(new_lst)\n",
    "            sum_lst.append(sum_temp)\n",
    "            if sum_temp == max(sum_lst):\n",
    "                start = i\n",
    "                end = j\n",
    "                r_sum = sum_temp\n",
    "    return (lst[start:end],r_sum)\n",
    "sublist(lst)"
   ]
  },
  {
   "cell_type": "code",
   "execution_count": 309,
   "metadata": {},
   "outputs": [
    {
     "data": {
      "text/plain": [
       "[[1, 2], [-3, -4], [5, 6]]"
      ]
     },
     "execution_count": 309,
     "metadata": {},
     "output_type": "execute_result"
    }
   ],
   "source": [
    "# Write a python code to divide the given list in given number of equal chunks\n",
    "def equal_chunks(lst,k):\n",
    "    n = len(lst)//k\n",
    "    return [lst[i:i+n] for i in range(0,len(lst),n)]\n",
    "equal_chunks(lst,3)\n",
    "    "
   ]
  },
  {
   "cell_type": "code",
   "execution_count": 296,
   "metadata": {},
   "outputs": [
    {
     "data": {
      "text/plain": [
       "18"
      ]
     },
     "execution_count": 296,
     "metadata": {},
     "output_type": "execute_result"
    }
   ],
   "source": [
    "# Explain the decorator to add third number to function of addition of two numbers\n",
    "def decorator_to_add_3rd_num(func):\n",
    "    def wrapper(a,b,c):\n",
    "        result = func(a,b)+c\n",
    "        return result\n",
    "    return wrapper\n",
    "@decorator_to_add_3rd_num\n",
    "def sum_two(a,b):\n",
    "    return a+b\n",
    "sum_two(5,10,3)"
   ]
  },
  {
   "cell_type": "code",
   "execution_count": 301,
   "metadata": {},
   "outputs": [
    {
     "data": {
      "text/plain": [
       "'HELLO, DINESH!'"
      ]
     },
     "execution_count": 301,
     "metadata": {},
     "output_type": "execute_result"
    }
   ],
   "source": [
    "# Python code to demonstrate the concept of nested decorator\n",
    "def string_upper(func):\n",
    "    def wrapper(*args, **kwargs):\n",
    "        result = func(*args, **kwargs)\n",
    "        return result.upper()\n",
    "    return wrapper\n",
    "def string_excl(func):\n",
    "    def wrapper(*args, **kwargs):\n",
    "        result = func(*args, **kwargs)\n",
    "        return result+'!'\n",
    "    return wrapper\n",
    "@string_upper\n",
    "@string_excl\n",
    "def greet(name):\n",
    "    return f\"Hello, {name}\"\n",
    "\n",
    "greet(\"Dinesh\")"
   ]
  },
  {
   "cell_type": "code",
   "execution_count": 3,
   "metadata": {},
   "outputs": [
    {
     "name": "stdout",
     "output_type": "stream",
     "text": [
      "The numeric value of MIV is: 1004\n"
     ]
    }
   ],
   "source": [
    "def roman_to_int(roman):\n",
    "    roman_numerals = {'I': 1, 'V': 5, 'X': 10, 'L': 50, 'C': 100, 'D': 500, 'M': 1000}\n",
    "    result = 0\n",
    "    prev_value = 0\n",
    "    for numeral in reversed(roman):\n",
    "        value = roman_numerals[numeral]\n",
    "        if value < prev_value:\n",
    "            result -= value\n",
    "        else:\n",
    "            result += value\n",
    "        prev_value = value\n",
    "    return result\n",
    "# Example usage\n",
    "roman_numeral = \"MIV\"\n",
    "numeric_value = roman_to_int(roman_numeral)\n",
    "print(f'The numeric value of {roman_numeral} is: {numeric_value}')"
   ]
  },
  {
   "cell_type": "code",
   "execution_count": 32,
   "metadata": {},
   "outputs": [
    {
     "name": "stdout",
     "output_type": "stream",
     "text": [
      "* \n",
      "* * \n",
      "* * * \n",
      "* * * * \n",
      "* * * * * \n"
     ]
    }
   ],
   "source": [
    "# Python code to print simple traingle pattern\n",
    "def sip_tri(num):\n",
    "    for i in range(1,num+1):\n",
    "        print(\"* \"*i)\n",
    "sip_tri(5)"
   ]
  },
  {
   "cell_type": "code",
   "execution_count": 36,
   "metadata": {},
   "outputs": [
    {
     "name": "stdout",
     "output_type": "stream",
     "text": [
      "1 \n",
      "1 2 \n",
      "1 2 3 \n",
      "1 2 3 4 \n",
      "1 2 3 4 5 \n"
     ]
    }
   ],
   "source": [
    "# Python code to print simple traingle pattern with numbers\n",
    "def sip_tri_num(num):\n",
    "    for i in range(1,num+1):\n",
    "        for j in range(1, i+1):\n",
    "            print(str(j)+\" \", end = \"\")\n",
    "        print()\n",
    "sip_tri_num(5)"
   ]
  },
  {
   "cell_type": "code",
   "execution_count": 30,
   "metadata": {},
   "outputs": [
    {
     "name": "stdout",
     "output_type": "stream",
     "text": [
      "    1 \n",
      "   1 2 \n",
      "  1 2 3 \n",
      " 1 2 3 4 \n",
      "1 2 3 4 5 \n"
     ]
    }
   ],
   "source": [
    "# Python code to print tringle pattern with numbers\n",
    "def triangle(num):\n",
    "    for i in range(1,num+1):\n",
    "        print(\" \"*(num-i), end = \"\")\n",
    "        for j in range(1, i+1):\n",
    "            print(str(j)+\" \", end = \"\")\n",
    "        print()\n",
    "triangle(5)"
   ]
  },
  {
   "cell_type": "code",
   "execution_count": 37,
   "metadata": {},
   "outputs": [
    {
     "name": "stdout",
     "output_type": "stream",
     "text": [
      "    A \n",
      "   A B \n",
      "  A B C \n",
      " A B C D \n",
      "A B C D E \n"
     ]
    }
   ],
   "source": [
    "# Python code to print tringle pattern with letters\n",
    "def triangle_chr(num):\n",
    "    alpha = 65\n",
    "    for i in range(1,num+1):\n",
    "        print(\" \"*(num-i), end = \"\")\n",
    "        for j in range(1, i+1):\n",
    "            print(chr(alpha), end = \" \")\n",
    "            alpha +=1\n",
    "        alpha = 65\n",
    "        print()\n",
    "triangle_chr(5)\n"
   ]
  },
  {
   "cell_type": "code",
   "execution_count": 46,
   "metadata": {},
   "outputs": [
    {
     "name": "stdout",
     "output_type": "stream",
     "text": [
      "    * \n",
      "   * * \n",
      "  * * * \n",
      " * * * * \n",
      "* * * * * \n"
     ]
    }
   ],
   "source": [
    "# Python code to print tringle pattern with symbols\n",
    "def triangle1(num):\n",
    "    for i in range(1,num+1):\n",
    "        print(' '*(num-i)+ '* '*i)\n",
    "triangle1(5)"
   ]
  },
  {
   "cell_type": "code",
   "execution_count": 52,
   "metadata": {},
   "outputs": [
    {
     "name": "stdout",
     "output_type": "stream",
     "text": [
      "    *\n",
      "   **\n",
      "  ***\n",
      " ****\n",
      "*****\n"
     ]
    }
   ],
   "source": [
    "# Python code to print reverse triagnle pattern\n",
    "def rev_tri(num):\n",
    "    for i in range(1, num+1):\n",
    "        print(\" \"*(num-i)+\"*\"*i)\n",
    "rev_tri(5)"
   ]
  }
 ],
 "metadata": {
  "kernelspec": {
   "display_name": "Python 3",
   "language": "python",
   "name": "python3"
  },
  "language_info": {
   "codemirror_mode": {
    "name": "ipython",
    "version": 3
   },
   "file_extension": ".py",
   "mimetype": "text/x-python",
   "name": "python",
   "nbconvert_exporter": "python",
   "pygments_lexer": "ipython3",
   "version": "3.8.5"
  }
 },
 "nbformat": 4,
 "nbformat_minor": 4
}
